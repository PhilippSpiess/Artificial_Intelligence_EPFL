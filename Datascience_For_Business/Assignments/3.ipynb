{
 "cells": [
  {
   "cell_type": "markdown",
   "metadata": {},
   "source": [
    "# DSFB Assignment 3"
   ]
  },
  {
   "cell_type": "markdown",
   "metadata": {},
   "source": [
    "In this assignment, you will begine to work with data to build some basic models. "
   ]
  },
  {
   "cell_type": "markdown",
   "metadata": {},
   "source": [
    "## IMPORTS\n",
    "\n",
    "Here are a bunch of libraries that you may need to use..."
   ]
  },
  {
   "cell_type": "code",
   "execution_count": 6,
   "metadata": {},
   "outputs": [],
   "source": [
    "# Standard imports\n",
    "import numpy  as np\n",
    "import pandas as pd\n",
    "\n",
    "import itertools\n",
    "import random\n",
    "import math  \n",
    "\n",
    "# Plotting\n",
    "import matplotlib.pyplot as plt\n",
    "from matplotlib.colors import ListedColormap\n",
    "import matplotlib.patches as patches\n",
    "%matplotlib inline  \n",
    "import seaborn as sns\n",
    "sns.set(style=\"white\")\n",
    "\n",
    "# ignore some warnings \n",
    "import warnings\n",
    "warnings.filterwarnings('ignore')\n",
    "\n",
    "# Set a seed for replication\n",
    "SEED = 1  # Use this anywhere a stochastic function allows you to set a seed"
   ]
  },
  {
   "cell_type": "markdown",
   "metadata": {},
   "source": [
    "# PART 1: LOGIT MODEL (without sklearn)"
   ]
  },
  {
   "cell_type": "markdown",
   "metadata": {},
   "source": [
    "Suppose we collect data for a group of students in a course with the following variables:  \n",
    "\n",
    "    X1 = hours studied  \n",
    "    X2 = undergrad GPA  \n",
    "    Y = receive a grade of 4.0  "
   ]
  },
  {
   "cell_type": "code",
   "execution_count": 2,
   "metadata": {},
   "outputs": [],
   "source": [
    "# Suppose we fit a logit model to the data above and obtain the following coefficients:\n",
    "b0 = -5\n",
    "b1 = 0.1\n",
    "b2 = 1"
   ]
  },
  {
   "cell_type": "markdown",
   "metadata": {},
   "source": [
    "**PROBLEM**: Estimate the probability that a student who studies for 40 hours, and who has an undergrad GPA of 3.0, will get a 4.0 in the class."
   ]
  },
  {
   "cell_type": "code",
   "execution_count": 3,
   "metadata": {},
   "outputs": [
    {
     "name": "stdout",
     "output_type": "stream",
     "text": [
      "0.8807970779778823\n"
     ]
    }
   ],
   "source": [
    "# Estimate the probability and print it out\n",
    "X1 = 40\n",
    "X2 = 3.0\n",
    "y_prob = b0 + X1*b1 + X2*b2\n",
    "\n",
    "def sigmoid(scores): \n",
    "    return 1 / (1 + np.exp(-scores))\n",
    "\n",
    "print(sigmoid(y_prob))\n"
   ]
  },
  {
   "cell_type": "markdown",
   "metadata": {},
   "source": [
    "**PROBLEM**: How many hours would a student who has an undergrad GPA of 3.0 need to study to have an 80% chance of getting a grade of 4.0 in the class? Tip: You can do all of this on paper with math. But then type it into the markdown field below to show your work. Perform the very final (reduced) calculation in python to show the answer."
   ]
  },
  {
   "cell_type": "markdown",
   "metadata": {},
   "source": [
    "Show your work here to estimate the number of hours for X1:\n",
    "\n",
    "  _____0.8 = 1 / (1 + exp( - (-5 + h * 0.1 + 3 * 1 ) )\n",
    "  \n",
    "  _____Solving this yields: \n",
    "  \n",
    "  _____h = (2*np.log(2) + 2 ) / 0.1  so h= 33.86"
   ]
  },
  {
   "cell_type": "code",
   "execution_count": 17,
   "metadata": {},
   "outputs": [
    {
     "name": "stdout",
     "output_type": "stream",
     "text": [
      "33.86294361119891\n"
     ]
    }
   ],
   "source": [
    "# Use python to manually calculate that value:\n",
    "h =  (2*np.log(2) + 2 ) / 0.1\n",
    "print(h)\n",
    "\n"
   ]
  },
  {
   "cell_type": "markdown",
   "metadata": {},
   "source": [
    "**PROBLEM**: Use your solution from above (along with the estimated logit model coefficients given to you earlier) to show that the logit model would in fact predict a probability of 80%."
   ]
  },
  {
   "cell_type": "markdown",
   "metadata": {},
   "source": [
    "Show the calculation (written out, step-by-step) here:  \n",
    "\n",
    "  __y_prob = b0 + X1*b1 + X2*b2 = 5 + 33.86 * 0.1 + 3.0 * 1 = 1.386\n",
    "  ___\n",
    "  __p = 1 / (1 + np.exp(-y_prob) = 0.8\n",
    "  _____"
   ]
  },
  {
   "cell_type": "code",
   "execution_count": 4,
   "metadata": {},
   "outputs": [
    {
     "name": "stdout",
     "output_type": "stream",
     "text": [
      "Probability  = 0.8000\n"
     ]
    }
   ],
   "source": [
    "# Use Python to perform the calculation and show the result:\n",
    "X1= 33.86\n",
    "X2= 3.0\n",
    "y_prob =b0 + X1 *b1 + X2 *b2 \n",
    "\n",
    "def sigmoid(scores): \n",
    "    return 1 / (1 + np.exp(-scores))\n",
    "\n",
    "print('Probability  =', \"{0:.4f}\".format(sigmoid(y_prob)))\n",
    "\n",
    "\n",
    "\n",
    "\n"
   ]
  },
  {
   "cell_type": "markdown",
   "metadata": {},
   "source": [
    "# PART 2: PLOT ROC CURVES (without sklearn)"
   ]
  },
  {
   "cell_type": "markdown",
   "metadata": {},
   "source": [
    "Suppose you have the following labeled data: for each observation you are given a Positiveor Negative label and the predicted probability. The \"Positive\" case is labeled as 1, and the \"Negative\" case is labeled with 0. For example, an observation of (0, 0.45) means the truth value is Negative and the predicted probability of being positive is 0.45."
   ]
  },
  {
   "cell_type": "code",
   "execution_count": 6,
   "metadata": {},
   "outputs": [],
   "source": [
    "data = [\n",
    "    (1, 0.9),\n",
    "    (0, 0.8),\n",
    "    (1, 0.6),\n",
    "    (1, 0.4),\n",
    "    (0, 0.2)\n",
    "]\n"
   ]
  },
  {
   "cell_type": "markdown",
   "metadata": {},
   "source": [
    "**PROBLEM**: Calculate the True Positive Rate and the False Positive Rate at each observation. You may NOT use `sklearn` or any other supporting library for this problem - you must do everything in \"pure Python\". "
   ]
  },
  {
   "cell_type": "code",
   "execution_count": 8,
   "metadata": {},
   "outputs": [],
   "source": [
    "# Calculate TPR and FPR ???\n",
    "fpRate= []\n",
    "tpRate= []\n",
    "\n",
    "thresholds = np.linspace(0.0, 1.0, num=100)\n",
    "\n",
    "for t in thresholds:\n",
    "    tn=0\n",
    "    fp=0\n",
    "    fn=0\n",
    "    tp=0\n",
    "    for i in range(len(data)):\n",
    "        y_hat = data[i][1] > t  \n",
    "        if y_hat==0:\n",
    "            if y_hat == data[i][0]:\n",
    "                tn+=1\n",
    "            else:\n",
    "                fn+=1\n",
    "        if y_hat==1:\n",
    "            if y_hat == data[i][0]:\n",
    "                tp+=1\n",
    "            else:\n",
    "                fp+=1\n",
    "    fpRate.append(fp/ (fp+tn))\n",
    "    tpRate.append(tp/ (tp+fn))\n"
   ]
  },
  {
   "cell_type": "markdown",
   "metadata": {},
   "source": [
    "**PROBLEM**: Plot an ROC curve. You may NOT use `sklearn` or any other supporting library for this problem - you must do everything in \"pure Python\". "
   ]
  },
  {
   "cell_type": "code",
   "execution_count": 9,
   "metadata": {},
   "outputs": [
    {
     "data": {
      "image/png": "[encoded data removed]",
      "text/plain": [
       "<Figure size 432x288 with 1 Axes>"
      ]
     },
     "metadata": {
      "needs_background": "light"
     },
     "output_type": "display_data"
    }
   ],
   "source": [
    "# Plot the ROC Curve\n",
    "def plot_roc(fpr, tpr, title='ROC Curve', note=''):\n",
    "    plt.figure(1)\n",
    "    plt.plot([0, 1], [0, 1], 'k--')\n",
    "    plt.plot(fpr, tpr)\n",
    "    plt.xlabel('False positive rate')\n",
    "    plt.ylabel('True positive rate')\n",
    "    plt.title(title)\n",
    "    if note: plt.text(0.6, 0.2, note)\n",
    "    plt.show()\n",
    "\n",
    "plot_roc(fpRate, tpRate)\n",
    "\n"
   ]
  },
  {
   "cell_type": "markdown",
   "metadata": {},
   "source": [
    "# PART 3: AGGLOMERATIVE CLUSTERING (without sklearn)\n",
    "\n",
    "Suppose you have the following observations in a two-dimensional Euclidean space. Here we give you a dictionary with a label for the point, and the point in (x,y) coordinates. "
   ]
  },
  {
   "cell_type": "code",
   "execution_count": 31,
   "metadata": {},
   "outputs": [
    {
     "name": "stdout",
     "output_type": "stream",
     "text": [
      "[(1, 1)]\n"
     ]
    }
   ],
   "source": [
    "# Raw observations\n",
    "data   = [(1,1), (2,1), (5,1), (7,1), (1,5), (3,4), (4,5) ]\n",
    "labels = [ 'A',   'B',   'C',   'D',   'E',   'F',   'G']\n",
    "\n",
    "# Clusters of 1 observation, at lowest level\n",
    "a = [data[0], ]\n",
    "b = [data[1], ]\n",
    "c = [data[2], ]\n",
    "d = [data[3], ]\n",
    "e = [data[4], ]\n",
    "f = [data[5], ]\n",
    "g = [data[6], ]"
   ]
  },
  {
   "cell_type": "markdown",
   "metadata": {},
   "source": [
    "You may use the following function to plot the data..."
   ]
  },
  {
   "cell_type": "code",
   "execution_count": 11,
   "metadata": {},
   "outputs": [],
   "source": [
    "def plot_data(data, labels, xlim, ylim):\n",
    "    \"\"\" Function to plot a list of (x,y) coordinates, with optional lables. \n",
    "        \n",
    "        Args:  \n",
    "              data     A list of (x,y) point to plot\n",
    "              labels   A list of text labels, in same order as data.\n",
    "    \"\"\"\n",
    "    \n",
    "    fig, ax = plt.subplots()\n",
    "    for point, label in zip(data, labels):\n",
    "        ax.scatter(point[0], point[1], c='black')\n",
    "        if labels: ax.annotate(label, point, textcoords=\"offset points\", xytext=(1,10))\n",
    "    ax.set_xlim(xlim)\n",
    "    ax.set_ylim(ylim)\n",
    "    ax.grid(True)\n",
    "    return fig, ax"
   ]
  },
  {
   "cell_type": "code",
   "execution_count": 12,
   "metadata": {},
   "outputs": [
    {
     "data": {
      "image/png": "[encoded data removed]",
      "text/plain": [
       "<Figure size 432x288 with 1 Axes>"
      ]
     },
     "metadata": {
      "needs_background": "light"
     },
     "output_type": "display_data"
    }
   ],
   "source": [
    "plot_data(data, labels, xlim=(0,8), ylim=(0,6))\n",
    "pass"
   ]
  },
  {
   "cell_type": "markdown",
   "metadata": {},
   "source": [
    "**PROBLEM**: Write a custom function in pure Python to calculate the Euclidean straight-line distance between any two points with (x,y) coordinates."
   ]
  },
  {
   "cell_type": "code",
   "execution_count": 42,
   "metadata": {},
   "outputs": [],
   "source": [
    "def distance(point_a, point_b):\n",
    "    \"\"\" Function to calculate and return the Euclidean straight distance between any two points with (x,y) coordinates.\n",
    "        \n",
    "        Args:  \n",
    "               point_a   (x,y) of point a\n",
    "               point_b   (x,y) of point b\n",
    "    \"\"\"\n",
    "    dist = np.sqrt((point_b[1]-point_a[1]) * (point_b[1]-point_a[1]) + (point_b[0]-point_a[0]) * (point_b[0]-point_a[0]))\n",
    "    return dist\n",
    "   \n",
    "    \n",
    "    "
   ]
  },
  {
   "cell_type": "markdown",
   "metadata": {},
   "source": [
    "**PROBLEM**: Write a custom function in pure Python to calculate a Euclidean distance matrix between a list of points; return a quasi-matrix as a pure Python \"list of lists.\""
   ]
  },
  {
   "cell_type": "code",
   "execution_count": 43,
   "metadata": {},
   "outputs": [],
   "source": [
    "def distance_matrix(points):\n",
    "    \"\"\" Function to calculate the point to point distances between a list of points.\n",
    "        Return values in a quasi-\"matrix\" in the pure python form of a list-of-lists.\n",
    "        \n",
    "        Args:      \n",
    "              points      A list of coordinates. For example: [(1,3), (4,9), (5,7)]\n",
    "    \"\"\"\n",
    "    distances = []\n",
    "    distance_list = []\n",
    "    \n",
    "    for point_a in points:\n",
    "        for point_b in points:\n",
    "                distance_ = distance(point_a, point_b)\n",
    "                distances.append(distance_)\n",
    "                \n",
    "        distance_list.append(distances)\n",
    "        distances = []\n",
    "    return distance_list\n",
    "    \n",
    "    "
   ]
  },
  {
   "cell_type": "markdown",
   "metadata": {},
   "source": [
    "**PROBLEM**: Write a custom function in pure Python to calculate the centroid of a cluster of coordinates."
   ]
  },
  {
   "cell_type": "code",
   "execution_count": 44,
   "metadata": {},
   "outputs": [],
   "source": [
    "def centroid(points):\n",
    "    \"\"\" Function to calculate and return the (x,y) coordinates for the centroid of a list of such (x,y) coordinates.\n",
    "        Args:  \n",
    "              points      A list of coordinates for the cluster. For example: [(1,3), (4,9), (5,7)]\n",
    "    \"\"\"\n",
    "    points_numbers = len(points)\n",
    "    x_sum = 0\n",
    "    y_sum = 0\n",
    "    \n",
    "    for point in points:\n",
    "        x_sum += point[0]\n",
    "        x_sum += point[1]\n",
    "        \n",
    "    return (x_sum/points_numbers, y_sum/points_numbers)\n",
    "            \n",
    "    \n",
    "    "
   ]
  },
  {
   "cell_type": "markdown",
   "metadata": {},
   "source": [
    "**PROBLEM**: Write a custom function in pure Python to calculate the Euclidean distance between the closest points between two different clusters."
   ]
  },
  {
   "cell_type": "code",
   "execution_count": 45,
   "metadata": {},
   "outputs": [],
   "source": [
    "def separation(cluster_a, cluster_b):\n",
    "    \"\"\" Function to calculate and return the Euclidean distance between the closest points between two different clusters.\n",
    "        \n",
    "        Args:  \n",
    "              points      A list of coordinates for the cluster. For example: [(1,3), (4,9), (5,7)]\n",
    "    \"\"\"\n",
    "    min_distance=distance(cluster_a[0], cluster_b[0])\n",
    "  \n",
    "    for point_a in cluster_a:\n",
    "        for point_b in cluster_b:\n",
    "            distance_ = distance(point_a, point_b)\n",
    "            if distance_ < min_distance:\n",
    "                min_distance = distance_\n",
    " \n",
    "    return min_distance\n",
    "   \n",
    "    \n",
    "\n",
    "    "
   ]
  },
  {
   "cell_type": "markdown",
   "metadata": {},
   "source": [
    "**PROBLEM**: Write a custom function in pure Python to calculate the distortion of a cluster. Define \"distortion\" as the sum of the squared distances of each point to the centroid of the cluster."
   ]
  },
  {
   "cell_type": "code",
   "execution_count": 46,
   "metadata": {},
   "outputs": [],
   "source": [
    "def distortion(points):\n",
    "    \"\"\" Function to calculate and return the distortion of a cluster. \n",
    "        Distortion is defined as the sum of the squared distances of each point to the centroid of the cluster.\n",
    "        \n",
    "        Args:  \n",
    "              points      A list of coordinates for the cluster. For example: [(1,3), (4,9), (5,7)]\n",
    "    \"\"\"\n",
    "    distortion = 0\n",
    "    center =  centroid(points)\n",
    "    for point_a in points:\n",
    "        for point_b in points:\n",
    "            distortion += distance(point_a, point_b)\n",
    "        \n",
    "    return distortion\n",
    "\n",
    "    "
   ]
  },
  {
   "cell_type": "markdown",
   "metadata": {},
   "source": [
    "**PROBLEM**:  Use the custom distance_matrix() function coded above to calculate the distance matrix between all observations. Try to print this out in a readable format (optional)."
   ]
  },
  {
   "cell_type": "code",
   "execution_count": 47,
   "metadata": {},
   "outputs": [
    {
     "name": "stdout",
     "output_type": "stream",
     "text": [
      "[0.0, 1.0, 4.0, 6.0, 4.0, 3.605551275463989, 5.0]\n",
      "[1.0, 0.0, 3.0, 5.0, 4.123105625617661, 3.1622776601683795, 4.47213595499958]\n",
      "[4.0, 3.0, 0.0, 2.0, 5.656854249492381, 3.605551275463989, 4.123105625617661]\n",
      "[6.0, 5.0, 2.0, 0.0, 7.211102550927978, 5.0, 5.0]\n",
      "[4.0, 4.123105625617661, 5.656854249492381, 7.211102550927978, 0.0, 2.23606797749979, 3.0]\n",
      "[3.605551275463989, 3.1622776601683795, 3.605551275463989, 5.0, 2.23606797749979, 0.0, 1.4142135623730951]\n",
      "[5.0, 4.47213595499958, 4.123105625617661, 5.0, 3.0, 1.4142135623730951, 0.0]\n"
     ]
    }
   ],
   "source": [
    "# Calc and print distance matrix between all observations\n",
    "distance_matrix = distance_matrix(data)\n",
    "for dist in distance_matrix:\n",
    "    print(dist)"
   ]
  },
  {
   "cell_type": "markdown",
   "metadata": {},
   "source": [
    "**PROBLEM**: We started with seven \"clusters\" with one observation in each cluster. Now use hierarchical agglomerative clustering to fuse the data together (going from the bottom up). Use the distance matrix above to help you perform this step. You may do it manually (by inspecting the matrix) or you may do it programmatically. Once you decide the proper order of fusing clusters, make variable assignments by updating the code below."
   ]
  },
  {
   "cell_type": "code",
   "execution_count": 48,
   "metadata": {},
   "outputs": [],
   "source": [
    "# Define the next 6 clusters by defining a variable that holds a list of all the points in that cluster\n",
    "clust1 = [data[0], data[1]]\n",
    "clust2 = [data[2], ]\n",
    "clust3 = [data[3], ]\n",
    "clust4 = [data[4], ]\n",
    "clust5 = [data[5], ]\n",
    "clust6 = [data[6], ]"
   ]
  },
  {
   "cell_type": "markdown",
   "metadata": {},
   "source": [
    "**PROBLEM**: Summarize the clustering process by printing out values for the items in the cluser, the separation distance between the old relevant clusters before fusing, the internal distortion within the new cluster after fusing, and the members of the new cluster after fusing."
   ]
  },
  {
   "cell_type": "code",
   "execution_count": 51,
   "metadata": {},
   "outputs": [
    {
     "name": "stdout",
     "output_type": "stream",
     "text": [
      " CLUSTER    DISTANCE       DISTORTION      MEMBERS\n",
      "    1         1.0             2.0          A+B\n",
      "    2          0               0           C\n",
      "    3          0               0           D\n",
      "    4          0               0           E\n",
      "    5          0               0           F\n",
      "    6          0               0           G\n"
     ]
    }
   ],
   "source": [
    "# Print out the following values for each of the clusters with 2 or more observations in them\n",
    "print('CLUSTER'.center(10), 'DISTANCE'.center(10), 'DISTORTION'.center(20), 'MEMBERS')\n",
    "\n",
    "print('1'.center(10), str(separation(a,b)).center(10), str(distortion(clust1)).center(20), 'A+B')\n",
    "print('2'.center(10), '0'.center(10), '0'.center(20), 'C')\n",
    "print('3'.center(10), '0'.center(10), '0'.center(20), 'D')\n",
    "print('4'.center(10), '0'.center(10), '0'.center(20), 'E')\n",
    "print('5'.center(10), '0'.center(10), '0'.center(20), 'F')\n",
    "print('6'.center(10), '0'.center(10), '0'.center(20), 'G')"
   ]
  },
  {
   "cell_type": "markdown",
   "metadata": {},
   "source": [
    "**PROBLEM**: Plot the data again, but this time also plot a rectangle around each cluster, fusing clusters upward until everything is in just one cluster. TIP: You can use the plot_data() function from before, and the plot_cluster() function below, to help you with the plotting."
   ]
  },
  {
   "cell_type": "code",
   "execution_count": 52,
   "metadata": {},
   "outputs": [],
   "source": [
    "# You can use this function to add an illustrative box around a given cluster of points in a plot\n",
    "def plot_cluster(ax, cluster):\n",
    "    \"\"\" Function to add an illustrative box around a given cluster of points in a plot.\n",
    "    \n",
    "        Args:  \n",
    "              ax        An axis object from calling plt.subplots() in matplotlib\n",
    "              cluster   A list of coordinates for the cluster. For example: [(1,3), (4,9), (5,7)]\n",
    "    \"\"\"\n",
    "    padding = len(cluster)**2 * 0.05\n",
    "    min_x   = min([x for (x,y) in cluster]) - 0.5 - padding\n",
    "    max_x   = max([x for (x,y) in cluster]) - 0.5 + padding\n",
    "    min_y   = min([y for (x,y) in cluster]) - 0.5 - padding\n",
    "    max_y   = max([y for (x,y) in cluster]) - 0.5 + padding\n",
    "    width   = max_x - min_x + 1  \n",
    "    height  = max_y - min_y + 1.25  \n",
    "    ax.add_patch(patches.Rectangle((min_x,min_y), width, height, linewidth=2, edgecolor='r',facecolor='none'))"
   ]
  },
  {
   "cell_type": "code",
   "execution_count": 59,
   "metadata": {},
   "outputs": [
    {
     "data": {
      "image/png": "[encoded data removed]",
      "text/plain": [
       "<Figure size 432x288 with 1 Axes>"
      ]
     },
     "metadata": {
      "needs_background": "light"
     },
     "output_type": "display_data"
    }
   ],
   "source": [
    "# Plot the Data and plot a box around each hierarchical cluster\n",
    "fig, ax = plot_data(data, labels, xlim=(0,8), ylim=(0,6))\n",
    "n_cluster = 6\n",
    "for i in range(6):\n",
    "    clust = eval('clust'+str(i+1)) \n",
    "    plot_cluster(ax, clust)\n",
    "    \n",
    "\n"
   ]
  },
  {
   "cell_type": "markdown",
   "metadata": {},
   "source": [
    "**PROBLEM**: Using the data you have calculated above, now plot a dendogram below. You may do this manually usinge the `images/A3-Fig-2.png` file and editing it in an image editing program (save your edits to that file, and commit changes to your repository). Or try to use special functions in matplot lib to plot it directly."
   ]
  },
  {
   "cell_type": "markdown",
   "metadata": {},
   "source": [
    "<img src=\"images/dendogram.png\" width=\"800\" height=\"800\" align=\"center\"/>"
   ]
  },
  {
   "cell_type": "markdown",
   "metadata": {},
   "source": [
    "**PROBLEM**: Using your dendogram, report which observations would be grouped together if you had three clusters."
   ]
  },
  {
   "cell_type": "markdown",
   "metadata": {},
   "source": [
    "Cluster 1: ___A , B_________ "
   ]
  },
  {
   "cell_type": "markdown",
   "metadata": {},
   "source": [
    "Cluster 2: ___E , F, G_________ "
   ]
  },
  {
   "cell_type": "markdown",
   "metadata": {},
   "source": [
    "Cluster 3: ___C, D_________"
   ]
  },
  {
   "cell_type": "markdown",
   "metadata": {},
   "source": [
    "**PROBLEM**: Using your dendogram, report which observations would be grouped together if you had five clusters."
   ]
  },
  {
   "cell_type": "markdown",
   "metadata": {},
   "source": [
    "Cluster 1: ____A, B________ "
   ]
  },
  {
   "cell_type": "markdown",
   "metadata": {},
   "source": [
    "Cluster 2: ___C_________ "
   ]
  },
  {
   "cell_type": "markdown",
   "metadata": {},
   "source": [
    "Cluster 3: _____D_______"
   ]
  },
  {
   "cell_type": "markdown",
   "metadata": {},
   "source": [
    "Cluster 4: __E__________"
   ]
  },
  {
   "cell_type": "markdown",
   "metadata": {},
   "source": [
    "Cluster 5: ___F, G_________"
   ]
  },
  {
   "cell_type": "markdown",
   "metadata": {},
   "source": [
    "# **PART 4**: NOW WE RETURN TO CREDIT DEFAULT PREDICTIONS AS IN ASSIGNMENT 2\n",
    "Repeat the analysis using a logit model. You can start with the code below, as it shows you how to setup, fit, and predict with a logit model in sklearn."
   ]
  },
  {
   "cell_type": "markdown",
   "metadata": {},
   "source": [
    "We now return to the problem of trying to predict the probability of defaulting on a credit card account at a Taiwanese bank. A credit card default happens when a customer fails to pay the minimum due on a credit card bill for more than 6 months. \n",
    "\n",
    "We will use a dataset from a Taiwanese bank with 30,000 observations (Source: *Yeh, I. C., & Lien, C. H. (2009). The comparisons of data mining techniques for the predictive accuracy of probability of default of credit card clients. Expert Systems with Applications, 36(2), 2473-2480.*). Each observation represents an account at the bank at the end of October 2005.  We renamed the variable default_payment_next_month to customer_default. The target variable to predict is `customer_default` -- i.e., whether the customer will default in the following month (1 = Yes or 0 = No). The dataset also includes 23 other explanatory features. \n",
    "\n",
    "Variables are defined as follows:"
   ]
  },
  {
   "cell_type": "markdown",
   "metadata": {},
   "source": [
    "| Feature name     | Variable Type | Description \n",
    "|------------------|---------------|--------------------------------------------------------\n",
    "| customer_default | Binary        | 1 = default in following month; 0 = no default \n",
    "| LIMIT_BAL        | Continuous    | Credit limit   \n",
    "| SEX              | Categorical   | 1 = male; 2 = female\n",
    "| EDUCATION        | Categorical   | 1 = graduate school; 2 = university; 3 = high school; 4 = others\n",
    "| MARRIAGE         | Categorical   | 0 = unknown; 1 = married; 2 = single; 3 = others\n",
    "| AGE              | Continuous    | Age in years  \n",
    "| PAY1             | Categorical   | Repayment status in September, 2005 \n",
    "| PAY2             | Categorical   | Repayment status in August, 2005 \n",
    "| PAY3             | Categorical   | Repayment status in July, 2005 \n",
    "| PAY4             | Categorical   | Repayment status in June, 2005 \n",
    "| PAY5             | Categorical   | Repayment status in May, 2005 \n",
    "| PAY6             | Categorical   | Repayment status in April, 2005 \n",
    "| BILL_AMT1        | Continuous    | Balance in September, 2005  \n",
    "| BILL_AMT2        | Continuous    | Balance in August, 2005  \n",
    "| BILL_AMT3        | Continuous    | Balance in July, 2005  \n",
    "| BILL_AMT4        | Continuous    | Balance in June, 2005 \n",
    "| BILL_AMT5        | Continuous    | Balance in May, 2005  \n",
    "| BILL_AMT6        | Continuous    | Balance in April, 2005  \n",
    "| PAY_AMT1         | Continuous    | Amount paid in September, 2005\n",
    "| PAY_AMT2         | Continuous    | Amount paid in August, 2005\n",
    "| PAY_AMT3         | Continuous    | Amount paid in July, 2005\n",
    "| PAY_AMT4         | Continuous    | Amount paid in June, 2005\n",
    "| PAY_AMT5         | Continuous    | Amount paid in May, 2005\n",
    "| PAY_AMT6         | Continuous    | Amount paid in April, 2005"
   ]
  },
  {
   "cell_type": "markdown",
   "metadata": {},
   "source": [
    "The measurement scale for repayment status is:   \n",
    "\n",
    "    -2 = payment two months in advance   \n",
    "    -1 = payment one month in advance   \n",
    "    0 = pay duly   \n",
    "    1 = payment delay for one month   \n",
    "    2 = payment delay for two months   \n",
    "    3 = payment delay for three months   \n",
    "    4 = payment delay for four months   \n",
    "    5 = payment delay for five months   \n",
    "    6 = payment delay for six months   \n",
    "    7 = payment delay for seven months   \n",
    "    8 = payment delay for eight months   \n",
    "    9 = payment delay for nine months or more  "
   ]
  },
  {
   "cell_type": "markdown",
   "metadata": {},
   "source": [
    "### **Setup AGAIN**  "
   ]
  },
  {
   "cell_type": "markdown",
   "metadata": {},
   "source": [
    "We purposefully have two different setup sections for this assignment. In the sections above you could not use sklearn, so we did not want to import those libraries. Now you CAN use sklearn.\n",
    "\n",
    "**From now on in this assignment, you CAN use sklearn !**"
   ]
  },
  {
   "cell_type": "markdown",
   "metadata": {},
   "source": [
    "### Imports"
   ]
  },
  {
   "cell_type": "code",
   "execution_count": 1,
   "metadata": {},
   "outputs": [],
   "source": [
    "# Standard imports\n",
    "import numpy  as np\n",
    "import pandas as pd\n",
    "import tensorflow as tf\n",
    "from tensorflow import keras\n",
    "\n",
    "import itertools\n",
    "import pandas_profiling\n",
    "\n",
    "# Plotting\n",
    "import matplotlib.pyplot as plt\n",
    "from matplotlib.colors import ListedColormap\n",
    "%matplotlib inline  \n",
    "import seaborn as sns\n",
    "sns.set(style=\"white\")\n",
    "\n",
    "# scikit-learn\n",
    "from sklearn.dummy           import DummyClassifier\n",
    "from sklearn.linear_model    import LogisticRegression\n",
    "from sklearn.svm             import SVC\n",
    "from sklearn.neighbors       import KNeighborsClassifier\n",
    "from sklearn.tree            import DecisionTreeClassifier\n",
    "from sklearn.ensemble        import RandomForestClassifier\n",
    "from sklearn.ensemble        import GradientBoostingClassifier\n",
    "\n",
    "# Supporting functions from scikit-learn\n",
    "from sklearn.metrics         import confusion_matrix\n",
    "from sklearn.metrics         import roc_curve\n",
    "from sklearn.metrics         import roc_auc_score\n",
    "from sklearn.pipeline        import Pipeline\n",
    "from sklearn.preprocessing   import StandardScaler\n",
    "from sklearn.model_selection import train_test_split\n",
    "from sklearn.tree            import export_graphviz\n",
    "from sklearn.decomposition   import PCA\n",
    "\n",
    "# ignore some warnings \n",
    "import warnings\n",
    "warnings.filterwarnings('ignore')"
   ]
  },
  {
   "cell_type": "markdown",
   "metadata": {},
   "source": [
    "### Constants"
   ]
  },
  {
   "cell_type": "code",
   "execution_count": 2,
   "metadata": {},
   "outputs": [],
   "source": [
    "# Set a seed for replication\n",
    "SEED = 1"
   ]
  },
  {
   "cell_type": "markdown",
   "metadata": {},
   "source": [
    "### Custom Functions"
   ]
  },
  {
   "cell_type": "markdown",
   "metadata": {},
   "source": [
    "We will also define a few \"helper functions\" to automate repetitive tasks that we will perform below."
   ]
  },
  {
   "cell_type": "code",
   "execution_count": 3,
   "metadata": {},
   "outputs": [],
   "source": [
    "def plot_confusion_matrix(cm, classes=[0,1], normalize=False, title='Confusion Matrix', cmap=plt.cm.Reds):\n",
    "    \"\"\" \n",
    "    Function to plot a sklearn confusion matrix, showing number of cases per prediction condition \n",
    "    \n",
    "    Args:\n",
    "        cm         an sklearn confusion matrix\n",
    "        classes    levels of the class being predicted; default to binary outcome\n",
    "        normalize  apply normalization by setting `normalize=True`\n",
    "        title      title for the plot\n",
    "        cmap       color map\n",
    "    \"\"\"\n",
    "    plt.imshow(cm, interpolation='nearest', cmap=cmap)\n",
    "    plt.title(title)\n",
    "    plt.colorbar()\n",
    "    tick_marks = np.arange(len(classes))\n",
    "    plt.xticks(tick_marks, classes, rotation=45)\n",
    "    plt.yticks(tick_marks, classes)\n",
    "    if normalize:\n",
    "        cm = cm.astype('float') / cm.sum(axis=1)[:, np.newaxis]\n",
    "    thresh = cm.max() / 2.0\n",
    "    for i, j in itertools.product(range(cm.shape[0]), range(cm.shape[1])):\n",
    "        plt.text(j, i, round (cm[i, j],2), horizontalalignment=\"center\",\n",
    "                 color=\"white\" if cm[i, j] > thresh else \"black\")\n",
    "    plt.tight_layout()\n",
    "    plt.ylabel('Actual label')\n",
    "    plt.xlabel('Predicted label')"
   ]
  },
  {
   "cell_type": "code",
   "execution_count": 4,
   "metadata": {},
   "outputs": [],
   "source": [
    "def plot_roc(fpr, tpr, title='ROC Curve', note=''):\n",
    "    \"\"\"\n",
    "    Function to plot an ROC curve in a consistent way.\n",
    "    \n",
    "    Args:\n",
    "        fpr        False Positive Rate (list of multiple points)\n",
    "        tpr        True Positive Rate (list of multiple points)\n",
    "        title      Title above the plot\n",
    "        note       Note to display in the bottom-right of the plot\n",
    "    \"\"\"\n",
    "    plt.figure(1)\n",
    "    plt.plot([0, 1], [0, 1], 'k--')\n",
    "    plt.plot(fpr, tpr)\n",
    "    plt.xlabel('False positive rate')\n",
    "    plt.ylabel('True positive rate')\n",
    "    plt.title(title)\n",
    "    if note: plt.text(0.6, 0.2, note)\n",
    "    plt.show()"
   ]
  },
  {
   "cell_type": "code",
   "execution_count": 5,
   "metadata": {},
   "outputs": [],
   "source": [
    "def print_feature_importance(tree_model, feature_names):\n",
    "    \"\"\"\n",
    "    Function to print a list of features from an sklearn tree model (ranked by importance of the feature)\n",
    "    \n",
    "    Args:\n",
    "        tree_model       A sklearn DecisionTreeClassifier()\n",
    "        feature_names    A list of features used by the DecisionTreeClassifier\n",
    "    \"\"\"\n",
    "    print('Feature'.center(12), '   ',  'Importance')\n",
    "    print('=' * 30)\n",
    "    for index in reversed(np.argsort(tree_model.feature_importances_)):\n",
    "        print(str(feature_names[index]).center(12) , '   ', '{0:.4f}'.format(tree_model.feature_importances_[index]).center(8)) "
   ]
  },
  {
   "cell_type": "markdown",
   "metadata": {},
   "source": [
    "### **Load and Preprocess Data**"
   ]
  },
  {
   "cell_type": "code",
   "execution_count": 6,
   "metadata": {},
   "outputs": [],
   "source": [
    "# Load Data\n",
    "data = pd.read_csv('data/credit_data.csv')\n",
    "\n",
    "# One-hot-encode SEX and MARRIAGE  \n",
    "data = pd.get_dummies(data=data, columns=['SEX', 'MARRIAGE'])\n",
    "\n",
    "# Sort Columns alphabetically\n",
    "data = data.reindex(sorted(data.columns), axis=1)\n",
    "\n",
    "# Move target variable to first column (not necessary, but easier to see)\n",
    "data = data.set_index('customer_default').reset_index() \n",
    "\n",
    "# Select target\n",
    "y = np.array(data['customer_default'])\n",
    "\n",
    "# Select features \n",
    "features = list(set(list(data.columns)) - set(['customer_default']))\n",
    "X = data.loc[:, features]"
   ]
  },
  {
   "cell_type": "markdown",
   "metadata": {},
   "source": [
    "## A Discussion of Models and Results from Assignment 2..."
   ]
  },
  {
   "cell_type": "markdown",
   "metadata": {},
   "source": [
    "What might we do to improve our prediction models from Assignment 2?"
   ]
  },
  {
   "cell_type": "markdown",
   "metadata": {},
   "source": [
    "**Accuracy?**\n",
    "\n",
    "To improve the accuracy, we can select only the most relevant features to use for the logit model"
   ]
  },
  {
   "cell_type": "markdown",
   "metadata": {},
   "source": [
    "**PROBLEM**: Note that the logit model in Assignment 2 did WORSE than the baseline model in Assignment 2 (at least when predicting class labels with a default probability threshold and when evaluated by the total number of errors made by the model). Using accuracy to compare models, however, as two drawbacks for the credit default problem. Describe those problems and potential solutions."
   ]
  },
  {
   "cell_type": "markdown",
   "metadata": {},
   "source": [
    "ANSWER: ____Accuracy does not take into account the difference in cost of a false positive or a false negative. A solution can be to add an importance weight to one or the other. \n",
    "Accuracy is also a problem for imbalanced data. A solution can be to again weight a class differently than the other.\n",
    "\n"
   ]
  },
  {
   "cell_type": "markdown",
   "metadata": {},
   "source": [
    "**PROBLEM**: When do we need to standardize data?"
   ]
  },
  {
   "cell_type": "markdown",
   "metadata": {},
   "source": [
    "ANSWER: ____It is important to standardize the data so that all features can contribute the same way.____ \n",
    "\n"
   ]
  },
  {
   "cell_type": "markdown",
   "metadata": {},
   "source": [
    "**PROBLEM**: When do we need to use a _Pipeline_? (And what is an sklearn Pipeline, anyway?) TIP: You will need to do some self-directed learning about pipelines in sklearn..."
   ]
  },
  {
   "cell_type": "markdown",
   "metadata": {},
   "source": [
    "ANSWER: ___We should use pipeline when we need to assemble several steps that will be cross-validated together while setting different parameters._____ \n"
   ]
  },
  {
   "cell_type": "markdown",
   "metadata": {},
   "source": [
    "**PROBLEM**: Was our training/testing method in Assignment 2 robust? What would make it more robust?"
   ]
  },
  {
   "cell_type": "markdown",
   "metadata": {},
   "source": [
    "ANSWER: _It was not robust, because comparing models with every time the same testing set is a way overfitting too.\n",
    "We gain knowledge from the test set by making model comparisions. To make it more robust, we can make an additional validation set to compare models and than only test the test set once.\n"
   ]
  },
  {
   "cell_type": "markdown",
   "metadata": {},
   "source": [
    "**PROBLEM**: For all of the problems that follow, divide the data into three parts:  **training** (60%), **validation** (20%) and **test** (20%). In the python code, refer to those subsets as: \n",
    "\n",
    "| Subset      |  Pct.  |  X code var     | Target code var |\n",
    "|-------------|--------|-----------------|-----------------|\n",
    "| training    |  60%   |  X_train_train  | y_train_train\n",
    "| validation  |  20%   | X_train_val     | y_train_val\n",
    "| testing     |  20%   | X_test          | y_test\n"
   ]
  },
  {
   "cell_type": "code",
   "execution_count": 7,
   "metadata": {},
   "outputs": [],
   "source": [
    "# Use the sklearn train_test_split() function to split data into \"train\", \"validation\", and \"test\" \n",
    "\n",
    "X_train, X_test, y_train, y_test                        = train_test_split(X, y, test_size=0.20, random_state=1, stratify=y)\n",
    "\n",
    "X_train_train, X_train_val, y_train_train, y_train_val  =train_test_split(X_train, y_train, test_size=0.25, random_state=1, stratify=y_train)\n"
   ]
  },
  {
   "cell_type": "markdown",
   "metadata": {},
   "source": [
    "# **PART 5**: Logit Model with L1 Regularization (\"Lasso\")\n",
    "Predict credit default using a logit model. We give you a start with the code below, as it shows you how to setup, fit, and predict with a pipeline in sklearn."
   ]
  },
  {
   "cell_type": "code",
   "execution_count": 14,
   "metadata": {},
   "outputs": [
    {
     "data": {
      "text/plain": [
       "Pipeline(memory=None,\n",
       "         steps=[('standardize',\n",
       "                 StandardScaler(copy=True, with_mean=True, with_std=True)),\n",
       "                ('logit_model_l1',\n",
       "                 LogisticRegression(C=1.0, class_weight=None, dual=False,\n",
       "                                    fit_intercept=True, intercept_scaling=1,\n",
       "                                    l1_ratio=None, max_iter=100,\n",
       "                                    multi_class='warn', n_jobs=None,\n",
       "                                    penalty='l1', random_state=None,\n",
       "                                    solver='warn', tol=0.0001, verbose=0,\n",
       "                                    warm_start=False))],\n",
       "         verbose=False)"
      ]
     },
     "execution_count": 14,
     "metadata": {},
     "output_type": "execute_result"
    }
   ],
   "source": [
    "# Build pipeline   \n",
    "estimators = []\n",
    "estimators.append(('standardize', StandardScaler()))         # tell it to standardize features\n",
    "estimators.append(('logit_model_l1', LogisticRegression()))  # tell it to use a logit model\n",
    "pipeline = Pipeline(estimators) \n",
    "pipeline.set_params(logit_model_l1__penalty='l1')            # tell it to regularize with L1 norm"
   ]
  },
  {
   "cell_type": "markdown",
   "metadata": {},
   "source": [
    "Tune for the optimal amount of regularization (the tuning parameter `c` in sklearn). We will again give you this code to show you the general pattern for how to setup hyper-parameter tuning in sklearn."
   ]
  },
  {
   "cell_type": "code",
   "execution_count": 68,
   "metadata": {},
   "outputs": [],
   "source": [
    "# Tune C  \n",
    "results = []\n",
    "for c in np.logspace(-4, 5, 10):\n",
    "    pipeline.set_params(logit_model_l1__C=c) \n",
    "    pipeline.fit(X_train_train,y_train_train)\n",
    "    y_train_pred = pipeline.predict_proba(X_train_val)       # use validation set during hyper-parameter tuning\n",
    "    auc_lml1 = roc_auc_score(y_train_val, y_train_pred[:,1])   \n",
    "    results.append( (auc_lml1, c)  )\n",
    "logit_model_l1 = pipeline.named_steps['logit_model_l1']      # capture model so we can use it later"
   ]
  },
  {
   "cell_type": "markdown",
   "metadata": {},
   "source": [
    "**PROBLEM**: Make a table of the results from hyper-parameter tuning so you can inspect them. "
   ]
  },
  {
   "cell_type": "code",
   "execution_count": 69,
   "metadata": {},
   "outputs": [
    {
     "name": "stdout",
     "output_type": "stream",
     "text": [
      "0.5        0.0001\n",
      "0.6891510353614723        0.001\n",
      "0.715884239996607        0.01\n",
      "0.7201081877630493        0.1\n",
      "0.7208451572317105        1.0\n",
      "0.7208988576328185        10.0\n",
      "0.720905469393916        100.0\n",
      "0.7209054693939161        1000.0\n",
      "0.720905469393916        10000.0\n",
      "0.7209036955067922        100000.0\n"
     ]
    }
   ],
   "source": [
    "# View results \n",
    "for result in results:\n",
    "    print(result[0], end = '')\n",
    "    print(\"        \", end = '')\n",
    "    print(result[1])\n"
   ]
  },
  {
   "cell_type": "markdown",
   "metadata": {},
   "source": [
    "**PROBLEM**: Pick what you believe to be the \"best\" value for c. Justify your selection. "
   ]
  },
  {
   "cell_type": "code",
   "execution_count": 70,
   "metadata": {},
   "outputs": [
    {
     "name": "stdout",
     "output_type": "stream",
     "text": [
      "1000.0\n"
     ]
    }
   ],
   "source": [
    "# Select best C  \n",
    "C=0\n",
    "res=0\n",
    "for result in results:\n",
    "    if (result[0] > res):\n",
    "        res = result[0]\n",
    "        C = result[1]\n",
    "print(C)\n"
   ]
  },
  {
   "cell_type": "markdown",
   "metadata": {},
   "source": [
    "ANSWER: ____The best value of C is 1000_so lambda = 1/1000___ \n",
    "\n",
    "\n",
    "\n",
    "\n",
    "\n"
   ]
  },
  {
   "cell_type": "markdown",
   "metadata": {},
   "source": [
    "**PROBLEM**: Test the final model, using the selected best value for C. Report the final testing score and plot the ROC."
   ]
  },
  {
   "cell_type": "code",
   "execution_count": 17,
   "metadata": {},
   "outputs": [
    {
     "name": "stdout",
     "output_type": "stream",
     "text": [
      "auc score:  0.7231254084979837\n"
     ]
    },
    {
     "data": {
      "image/png": "[encoded data removed]",
      "text/plain": [
       "<Figure size 432x288 with 1 Axes>"
      ]
     },
     "metadata": {},
     "output_type": "display_data"
    }
   ],
   "source": [
    "# Test final model \n",
    "pipeline.set_params(logit_model_l1__C=1000) \n",
    "pipeline.fit(X_train_train,y_train_train)\n",
    "logit_model_l1 = pipeline.named_steps['logit_model_l1'] \n",
    "y_test_pred = pipeline.predict_proba(X_test)       \n",
    "auc_lml1 = roc_auc_score(y_test, y_test_pred[:,1]) \n",
    "\n",
    "fpr, tpr, _ = roc_curve(y_test, y_test_pred[:,1])\n",
    "print(\"auc score: \", auc_lml1)\n",
    "plot_roc(fpr, tpr, title='ROC Curve', note='')\n",
    "\n",
    "\n"
   ]
  },
  {
   "cell_type": "markdown",
   "metadata": {},
   "source": [
    "**PROBLEM**: Compare coefficients between a standard logit model and a regularized logit model, to see how Lasso drops predictors."
   ]
  },
  {
   "cell_type": "code",
   "execution_count": 72,
   "metadata": {},
   "outputs": [
    {
     "name": "stdout",
     "output_type": "stream",
     "text": [
      "0.00803367282479073        0.09105526610920317\n",
      "0.0008335521064219302        0.007443481488010087\n",
      "6.3904715744510565e-06        0.22821226299708083\n",
      "-8.95750821592692e-06        -0.4213478544025465\n",
      "-0.0015523514265607494        0.04054920078366843\n",
      "1.2372121066400635e-06        0.006190151620460753\n",
      "-5.885671775925504e-06        -0.03596531632538334\n",
      "-2.4952752735358028e-05        -0.33929956996314203\n",
      "-0.01114591786070875        0.06312105456868274\n",
      "-2.969081857698965e-06        -0.09846655792150368\n",
      "-7.228551838118343e-06        -0.06452467772935176\n",
      "-1.1576092229231169e-05        0.011579007911356135\n",
      "0.006364561089100932        0.041819887979569766\n",
      "2.1019778466900865e-06        0.01668355960444947\n",
      "-4.001333900141396e-05        -0.0704523247324593\n",
      "-1.8291875334530375e-06        -0.018705730890667818\n",
      "-6.058692597627745e-06        -0.04112076920469765\n",
      "2.1238385699613184e-06        0.08888435419771011\n",
      "0.00032591933601532904        0.09285954949290696\n",
      "4.316790620726256e-06        -0.004480341690032497\n",
      "-0.0020242876485866354        -0.0812778940011329\n",
      "0.007077730564300985        -0.000813015050985741\n",
      "1.3261544702342647e-06        0.0026603745996969467\n",
      "0.005748298499536161        0.005228390903630137\n",
      "0.009423257701614268        0.11160293534444937\n",
      "-3.5020177653494475e-05        -0.31555705423697944\n",
      "0.012043316707144838        0.6469920637058145\n",
      "-0.002155773699181988        -0.061918146233992624\n"
     ]
    }
   ],
   "source": [
    "# Compare coefficients between a standard logit model and a regularized logit model, to see how Lasso drops predictors\n",
    "model = LogisticRegression().fit(X_train_train,y_train_train)\n",
    "\n",
    "normal_coef = model.coef_[0]\n",
    "lasso_coef = logit_model_l1.coef_[0]\n",
    "\n",
    "for i in range(len(lasso_coef)):\n",
    "    print(normal_coef[i], end = '')\n",
    "    print(\"        \", end = '')\n",
    "    print(lasso_coef[i])\n"
   ]
  },
  {
   "cell_type": "markdown",
   "metadata": {},
   "source": [
    "**PROBLEM**: Comment on which predictors dropped, and why. HINT: Maybe plot a fast-and-rough correlation matrix to test a hunch if you have a hunch."
   ]
  },
  {
   "cell_type": "code",
   "execution_count": 58,
   "metadata": {},
   "outputs": [
    {
     "name": "stdout",
     "output_type": "stream",
     "text": [
      "('ID', 0.005756950296729621)\n",
      "('BILL_AMT6', 0.010005744462965841)\n",
      "('BILL_AMT5', 0.010366652534622031)\n",
      "('MARRIAGE_3', 0.01110790176007796)\n",
      "('BILL_AMT4', 0.012536543787112038)\n",
      "('AGE', 0.013754397869644748)\n",
      "('BILL_AMT2', 0.014712344973575249)\n",
      "('BILL_AMT3', 0.016418824380960508)\n",
      "('MARRIAGE_0', 0.017042860397577415)\n",
      "('BILL_AMT1', 0.019114413769544685)\n",
      "('MARRIAGE_1', 0.025346342585301856)\n",
      "('MARRIAGE_2', 0.025950034478386726)\n",
      "('EDUCATION', 0.03871894021246499)\n",
      "('SEX_1', 0.04123625728667557)\n",
      "('SEX_2', 0.04123625728667563)\n",
      "('PAY_AMT6', 0.05395390115598078)\n",
      "('PAY_AMT3', 0.054337931169608764)\n",
      "('PAY_AMT4', 0.05543000013807993)\n",
      "('PAY_AMT5', 0.05816931088357242)\n",
      "('PAY_AMT2', 0.059795931363002056)\n",
      "('PAY_AMT1', 0.07538822148510665)\n",
      "('LIMIT_BAL', 0.15477724428447007)\n",
      "('PAY_6', 0.1800249770891651)\n",
      "('PAY_5', 0.19808136963266929)\n",
      "('PAY_4', 0.20921856140660577)\n",
      "('PAY_3', 0.23219244794447275)\n",
      "('PAY_2', 0.264848788951541)\n",
      "('PAY_1', 0.3254809477502376)\n"
     ]
    }
   ],
   "source": [
    "# Compute correlations\n",
    "correlation_dict = {}\n",
    "\n",
    "for column in X_train_train:\n",
    "    correlation_dict[column] = abs(np.corrcoef(X_train_train[str(column)], y_train_train)[1][0])\n",
    "    \n",
    "def dict_val(x):\n",
    "    return x[1]\n",
    "sorted_x = sorted(correlation_dict.items(), key=dict_val)\n",
    "\n",
    "for i in range(len(sorted_x)):\n",
    "    print(sorted_x[i])"
   ]
  },
  {
   "cell_type": "markdown",
   "metadata": {},
   "source": [
    "ANSWER: _____In our case (for the best value of C), no predictors were dropped. C=1000 corresponds to lambda = 0.001 which does not impact the features much.__\n",
    "But we can see by the correlation that the Repaymement status has by far the most influence on the defaulting probability._ \n",
    "\n",
    "\n",
    "\n",
    "\n",
    "\n",
    "\n"
   ]
  },
  {
   "cell_type": "markdown",
   "metadata": {},
   "source": [
    "# **PART 6**: PCA\n",
    "As an interesting learning exercise, visualize ALL your data in 2 dimensions using PCA. PCA is only able to capture linear variations in the data. For non-linear projections, one could also use T-SNE. However, T-SNE has more tunable parameters compared to PCA."
   ]
  },
  {
   "cell_type": "markdown",
   "metadata": {},
   "source": [
    "**PROBLEM**: Use the sklearn StandardScaler() to standardize all of your features."
   ]
  },
  {
   "cell_type": "code",
   "execution_count": 74,
   "metadata": {},
   "outputs": [],
   "source": [
    "# Standardize ALL features\n",
    "scaler = StandardScaler()\n",
    "scaler.fit(X_train_train)\n",
    "data = scaler.transform(X_train_train)\n"
   ]
  },
  {
   "cell_type": "markdown",
   "metadata": {},
   "source": [
    "**PROBLEM**: Use the sklearn PCA() function to project ALL features into just two dimensions."
   ]
  },
  {
   "cell_type": "code",
   "execution_count": 77,
   "metadata": {},
   "outputs": [
    {
     "data": {
      "text/plain": [
       "<matplotlib.collections.PathCollection at 0x105d7eb38>"
      ]
     },
     "execution_count": 77,
     "metadata": {},
     "output_type": "execute_result"
    },
    {
     "data": {
      "image/png": "[encoded data removed]",
      "text/plain": [
       "<Figure size 432x288 with 1 Axes>"
      ]
     },
     "metadata": {},
     "output_type": "display_data"
    }
   ],
   "source": [
    "# Project features into two dimensions\n",
    "pca = PCA(n_components=2, svd_solver='full')\n",
    "pca.fit(data)\n",
    "data_pca = pca.transform(data)\n",
    "plt.scatter(data_pca[:, 0], data_pca[:, 1])\n"
   ]
  },
  {
   "cell_type": "markdown",
   "metadata": {},
   "source": [
    "**PROBLEM**: Explore the relationship between the AUC from a standard Logit Model (withOUT using Lasso) and the number of PCA Component Features being used as predictors in the model. In other words, build a `for` loop that tries many numbers of components from PCA in a basic Logit Model.  \n",
    "\n",
    "Hint: you will need to use code like the following in order to build up a pipeline comprised of the StandardScaler(), PCA(), and LogisticRegression() steps.\n",
    "\n",
    "    estimators = []\n",
    "    estimators.append(('standardize', StandardScaler()))\n",
    "    estimators.append(('pca', PCA()))\n",
    "    estimators.append(('model', LogisticRegression()))\n",
    "    pipeline = Pipeline(estimators)\n",
    "    "
   ]
  },
  {
   "cell_type": "code",
   "execution_count": 111,
   "metadata": {},
   "outputs": [],
   "source": [
    "# Explore and print out results for the relationship between AUC and the number of PCA Component Features\n",
    "estimators = []\n",
    "estimators.append(('standardize', StandardScaler()))         # tell it to standardize features\n",
    "estimators.append(('pca', PCA()))\n",
    "estimators.append(('logit_model_pca', LogisticRegression())) \n",
    "pipeline = Pipeline(estimators) \n",
    "\n",
    "num_features = 28\n",
    "# Tune n of pca \n",
    "results = []\n",
    "for k in range(num_features):\n",
    "    if k>0:\n",
    "        pipeline.set_params(pca__n_components = k) \n",
    "        pipeline.fit(X_train_train,y_train_train)\n",
    "        y_train_pred = pipeline.predict_proba(X_train_val)       # use validation set during hyper-parameter tuning\n",
    "        auc_lml1 = roc_auc_score(y_train_val, y_train_pred[:,1])   \n",
    "        results.append( (auc_lml1, k) )\n",
    "logit_model_pca = pipeline.named_steps['logit_model_pca']  \n",
    "\n",
    "for result in results:\n",
    "    print(result[0], end = '')\n",
    "    print(\"        \", end = '')\n",
    "    print(result[1])\n"
   ]
  },
  {
   "cell_type": "markdown",
   "metadata": {},
   "source": [
    "**PROBLEM**: Plot your incremental results (increasing levels of components) from the steps above."
   ]
  },
  {
   "cell_type": "code",
   "execution_count": 119,
   "metadata": {},
   "outputs": [
    {
     "data": {
      "text/plain": [
       "[<matplotlib.lines.Line2D at 0x1a38df3208>]"
      ]
     },
     "execution_count": 119,
     "metadata": {},
     "output_type": "execute_result"
    },
    {
     "data": {
      "image/png": "[encoded data removed]",
      "text/plain": [
       "<Figure size 432x288 with 1 Axes>"
      ]
     },
     "metadata": {
      "needs_background": "light"
     },
     "output_type": "display_data"
    }
   ],
   "source": [
    "# Plot your incremental results (increasing levels of components) from the steps above.\n",
    "res_tab=[]\n",
    "k_tab=[]\n",
    "for res, k in results:\n",
    "    res_tab.append(res)\n",
    "    k_tab.append(k)\n",
    "\n",
    "plt.plot(k_tab, res_tab)\n",
    "\n"
   ]
  },
  {
   "cell_type": "markdown",
   "metadata": {},
   "source": [
    "# **PART 7**:  K-Nearest Neighbors (KNN)"
   ]
  },
  {
   "cell_type": "markdown",
   "metadata": {},
   "source": [
    "Again to help you get going, we will set up a basic pipeline for hyperparameter tuning K for you..."
   ]
  },
  {
   "cell_type": "code",
   "execution_count": 78,
   "metadata": {},
   "outputs": [],
   "source": [
    "# Build pipeline\n",
    "estimators = []\n",
    "estimators.append(('standardize', StandardScaler()))\n",
    "estimators.append(('knn_model', KNeighborsClassifier()))\n",
    "pipeline = Pipeline(estimators) \n"
   ]
  },
  {
   "cell_type": "markdown",
   "metadata": {},
   "source": [
    "**PROBLEM**: Tune the KNN model to find the optimal K."
   ]
  },
  {
   "cell_type": "code",
   "execution_count": 79,
   "metadata": {},
   "outputs": [
    {
     "name": "stdout",
     "output_type": "stream",
     "text": [
      "0.6067832476035188        1\n",
      "0.7214051411441669        11\n",
      "0.7313105268428631        21\n",
      "0.7400769157456835        31\n",
      "0.742185503117123        41\n",
      "0.7410991585163273        51\n",
      "0.7451427342147832        61\n",
      "0.7454153484132015        71\n",
      "0.745219737042198        81\n",
      "0.7451546676372518        91\n"
     ]
    }
   ],
   "source": [
    "# Tune K\n",
    "results = []\n",
    "K=1\n",
    "while K < 100:\n",
    "    pipeline.set_params(knn_model__n_neighbors=K) \n",
    "    pipeline.fit(X_train_train,y_train_train)\n",
    "    y_train_pred = pipeline.predict_proba(X_train_val)       \n",
    "    auc_lml1 = roc_auc_score(y_train_val, y_train_pred[:,1])   \n",
    "    results.append( (auc_lml1, K) )\n",
    "    K += 10\n",
    "\n",
    "    \n",
    "# View results \n",
    "for result in results:\n",
    "    print(result[0], end = '')\n",
    "    print(\"        \", end = '')\n",
    "    print(result[1])\n"
   ]
  },
  {
   "cell_type": "markdown",
   "metadata": {},
   "source": [
    "**PROBLEM**: What was the best K?"
   ]
  },
  {
   "cell_type": "code",
   "execution_count": 80,
   "metadata": {},
   "outputs": [
    {
     "name": "stdout",
     "output_type": "stream",
     "text": [
      "71\n"
     ]
    }
   ],
   "source": [
    "# Select best K\n",
    "K_best=0\n",
    "res=0\n",
    "for result in results:\n",
    "    if (result[0] > res):\n",
    "        res = result[0]\n",
    "        K_best = result[1]\n",
    "print(K_best)\n"
   ]
  },
  {
   "cell_type": "markdown",
   "metadata": {},
   "source": [
    "**PROBLEM**: Test your final model and report the AUC."
   ]
  },
  {
   "cell_type": "code",
   "execution_count": 81,
   "metadata": {},
   "outputs": [
    {
     "name": "stdout",
     "output_type": "stream",
     "text": [
      "0.7513748834677108\n"
     ]
    }
   ],
   "source": [
    "# Test final model \n",
    "pipeline.set_params(knn_model__n_neighbors=K_best) \n",
    "pipeline.fit(X_train_train,y_train_train)\n",
    "y_test_pred = pipeline.predict_proba(X_test)       \n",
    "auc_knn = roc_auc_score(y_test, y_test_pred[:,1]) \n",
    "print(auc_knn)"
   ]
  },
  {
   "cell_type": "code",
   "execution_count": 82,
   "metadata": {},
   "outputs": [
    {
     "data": {
      "image/png": "[encoded data removed]",
      "text/plain": [
       "<Figure size 432x288 with 1 Axes>"
      ]
     },
     "metadata": {},
     "output_type": "display_data"
    }
   ],
   "source": [
    "# Plot ROC\n",
    "fpr, tpr, _ = roc_curve(y_test, y_test_pred[:,1])\n",
    "plot_roc(fpr, tpr, title='ROC Curve', note='')\n",
    "\n"
   ]
  },
  {
   "cell_type": "markdown",
   "metadata": {},
   "source": [
    "# **PART 8**: Decision Trees\n",
    "\n",
    "Unlike a logit model or a KNN classifier, decision trees are not sensitive to the scaling of categorical features and numeric features. They can find a cut point in arbitrary numeric or categorical features. The implementation of decision trees in sklearn, however, does require categorical features to be one-hot-encoded, even though that is technically not required by the algorithm."
   ]
  },
  {
   "cell_type": "markdown",
   "metadata": {},
   "source": [
    "**PROBLEM**: Fit just one tree using the `DecisionTreeClassifier()` function from sklearn. There is no need to use a pipeline for this step, as it is just one tree."
   ]
  },
  {
   "cell_type": "code",
   "execution_count": 41,
   "metadata": {},
   "outputs": [],
   "source": [
    "# Fit a one-tree Model     \n",
    "model_tree = DecisionTreeClassifier().fit(X_train_train,y_train_train)\n",
    "\n"
   ]
  },
  {
   "cell_type": "markdown",
   "metadata": {},
   "source": [
    "**PROBLEM**: Test the model and report the AUC. HINT: Make sure you are using the test sets every time you do a final test!"
   ]
  },
  {
   "cell_type": "code",
   "execution_count": 45,
   "metadata": {},
   "outputs": [
    {
     "name": "stdout",
     "output_type": "stream",
     "text": [
      "0.597949047833834\n"
     ]
    }
   ],
   "source": [
    "# Test model\n",
    "y_test_tree = model_tree.predict_proba(X_test) \n",
    "auc_tree = roc_auc_score(y_test, y_test_tree[:,1]) \n",
    "print(auc_tree)\n",
    "\n"
   ]
  },
  {
   "cell_type": "markdown",
   "metadata": {},
   "source": [
    "**PROBLEM**: Plot the resulting ROC."
   ]
  },
  {
   "cell_type": "code",
   "execution_count": 43,
   "metadata": {},
   "outputs": [
    {
     "data": {
      "image/png": "[encoded data removed]",
      "text/plain": [
       "<Figure size 432x288 with 1 Axes>"
      ]
     },
     "metadata": {
      "needs_background": "light"
     },
     "output_type": "display_data"
    }
   ],
   "source": [
    "# Plot the ROC\n",
    "fpr, tpr, _ = roc_curve(y_test, y_test_tree[:,1])\n",
    "plot_roc(fpr, tpr, title='ROC Curve', note='')\n",
    "\n"
   ]
  },
  {
   "cell_type": "markdown",
   "metadata": {},
   "source": [
    "**PROBLEM**: Use the `print_feature_importance()` function given to you above to print the relative feature importances of this model."
   ]
  },
  {
   "cell_type": "code",
   "execution_count": 52,
   "metadata": {},
   "outputs": [
    {
     "name": "stdout",
     "output_type": "stream",
     "text": [
      "  Feature        Importance\n",
      "==============================\n",
      "   PAY_1          0.1588 \n",
      "     ID           0.0846 \n",
      "    AGE           0.0660 \n",
      " BILL_AMT1        0.0595 \n",
      "  PAY_AMT3        0.0524 \n",
      " LIMIT_BAL        0.0517 \n",
      " BILL_AMT6        0.0437 \n",
      "  PAY_AMT4        0.0433 \n",
      "  PAY_AMT2        0.0430 \n",
      "  PAY_AMT6        0.0411 \n",
      "  PAY_AMT1        0.0410 \n",
      "  PAY_AMT5        0.0407 \n",
      " BILL_AMT2        0.0386 \n",
      " BILL_AMT3        0.0383 \n",
      " BILL_AMT5        0.0382 \n",
      "   PAY_2          0.0379 \n",
      " BILL_AMT4        0.0367 \n",
      " EDUCATION        0.0161 \n",
      "   PAY_4          0.0115 \n",
      "   PAY_5          0.0099 \n",
      "   PAY_6          0.0093 \n",
      "   SEX_1          0.0089 \n",
      "   PAY_3          0.0085 \n",
      "   SEX_2          0.0076 \n",
      " MARRIAGE_1       0.0060 \n",
      " MARRIAGE_2       0.0047 \n",
      " MARRIAGE_3       0.0014 \n",
      " MARRIAGE_0       0.0005 \n"
     ]
    }
   ],
   "source": [
    "# Print feature importance\n",
    "print_feature_importance(model_tree, list(X_test.columns))\n",
    "\n"
   ]
  },
  {
   "cell_type": "markdown",
   "metadata": {},
   "source": [
    "# **PART 8**: Random Forests\n",
    "\n",
    "Just one tree may be an arbitrary and unreliable model. So next, use the `RandomForestClassifier()` model from sklearn to run a random forest of trees and average across them."
   ]
  },
  {
   "cell_type": "markdown",
   "metadata": {},
   "source": [
    "**PROBLEM**: Build a pipeline for a random forest."
   ]
  },
  {
   "cell_type": "code",
   "execution_count": 8,
   "metadata": {},
   "outputs": [],
   "source": [
    "# Build pipeline\n",
    "estimators = []\n",
    "estimators.append(('forest_model', RandomForestClassifier()))\n",
    "pipeline = Pipeline(estimators) \n"
   ]
  },
  {
   "cell_type": "markdown",
   "metadata": {},
   "source": [
    "**PROBLEM**: Tune for N, the number of trees and print out the results so you can find the best N."
   ]
  },
  {
   "cell_type": "code",
   "execution_count": 13,
   "metadata": {},
   "outputs": [
    {
     "name": "stdout",
     "output_type": "stream",
     "text": [
      "0.6049038948272        1\n",
      "0.7231607249779917        10\n",
      "0.7669926694920927        100\n",
      "0.7743398680647263        1000\n",
      "0.7743679277337737        10000\n",
      "10000\n"
     ]
    }
   ],
   "source": [
    "# Tune N   \n",
    "n = [1, 10, 100, 1000, 10000]\n",
    "results = []\n",
    "for N in n:\n",
    "    pipeline.set_params(forest_model__n_estimators=N) \n",
    "    pipeline.fit(X_train_train,y_train_train)\n",
    "    y_train_pred = pipeline.predict_proba(X_train_val)       \n",
    "    auc_forest = roc_auc_score(y_train_val, y_train_pred[:,1])   \n",
    "    results.append( (auc_forest, N) )\n",
    "\n",
    "# View results \n",
    "for result in results:\n",
    "    print(result[0], end = '')\n",
    "    print(\"        \", end = '')\n",
    "    print(result[1])\n",
    "\n",
    "Best_N=0\n",
    "res=0\n",
    "for result in results:\n",
    "    if (result[0] > res):\n",
    "        res = result[0]\n",
    "        Best_N = result[1]\n",
    "print(Best_N)"
   ]
  },
  {
   "cell_type": "markdown",
   "metadata": {},
   "source": [
    "**PROBLEM**: Test the model and report the AUC. HINT: Make sure you are using the test sets every time you do a final test!"
   ]
  },
  {
   "cell_type": "code",
   "execution_count": 15,
   "metadata": {},
   "outputs": [
    {
     "name": "stdout",
     "output_type": "stream",
     "text": [
      "0.7702304972802279\n"
     ]
    }
   ],
   "source": [
    "# Test final model\n",
    "model_forest = RandomForestClassifier(n_estimators=Best_N).fit(X_train_train,y_train_train)\n",
    "y_test_pred_forest = model_forest.predict_proba(X_test)       \n",
    "auc_knn = roc_auc_score(y_test, y_test_pred_forest[:,1]) \n",
    "print(auc_knn)\n",
    "\n"
   ]
  },
  {
   "cell_type": "markdown",
   "metadata": {},
   "source": [
    "**PROBLEM**: Plot the resulting ROC."
   ]
  },
  {
   "cell_type": "code",
   "execution_count": 16,
   "metadata": {},
   "outputs": [
    {
     "data": {
      "image/png": "[encoded data removed]",
      "text/plain": [
       "<Figure size 432x288 with 1 Axes>"
      ]
     },
     "metadata": {
      "needs_background": "light"
     },
     "output_type": "display_data"
    }
   ],
   "source": [
    "# Plot the ROC\n",
    "fpr, tpr, _ = roc_curve(y_test, y_test_pred_forest[:,1])\n",
    "plot_roc(fpr, tpr, title='ROC Curve', note='')\n",
    "\n",
    "\n"
   ]
  },
  {
   "cell_type": "markdown",
   "metadata": {},
   "source": [
    "**PROBLEM**: Use the `print_feature_importance()` function given to you above to print the relative feature importances of this model."
   ]
  },
  {
   "cell_type": "code",
   "execution_count": 17,
   "metadata": {},
   "outputs": [
    {
     "name": "stdout",
     "output_type": "stream",
     "text": [
      "  Feature        Importance\n",
      "==============================\n",
      "   PAY_1          0.0963 \n",
      "     ID           0.0709 \n",
      "    AGE           0.0555 \n",
      " BILL_AMT1        0.0550 \n",
      " LIMIT_BAL        0.0521 \n",
      " BILL_AMT2        0.0491 \n",
      "  PAY_AMT1        0.0470 \n",
      " BILL_AMT3        0.0467 \n",
      " BILL_AMT4        0.0456 \n",
      " BILL_AMT6        0.0452 \n",
      " BILL_AMT5        0.0447 \n",
      "   PAY_2          0.0444 \n",
      "  PAY_AMT2        0.0439 \n",
      "  PAY_AMT6        0.0418 \n",
      "  PAY_AMT3        0.0418 \n",
      "  PAY_AMT4        0.0409 \n",
      "  PAY_AMT5        0.0398 \n",
      "   PAY_3          0.0281 \n",
      "   PAY_4          0.0220 \n",
      "   PAY_5          0.0196 \n",
      " EDUCATION        0.0180 \n",
      "   PAY_6          0.0173 \n",
      " MARRIAGE_1       0.0082 \n",
      " MARRIAGE_2       0.0081 \n",
      "   SEX_1          0.0079 \n",
      "   SEX_2          0.0079 \n",
      " MARRIAGE_3       0.0017 \n",
      " MARRIAGE_0       0.0004 \n"
     ]
    }
   ],
   "source": [
    "# Print feature importance\n",
    "print_feature_importance(model_forest, list(X_test.columns))\n",
    "\n"
   ]
  },
  {
   "cell_type": "code",
   "execution_count": null,
   "metadata": {},
   "outputs": [],
   "source": []
  }
 ],
 "metadata": {
  "kernelspec": {
   "display_name": "Python 3",
   "language": "python",
   "name": "python3"
  },
  "language_info": {
   "codemirror_mode": {
    "name": "ipython",
    "version": 3
   },
   "file_extension": ".py",
   "mimetype": "text/x-python",
   "name": "python",
   "nbconvert_exporter": "python",
   "pygments_lexer": "ipython3",
   "version": "3.6.8"
  }
 },
 "nbformat": 4,
 "nbformat_minor": 2
}
