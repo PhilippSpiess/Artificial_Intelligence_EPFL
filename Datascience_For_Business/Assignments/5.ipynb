{
 "cells": [
  {
   "cell_type": "markdown",
   "metadata": {},
   "source": [
    "# DSFB Assignment 5"
   ]
  },
  {
   "cell_type": "markdown",
   "metadata": {},
   "source": [
    "In this assignment, you will classify images from the MNIST dataset (Source: http://yann.lecun.com/exdb/mnist/). The dataset includes hand written images and you need to predict the number (numerical digit) associated with each image. Every image has a dimension of 28 * 28 pixels and is gray-scale. The input data includes the intensity associated with each pixel row by row, starting from top-left corner (784 pixels in total). \n",
    "\n",
    "The label field shows the number associated with each image. \n",
    "\n",
    "A state-of-the-art model achieves an error rate of only 0.23% (Ciresan et al. CVPR 2012); you should be able to hit an error rate of less than 1% in this assignment. "
   ]
  },
  {
   "cell_type": "markdown",
   "metadata": {},
   "source": [
    "<img src=\"http://corochann.com/wp-content/uploads/2017/02/mnist_plot.png\" width=\"700\" height=\"500\" align=\"center\"/>\n",
    "\n",
    "\n",
    "Image source: http://corochann.com/wp-content/uploads/2017/02/mnist_plot.png"
   ]
  },
  {
   "cell_type": "markdown",
   "metadata": {},
   "source": [
    "## SETUP"
   ]
  },
  {
   "cell_type": "markdown",
   "metadata": {},
   "source": [
    "### Imports"
   ]
  },
  {
   "cell_type": "markdown",
   "metadata": {},
   "source": [
    "Note that this assignment requires Tensorflow version 2. It must be version 2, as the Keras model in Tensorflow changed as of version 2. You can tensorflow with this pip command:\n",
    "\n",
    "    pip install -U tensorflow\n"
   ]
  },
  {
   "cell_type": "code",
   "execution_count": 2,
   "metadata": {},
   "outputs": [],
   "source": [
    "# Standard imports\n",
    "import pandas as pd\n",
    "import numpy as np\n",
    "import itertools\n",
    "\n",
    "# Data science packages\n",
    "from sklearn.model_selection import learning_curve\n",
    "from sklearn.model_selection import validation_curve\n",
    "from sklearn.model_selection import StratifiedShuffleSplit\n",
    "from sklearn.model_selection import train_test_split\n",
    "from sklearn.model_selection import StratifiedKFold\n",
    "\n",
    "from sklearn.metrics         import confusion_matrix\n",
    "from sklearn.ensemble        import RandomForestClassifier\n",
    "from sklearn.neighbors       import KNeighborsClassifier\n",
    "from sklearn.dummy           import DummyClassifier\n",
    "from sklearn.linear_model    import LogisticRegression\n",
    "\n",
    "# Neural networks\n",
    "import tensorflow as tf\n",
    "\n",
    "# Visualization packages\n",
    "import seaborn as sns\n",
    "import matplotlib.pyplot as plt\n",
    "\n",
    "import warnings\n",
    "warnings.simplefilter('ignore')\n",
    "\n",
    "plt.style.use('ggplot')\n",
    "\n",
    "%matplotlib inline"
   ]
  },
  {
   "cell_type": "markdown",
   "metadata": {},
   "source": [
    "### Constant Seed"
   ]
  },
  {
   "cell_type": "code",
   "execution_count": 3,
   "metadata": {},
   "outputs": [],
   "source": [
    "# Set constant SEED for probabilistic functions for replicability\n",
    "SEED = 12345"
   ]
  },
  {
   "cell_type": "markdown",
   "metadata": {},
   "source": [
    "### Custom Functions\n",
    "\n",
    "We again give you a few, custom, helper functions to get you going."
   ]
  },
  {
   "cell_type": "code",
   "execution_count": 4,
   "metadata": {},
   "outputs": [],
   "source": [
    "def plot_confusion_matrix(cm, classes=[0,1], normalize=False, title='Confusion Matrix', cmap=plt.cm.Reds):\n",
    "    \"\"\" \n",
    "    Function to plot a sklearn confusion matrix, showing number of cases per prediction condition. \n",
    "    The cm parameter can be an object created by the sklearn confusion_matrix() function.\n",
    "    \n",
    "    Args:\n",
    "        cm         this must be a sklearn confusion matrix \n",
    "        classes    levels of the class being predicted; default to binary outcome\n",
    "        normalize  apply normalization by setting `normalize=True`\n",
    "        title      title for the plot\n",
    "        cmap       color map\n",
    "    \"\"\"\n",
    "    plt.imshow(cm, interpolation='nearest', cmap=cmap)\n",
    "    plt.title(title)\n",
    "    plt.colorbar()\n",
    "    tick_marks = np.arange(len(classes))\n",
    "    plt.xticks(tick_marks, classes, rotation=45)\n",
    "    plt.yticks(tick_marks, classes)\n",
    "    if normalize:\n",
    "        cm = cm.astype('float') / cm.sum(axis=1)[:, np.newaxis]\n",
    "    thresh = cm.max() / 2.0\n",
    "    for i, j in itertools.product(range(cm.shape[0]), range(cm.shape[1])):\n",
    "        plt.text(j, i, round (cm[i, j],2), horizontalalignment=\"center\",\n",
    "                 color=\"white\" if cm[i, j] > thresh else \"black\")\n",
    "    plt.tight_layout()\n",
    "    plt.grid()\n",
    "    plt.ylabel('Actual label')\n",
    "    plt.xlabel('Predicted label')"
   ]
  },
  {
   "cell_type": "code",
   "execution_count": 5,
   "metadata": {},
   "outputs": [],
   "source": [
    "def plot_roc(fpr, tpr, title='ROC Curve', note=''):\n",
    "    \"\"\"\n",
    "    Function to plot an ROC curve in a consistent way.\n",
    "    The fpr and tpr parameters can be created by the sklearn roc_curve() function.\n",
    "    \n",
    "    Args:\n",
    "        fpr        False Positive Rate (list of multiple points)\n",
    "        tpr        True Positive Rate (list of multiple points)\n",
    "        title      Title above the plot\n",
    "        note       Note to display in the bottom-right of the plot\n",
    "    \"\"\"\n",
    "    plt.figure(1)\n",
    "    plt.plot([0, 1], [0, 1], 'k--')\n",
    "    plt.plot(fpr, tpr)\n",
    "    plt.xlabel('False positive rate')\n",
    "    plt.ylabel('True positive rate')\n",
    "    plt.title(title)\n",
    "    if note: plt.text(0.6, 0.2, note)\n",
    "    plt.show()"
   ]
  },
  {
   "cell_type": "code",
   "execution_count": 6,
   "metadata": {},
   "outputs": [],
   "source": [
    "def plot_validation_curve(train_scores, cv_scores, x_data, y_label='', x_label='', x_logscale=False):\n",
    "    \n",
    "    plt.title('Validation Curve')\n",
    "    plt.xlabel(x_label)\n",
    "    plt.ylabel(y_label)\n",
    "    plt.ylim(0.0, 1.1)\n",
    "    \n",
    "    train_scores_mean = np.mean(train_scores, axis=1)\n",
    "    cv_scores_mean    = np.mean(cv_scores,    axis=1)\n",
    "    \n",
    "    if x_logscale:\n",
    "        plt.semilogx(x_data, train_scores_mean, 'o-', color=\"r\", label=\"Training score\")\n",
    "        plt.semilogx(x_data, cv_scores_mean,    'o-', color=\"g\",  label=\"Cross-validation score\")        \n",
    "    else:\n",
    "        plt.plot(x_data, train_scores_mean, 'o-', color=\"r\", label=\"Training score\")\n",
    "        plt.plot(x_data, cv_scores_mean,    'o-', color=\"g\", label=\"Cross-validation score\")\n",
    "        \n",
    "    plt.legend(loc='center')\n",
    "    plt.show()"
   ]
  },
  {
   "cell_type": "markdown",
   "metadata": {},
   "source": [
    "# PART 1: Preparation"
   ]
  },
  {
   "cell_type": "markdown",
   "metadata": {},
   "source": [
    "**PROBLEM**: Load the image data into a pandas dataset. "
   ]
  },
  {
   "cell_type": "code",
   "execution_count": 7,
   "metadata": {},
   "outputs": [],
   "source": [
    "# Load data into a dataframe\n",
    "data = pd.read_csv('data/image_data.csv')\n"
   ]
  },
  {
   "cell_type": "code",
   "execution_count": 8,
   "metadata": {},
   "outputs": [
    {
     "data": {
      "text/html": [
       "<div>\n",
       "<style scoped>\n",
       "    .dataframe tbody tr th:only-of-type {\n",
       "        vertical-align: middle;\n",
       "    }\n",
       "\n",
       "    .dataframe tbody tr th {\n",
       "        vertical-align: top;\n",
       "    }\n",
       "\n",
       "    .dataframe thead th {\n",
       "        text-align: right;\n",
       "    }\n",
       "</style>\n",
       "<table border=\"1\" class=\"dataframe\">\n",
       "  <thead>\n",
       "    <tr style=\"text-align: right;\">\n",
       "      <th></th>\n",
       "      <th>label</th>\n",
       "      <th>pixel0</th>\n",
       "      <th>pixel1</th>\n",
       "      <th>pixel2</th>\n",
       "      <th>pixel3</th>\n",
       "      <th>pixel4</th>\n",
       "      <th>pixel5</th>\n",
       "      <th>pixel6</th>\n",
       "      <th>pixel7</th>\n",
       "      <th>pixel8</th>\n",
       "      <th>...</th>\n",
       "      <th>pixel774</th>\n",
       "      <th>pixel775</th>\n",
       "      <th>pixel776</th>\n",
       "      <th>pixel777</th>\n",
       "      <th>pixel778</th>\n",
       "      <th>pixel779</th>\n",
       "      <th>pixel780</th>\n",
       "      <th>pixel781</th>\n",
       "      <th>pixel782</th>\n",
       "      <th>pixel783</th>\n",
       "    </tr>\n",
       "  </thead>\n",
       "  <tbody>\n",
       "    <tr>\n",
       "      <th>0</th>\n",
       "      <td>1</td>\n",
       "      <td>0</td>\n",
       "      <td>0</td>\n",
       "      <td>0</td>\n",
       "      <td>0</td>\n",
       "      <td>0</td>\n",
       "      <td>0</td>\n",
       "      <td>0</td>\n",
       "      <td>0</td>\n",
       "      <td>0</td>\n",
       "      <td>...</td>\n",
       "      <td>0</td>\n",
       "      <td>0</td>\n",
       "      <td>0</td>\n",
       "      <td>0</td>\n",
       "      <td>0</td>\n",
       "      <td>0</td>\n",
       "      <td>0</td>\n",
       "      <td>0</td>\n",
       "      <td>0</td>\n",
       "      <td>0</td>\n",
       "    </tr>\n",
       "    <tr>\n",
       "      <th>1</th>\n",
       "      <td>0</td>\n",
       "      <td>0</td>\n",
       "      <td>0</td>\n",
       "      <td>0</td>\n",
       "      <td>0</td>\n",
       "      <td>0</td>\n",
       "      <td>0</td>\n",
       "      <td>0</td>\n",
       "      <td>0</td>\n",
       "      <td>0</td>\n",
       "      <td>...</td>\n",
       "      <td>0</td>\n",
       "      <td>0</td>\n",
       "      <td>0</td>\n",
       "      <td>0</td>\n",
       "      <td>0</td>\n",
       "      <td>0</td>\n",
       "      <td>0</td>\n",
       "      <td>0</td>\n",
       "      <td>0</td>\n",
       "      <td>0</td>\n",
       "    </tr>\n",
       "    <tr>\n",
       "      <th>2</th>\n",
       "      <td>1</td>\n",
       "      <td>0</td>\n",
       "      <td>0</td>\n",
       "      <td>0</td>\n",
       "      <td>0</td>\n",
       "      <td>0</td>\n",
       "      <td>0</td>\n",
       "      <td>0</td>\n",
       "      <td>0</td>\n",
       "      <td>0</td>\n",
       "      <td>...</td>\n",
       "      <td>0</td>\n",
       "      <td>0</td>\n",
       "      <td>0</td>\n",
       "      <td>0</td>\n",
       "      <td>0</td>\n",
       "      <td>0</td>\n",
       "      <td>0</td>\n",
       "      <td>0</td>\n",
       "      <td>0</td>\n",
       "      <td>0</td>\n",
       "    </tr>\n",
       "    <tr>\n",
       "      <th>3</th>\n",
       "      <td>4</td>\n",
       "      <td>0</td>\n",
       "      <td>0</td>\n",
       "      <td>0</td>\n",
       "      <td>0</td>\n",
       "      <td>0</td>\n",
       "      <td>0</td>\n",
       "      <td>0</td>\n",
       "      <td>0</td>\n",
       "      <td>0</td>\n",
       "      <td>...</td>\n",
       "      <td>0</td>\n",
       "      <td>0</td>\n",
       "      <td>0</td>\n",
       "      <td>0</td>\n",
       "      <td>0</td>\n",
       "      <td>0</td>\n",
       "      <td>0</td>\n",
       "      <td>0</td>\n",
       "      <td>0</td>\n",
       "      <td>0</td>\n",
       "    </tr>\n",
       "    <tr>\n",
       "      <th>4</th>\n",
       "      <td>0</td>\n",
       "      <td>0</td>\n",
       "      <td>0</td>\n",
       "      <td>0</td>\n",
       "      <td>0</td>\n",
       "      <td>0</td>\n",
       "      <td>0</td>\n",
       "      <td>0</td>\n",
       "      <td>0</td>\n",
       "      <td>0</td>\n",
       "      <td>...</td>\n",
       "      <td>0</td>\n",
       "      <td>0</td>\n",
       "      <td>0</td>\n",
       "      <td>0</td>\n",
       "      <td>0</td>\n",
       "      <td>0</td>\n",
       "      <td>0</td>\n",
       "      <td>0</td>\n",
       "      <td>0</td>\n",
       "      <td>0</td>\n",
       "    </tr>\n",
       "  </tbody>\n",
       "</table>\n",
       "<p>5 rows × 785 columns</p>\n",
       "</div>"
      ],
      "text/plain": [
       "   label  pixel0  pixel1  pixel2  pixel3  pixel4  pixel5  pixel6  pixel7  \\\n",
       "0      1       0       0       0       0       0       0       0       0   \n",
       "1      0       0       0       0       0       0       0       0       0   \n",
       "2      1       0       0       0       0       0       0       0       0   \n",
       "3      4       0       0       0       0       0       0       0       0   \n",
       "4      0       0       0       0       0       0       0       0       0   \n",
       "\n",
       "   pixel8  ...  pixel774  pixel775  pixel776  pixel777  pixel778  pixel779  \\\n",
       "0       0  ...         0         0         0         0         0         0   \n",
       "1       0  ...         0         0         0         0         0         0   \n",
       "2       0  ...         0         0         0         0         0         0   \n",
       "3       0  ...         0         0         0         0         0         0   \n",
       "4       0  ...         0         0         0         0         0         0   \n",
       "\n",
       "   pixel780  pixel781  pixel782  pixel783  \n",
       "0         0         0         0         0  \n",
       "1         0         0         0         0  \n",
       "2         0         0         0         0  \n",
       "3         0         0         0         0  \n",
       "4         0         0         0         0  \n",
       "\n",
       "[5 rows x 785 columns]"
      ]
     },
     "execution_count": 8,
     "metadata": {},
     "output_type": "execute_result"
    }
   ],
   "source": [
    "# View the top rows\n",
    "data.head()\n"
   ]
  },
  {
   "cell_type": "markdown",
   "metadata": {},
   "source": [
    "**PROBLEM**: Check the data. Is it complete? Right shape? Any problems or inconsistencies?"
   ]
  },
  {
   "cell_type": "code",
   "execution_count": 9,
   "metadata": {},
   "outputs": [
    {
     "data": {
      "text/plain": [
       "(42000, 785)"
      ]
     },
     "execution_count": 9,
     "metadata": {},
     "output_type": "execute_result"
    }
   ],
   "source": [
    "data.shape\n",
    "# The length is correct (785 - 1 \"label\" ) = 28*28"
   ]
  },
  {
   "cell_type": "code",
   "execution_count": 10,
   "metadata": {},
   "outputs": [
    {
     "data": {
      "text/plain": [
       "30408      0\n",
       "12255      0\n",
       "9372     253\n",
       "7560       9\n",
       "24779      0\n",
       "37604      0\n",
       "19329    252\n",
       "31575      0\n",
       "32967      0\n",
       "9761       0\n",
       "Name: pixel300, dtype: int64"
      ]
     },
     "execution_count": 10,
     "metadata": {},
     "output_type": "execute_result"
    }
   ],
   "source": [
    "data[\"pixel300\"].sample(n=10)\n",
    "# The intensity is from 0 to 256"
   ]
  },
  {
   "cell_type": "code",
   "execution_count": 11,
   "metadata": {},
   "outputs": [
    {
     "data": {
      "text/plain": [
       "False"
      ]
     },
     "execution_count": 11,
     "metadata": {},
     "output_type": "execute_result"
    }
   ],
   "source": [
    "data.isnull().values.any()\n",
    "# There is no missing values"
   ]
  },
  {
   "cell_type": "markdown",
   "metadata": {},
   "source": [
    "**PROBLEM**: Separate data into target variable and features."
   ]
  },
  {
   "cell_type": "code",
   "execution_count": 12,
   "metadata": {},
   "outputs": [],
   "source": [
    "# Separate features and target\n",
    "y = np.array(data['label'])\n",
    "\n",
    "features = data.columns\n",
    "features = features[1:]\n",
    "X = data.loc[:, features]\n"
   ]
  },
  {
   "cell_type": "markdown",
   "metadata": {},
   "source": [
    "**PROBLEM**: Basic Feature Engineering."
   ]
  },
  {
   "cell_type": "code",
   "execution_count": 13,
   "metadata": {},
   "outputs": [
    {
     "data": {
      "text/plain": [
       "32639    0.988281\n",
       "41907    0.000000\n",
       "39879    0.000000\n",
       "13274    0.000000\n",
       "39318    0.000000\n",
       "36028    0.738281\n",
       "7855     0.425781\n",
       "37381    0.000000\n",
       "7564     0.984375\n",
       "33642    0.000000\n",
       "Name: pixel300, dtype: float64"
      ]
     },
     "execution_count": 13,
     "metadata": {},
     "output_type": "execute_result"
    }
   ],
   "source": [
    "# Normalize all features to be between 0 and 1\n",
    "def normalize(value):\n",
    "    return value/256\n",
    "\n",
    "for feature in features:\n",
    "    X[feature] = X[feature].apply(normalize)\n",
    "\n",
    "X[\"pixel300\"].sample(n=10)"
   ]
  },
  {
   "cell_type": "markdown",
   "metadata": {},
   "source": [
    "**PROBLEM**: Inspect distribution of target."
   ]
  },
  {
   "cell_type": "code",
   "execution_count": 14,
   "metadata": {},
   "outputs": [
    {
     "data": {
      "image/png": "[encoded data removed]",
      "text/plain": [
       "<Figure size 432x288 with 1 Axes>"
      ]
     },
     "metadata": {
      "needs_background": "light"
     },
     "output_type": "display_data"
    }
   ],
   "source": [
    "# Check distribution of the labels (across numerical digits)\n",
    "sns.distplot(y, kde=False, rug=True);"
   ]
  },
  {
   "cell_type": "markdown",
   "metadata": {},
   "source": [
    "**PROBLEM**: Plot images 27, 83, and 158 in ONE dimension.  "
   ]
  },
  {
   "cell_type": "code",
   "execution_count": 15,
   "metadata": {},
   "outputs": [
    {
     "data": {
      "image/png": "[encoded data removed]",
      "text/plain": [
       "<Figure size 432x288 with 3 Axes>"
      ]
     },
     "metadata": {
      "needs_background": "light"
     },
     "output_type": "display_data"
    }
   ],
   "source": [
    "# Plot images 27, 83, and 158 in one dimension\n",
    "plt.subplot(3, 1, 1)\n",
    "plt.plot(X.iloc[27], color='black')\n",
    "\n",
    "plt.subplot(3, 1, 2)\n",
    "plt.plot(X.iloc[83], color='black')\n",
    "\n",
    "plt.subplot(3, 1, 3)\n",
    "plt.plot(X.iloc[158], color='black')\n",
    "\n",
    "plt.show()\n"
   ]
  },
  {
   "cell_type": "markdown",
   "metadata": {},
   "source": [
    "**PROBLEM**: Plot images 27, 83, and 158 in TWO dimensions. Tip: use `plt.imshow()`"
   ]
  },
  {
   "cell_type": "code",
   "execution_count": 16,
   "metadata": {},
   "outputs": [
    {
     "data": {
      "image/png": "[encoded data removed]",
      "text/plain": [
       "<Figure size 432x288 with 3 Axes>"
      ]
     },
     "metadata": {
      "needs_background": "light"
     },
     "output_type": "display_data"
    }
   ],
   "source": [
    "# Plot images 27, 83, and 158 in TWO dimension\n",
    "\n",
    "def transform_2D(vector):\n",
    "    Matrix = [[0 for x in range(28)] for y in range(28)] \n",
    "    for i in range(28):\n",
    "        for j in range(28):\n",
    "            Matrix[i][j] = vector[28*i + j] \n",
    "    return Matrix\n",
    "\n",
    "\n",
    "image_27 =  transform_2D(X.iloc[27])\n",
    "image_83 =  transform_2D(X.iloc[83])\n",
    "image_158 =  transform_2D(X.iloc[158])\n",
    "\n",
    "plt.subplot(3, 1, 1)\n",
    "plt.imshow(image_27)\n",
    "\n",
    "plt.subplot(3, 1, 2)\n",
    "plt.imshow(image_83)\n",
    "\n",
    "plt.subplot(3, 1, 3)\n",
    "plt.imshow(image_158)\n",
    "\n",
    "plt.show()\n"
   ]
  },
  {
   "cell_type": "markdown",
   "metadata": {},
   "source": [
    "**PROBLEM**: Create Training and Testing sets. Be sure to use SEED so our results and your results are comparable. "
   ]
  },
  {
   "cell_type": "code",
   "execution_count": 20,
   "metadata": {},
   "outputs": [],
   "source": [
    "# Create Training and Testing sets -- complete the line of code\n",
    "X_train, X_test, y_train, y_test =  train_test_split(X, y, test_size=0.2, stratify=y, random_state=SEED)"
   ]
  },
  {
   "cell_type": "markdown",
   "metadata": {},
   "source": [
    "## Baseline Classifier\n",
    "\n",
    "Before getting started on specific models, run a baseline classifier to set a benchmark for improved models."
   ]
  },
  {
   "cell_type": "markdown",
   "metadata": {},
   "source": [
    "**PROBLEM**: Use the `DummyClassifier()` model to make a baseline prediction."
   ]
  },
  {
   "cell_type": "code",
   "execution_count": 21,
   "metadata": {},
   "outputs": [
    {
     "data": {
      "text/plain": [
       "0.09738095238095239"
      ]
     },
     "execution_count": 21,
     "metadata": {},
     "output_type": "execute_result"
    }
   ],
   "source": [
    "# Define a baseline using DummyClassifier() and print the baseline accuracy. Remember to set the SEED!\n",
    "from sklearn.metrics import accuracy_score\n",
    "dummy = DummyClassifier().fit(X_train, y_train)\n",
    "y_hat = dummy.predict(X_test)\n",
    "accuracy_score(y_test, y_hat)\n"
   ]
  },
  {
   "cell_type": "markdown",
   "metadata": {},
   "source": [
    "**QUESTION**: What was the baseline accuracy? Is that what you expected? Why or why not? "
   ]
  },
  {
   "cell_type": "markdown",
   "metadata": {},
   "source": [
    "**Answer**: \n",
    "\n",
    "Choosing randomly a class out of 10 possible classes yield on average an accuracy of 1/10 = 10 % and we got an accuracy of 9.96 % so it makes sense.\n",
    "\n"
   ]
  },
  {
   "cell_type": "markdown",
   "metadata": {},
   "source": [
    "**QUESTION**: One might think that the baseline accuracy we received as technically impossible... Why would it have been impossible? Why was it in fact possible?  "
   ]
  },
  {
   "cell_type": "markdown",
   "metadata": {},
   "source": [
    "**Answer**: \n",
    "\n",
    "The accuracy we received is possible as shown in question 1.\n",
    "\n"
   ]
  },
  {
   "cell_type": "markdown",
   "metadata": {},
   "source": [
    "**QUESTION**: What \"strategy\" parameter should you pass to `DummyClassifier()` and why? "
   ]
  },
  {
   "cell_type": "markdown",
   "metadata": {},
   "source": [
    "**Answer**: \n",
    "\n",
    "To increase just a little bit the accuracy we could use: “most_frequent” to output the  the most common number which happens to be 1. This would probably yield an accuracy of about 11%.\n",
    "\n"
   ]
  },
  {
   "cell_type": "markdown",
   "metadata": {},
   "source": [
    "# PART 2: Traditional Machine Learning Models"
   ]
  },
  {
   "cell_type": "markdown",
   "metadata": {},
   "source": [
    "## Regularized Logit Model"
   ]
  },
  {
   "cell_type": "markdown",
   "metadata": {},
   "source": [
    "**PROBLEM**: Use a Ridge-Regularized Multinomial Logit Model to predict labels. \n",
    "  * Use a stratified K-Fold cross-validation schema with 3 folds.\n",
    "  * Tune hyperparameter C, from logspace 10^-5 to 10^5, in steps of 1 in the exponent.\n",
    "  * Use **`accuracy`** for the tuning score.\n",
    "  * Use the `validation_curve()` function from sklearn to train and validate models across C.\n",
    "  * Set `n_jobs` to -1 to use all available CPU cores on your computer.\n",
    "  * Set the random seed."
   ]
  },
  {
   "cell_type": "code",
   "execution_count": 22,
   "metadata": {},
   "outputs": [],
   "source": [
    "# Define model\n",
    "C_values  = np.array([i for i in np.logspace(-5, 5, 11)])\n",
    "model_log = LogisticRegression(penalty='l2', n_jobs = -1)\n",
    "cv_schema = StratifiedKFold(n_splits=3, random_state=SEED)\n",
    "\n",
    "train_scores_val, cv_scores_val = validation_curve(\n",
    "     \n",
    "    model_log, X_train, y_train, param_name=\"C\",\n",
    "    param_range=C_values, cv=cv_schema\n",
    "\n",
    ")"
   ]
  },
  {
   "cell_type": "code",
   "execution_count": 23,
   "metadata": {},
   "outputs": [
    {
     "data": {
      "image/png": "[encoded data removed]",
      "text/plain": [
       "<Figure size 432x288 with 1 Axes>"
      ]
     },
     "metadata": {
      "needs_background": "light"
     },
     "output_type": "display_data"
    }
   ],
   "source": [
    "# Plot a validation curve across levels of C, using a logscale for the x axis\n",
    "plot_validation_curve(train_scores_val, cv_scores_val, C_values, y_label='Accuracy', x_label='C', x_logscale=True)\n"
   ]
  },
  {
   "cell_type": "markdown",
   "metadata": {},
   "source": [
    "**PROBLEM**: What was the best value of C?"
   ]
  },
  {
   "cell_type": "code",
   "execution_count": 24,
   "metadata": {},
   "outputs": [
    {
     "name": "stdout",
     "output_type": "stream",
     "text": [
      "1.0\n"
     ]
    }
   ],
   "source": [
    "# Obtain the best value of the hyper parameter\n",
    "i=0\n",
    "Best_accu=0\n",
    "Best_c=0\n",
    "for c in C_values:\n",
    "    accu = np.mean(cv_scores_val[i])\n",
    "    if accu > Best_accu:\n",
    "        Best_c = c\n",
    "        Best_accu = accu\n",
    "    \n",
    "    i+=1\n",
    "print(Best_c)"
   ]
  },
  {
   "cell_type": "markdown",
   "metadata": {},
   "source": [
    "**QUESTION**: Should we believe this particular \"optimal\" value of C. Why or why not? "
   ]
  },
  {
   "cell_type": "code",
   "execution_count": 25,
   "metadata": {},
   "outputs": [
    {
     "name": "stdout",
     "output_type": "stream",
     "text": [
      "C =  1e-05  accuracy:     0.7484227744641355\n",
      "C =  0.0001  accuracy:     0.8120241273344248\n",
      "C =  0.001  accuracy:     0.8678572959454259\n",
      "C =  0.01  accuracy:     0.8999403996491817\n",
      "C =  0.1  accuracy:     0.9121425818902976\n",
      "C =  1.0  accuracy:     0.9124403046008878\n",
      "C =  10.0  accuracy:     0.9084822341386954\n",
      "C =  100.0  accuracy:     0.9023809476533077\n",
      "C =  1000.0  accuracy:     0.895684486895174\n",
      "C =  10000.0  accuracy:     0.8926489558423502\n",
      "C =  100000.0  accuracy:     0.8916965509164969\n"
     ]
    }
   ],
   "source": [
    "# View cross validation scores\n",
    "i=0\n",
    "for c in C_values:\n",
    "    print(\"C = \", c, \" accuracy:     \", end = '')\n",
    "    print(np.mean(cv_scores_val[i]))\n",
    "    i+=1"
   ]
  },
  {
   "cell_type": "markdown",
   "metadata": {},
   "source": [
    "**Answer**:  \n",
    "\n",
    "As we have done cross-validation, there is no reason to not believe the optimal value of C."
   ]
  },
  {
   "cell_type": "markdown",
   "metadata": {},
   "source": [
    "**QUESTION**: Comment on the performance of the Logit Model overall. Why did it (or did it not) perform well? Also comment on how regularization affected your results, and explain why regularization performed as it did. "
   ]
  },
  {
   "cell_type": "markdown",
   "metadata": {},
   "source": [
    "**Answer**: \n",
    "\n",
    "It does not perform extremly well because when we think about it, it does not really make sense to just take the value of a pixel into account, what really matters is the interaction of the pixels and there relation with neighbour pixels. This is why a CNN will be prefered. \n",
    "\n",
    "It does however performs decently but this is because all the training images are similarly centered so by \"luck\", encoding just the pixel as a feature is okay.\n",
    "\n",
    "Regularization works quite well and we can think that it is the case because it will reduce the importance of some pixels (the ones on the side) which should not really be taken too much into account.\n"
   ]
  },
  {
   "cell_type": "markdown",
   "metadata": {},
   "source": [
    "**QUESTION**: Would these results survive manipulation of the underlying picture (for example, randonly shifting pictures left/right or rotating them). "
   ]
  },
  {
   "cell_type": "markdown",
   "metadata": {},
   "source": [
    "**Answer**:  \n",
    "\n",
    "No, the image is flattened into one single vector so if manipulation is done, absolutely every pixels will have offsets and the prediction might be completely wrong.\n"
   ]
  },
  {
   "cell_type": "markdown",
   "metadata": {},
   "source": [
    "**PROBLEM**: What is the accuracy of the Logit Model on the test set at the best value of C?"
   ]
  },
  {
   "cell_type": "code",
   "execution_count": 31,
   "metadata": {},
   "outputs": [
    {
     "data": {
      "text/plain": [
       "0.909047619047619"
      ]
     },
     "execution_count": 31,
     "metadata": {},
     "output_type": "execute_result"
    }
   ],
   "source": [
    "# Calculate Accuracy of Logit Model on test set at best value of C\n",
    "model_log_best = LogisticRegression(penalty='l2', n_jobs = -1, C=Best_c)\n",
    "\n",
    "model_log_best = model_log_best.fit(X_train, y_train)\n",
    "y_hat = model_log_best.predict(X_test)\n",
    "accuracy_score(y_test, y_hat)\n"
   ]
  },
  {
   "cell_type": "markdown",
   "metadata": {},
   "source": [
    "The accuracy on the test set with the Logit Model is 0.909"
   ]
  },
  {
   "cell_type": "markdown",
   "metadata": {},
   "source": [
    "## KNN Classifier"
   ]
  },
  {
   "cell_type": "markdown",
   "metadata": {},
   "source": [
    "**PROBLEM**: Repeat the exercise above with a KNN Classifier to predict labels. \n",
    "  * Use a stratified K-Fold cross-validation schema with 3 folds.\n",
    "  * Tune hyperparameter K from K=5 to K=45, in 5 point increments. \n",
    "  * Make sure to use the random state SEED, and remember that KNN will be slow to run...\n",
    "  * Use **`accuracy`** for the tuning score.\n",
    "  * Use the `validation_curve()` function from sklearn to train and validate models across K.\n",
    "  * Set `n_jobs` to -1 to use all available CPU cores on your computer.\n",
    "  * Set the random seed."
   ]
  },
  {
   "cell_type": "code",
   "execution_count": 33,
   "metadata": {},
   "outputs": [],
   "source": [
    "# Use a KNN Classifier to predict labels\n",
    "K_values  = np.array([int(i) for i in np.linspace(5.0, 45.0, 10)])\n",
    "model_knn     = KNeighborsClassifier(n_jobs = -1)\n",
    "cv_schema = StratifiedKFold(n_splits=3, random_state=SEED)\n",
    "\n",
    "train_scores_val, cv_scores_val = validation_curve(\n",
    "     \n",
    "    model_knn, X_train, y_train, param_name=\"n_neighbors\",\n",
    "    param_range=K_values, cv=cv_schema\n",
    "\n",
    ")"
   ]
  },
  {
   "cell_type": "markdown",
   "metadata": {},
   "source": [
    "**PROBLEM**: Use the `validation_curve()` function to plot the Training and Cross-Validated results."
   ]
  },
  {
   "cell_type": "code",
   "execution_count": 34,
   "metadata": {},
   "outputs": [
    {
     "data": {
      "image/png": "[encoded data removed]",
      "text/plain": [
       "<Figure size 432x288 with 1 Axes>"
      ]
     },
     "metadata": {
      "needs_background": "light"
     },
     "output_type": "display_data"
    }
   ],
   "source": [
    "# Plot a validation curve across levels of K\n",
    "plot_validation_curve(train_scores_val, cv_scores_val, K_values, y_label='Accuracy', x_label='K', x_logscale=False)\n",
    "\n"
   ]
  },
  {
   "cell_type": "markdown",
   "metadata": {},
   "source": [
    "**QUESTION**: Comment on and explain your results from the KNN Model. "
   ]
  },
  {
   "cell_type": "markdown",
   "metadata": {},
   "source": [
    "**Answer**:  \n",
    "\n",
    "Looking at the Validation Curve, it appears that the best K is 5. Both the training accuracy and the validation accuracy decrease as the model generalizes more with K increasing.\n",
    "\n"
   ]
  },
  {
   "cell_type": "markdown",
   "metadata": {},
   "source": [
    "**PROBLEM**: What is the accuracy of the KNN Model on the test set at the best value of K?"
   ]
  },
  {
   "cell_type": "code",
   "execution_count": 35,
   "metadata": {},
   "outputs": [
    {
     "name": "stdout",
     "output_type": "stream",
     "text": [
      "5\n"
     ]
    },
    {
     "data": {
      "text/plain": [
       "0.9672619047619048"
      ]
     },
     "execution_count": 35,
     "metadata": {},
     "output_type": "execute_result"
    }
   ],
   "source": [
    "# Calculate Accuracy of KNN Model on test set at best value of K\n",
    "i=0\n",
    "Best_accu=0\n",
    "Best_k=0\n",
    "for k in K_values:\n",
    "    accu = np.mean(cv_scores_val[i])\n",
    "    if accu > Best_accu:\n",
    "        Best_k = k\n",
    "        Best_accu = accu\n",
    "    \n",
    "    i+=1\n",
    "print(Best_k)\n",
    "\n",
    "model_knn_best = KNeighborsClassifier(n_jobs = -1, n_neighbors = Best_k)\n",
    "\n",
    "model_knn_best = model_knn_best.fit(X_train, y_train)\n",
    "y_hat = model_knn_best.predict(X_test)\n",
    "accuracy_score(y_test, y_hat)"
   ]
  },
  {
   "cell_type": "markdown",
   "metadata": {},
   "source": [
    "The accuracy on the test set with the kNN Model is 0.967."
   ]
  },
  {
   "cell_type": "markdown",
   "metadata": {},
   "source": [
    "## Random Forest"
   ]
  },
  {
   "cell_type": "markdown",
   "metadata": {},
   "source": [
    "**PROBLEM**: Repeat the exercise above with a Random Forest Classifier to predict labels. \n",
    "  * Use a stratified K-Fold cross-validation schema with 3 folds.\n",
    "  * Tune hyperparameter K from K=5 to K=45, in 5 point increments. \n",
    "  * Make sure to use the random state SEED, and remember that KNN will be slow to run...\n",
    "  * Use **`accuracy`** for the tuning score.\n",
    "  * Use the `validation_curve()` function from sklearn to train and validate models across K.\n",
    "  * Set `n_jobs` to -1 to use all available CPU cores on your computer.\n",
    "  * Set the random seed."
   ]
  },
  {
   "cell_type": "code",
   "execution_count": 36,
   "metadata": {},
   "outputs": [],
   "source": [
    "# Use a Random Forest Classifier to predict labels\n",
    "N_values  = np.array([int(i) for i in np.linspace(5.0, 45.0, 10)])\n",
    "model_forest = RandomForestClassifier(n_jobs=-1)\n",
    "cv_schema = StratifiedKFold(n_splits=3, random_state=SEED)\n",
    "\n",
    "train_scores_val, cv_scores_val = validation_curve(\n",
    "\n",
    "    model_forest, X_train, y_train, param_name=\"n_estimators\",\n",
    "    param_range=N_values, cv=cv_schema\n",
    "\n",
    ")\n",
    "\n"
   ]
  },
  {
   "cell_type": "markdown",
   "metadata": {},
   "source": [
    "**PROBLEM**: Use the `validation_curve()` function to plot the Training and Cross-Validated results."
   ]
  },
  {
   "cell_type": "code",
   "execution_count": 37,
   "metadata": {},
   "outputs": [
    {
     "data": {
      "image/png": "[encoded data removed]",
      "text/plain": [
       "<Figure size 432x288 with 1 Axes>"
      ]
     },
     "metadata": {
      "needs_background": "light"
     },
     "output_type": "display_data"
    }
   ],
   "source": [
    "# Plot a validation curve across levels of N\n",
    "plot_validation_curve(train_scores_val, cv_scores_val, N_values, y_label='Accuracy', x_label='N', x_logscale=False)\n",
    "\n"
   ]
  },
  {
   "cell_type": "markdown",
   "metadata": {},
   "source": [
    "**QUESTION**: Comment on and explain your results from the Random Forest Model. "
   ]
  },
  {
   "cell_type": "markdown",
   "metadata": {},
   "source": [
    "**Answer**: \n",
    "\n",
    "The best number of estimators appears to be 45. \n",
    "\n"
   ]
  },
  {
   "cell_type": "markdown",
   "metadata": {},
   "source": [
    "**QUESTION**: Comment on the behavior of the Training accuracy and the Cross-Validation accuracy in the Random Forest model for this problem. Explain why you think they performed (relatively) as they did. "
   ]
  },
  {
   "cell_type": "code",
   "execution_count": 38,
   "metadata": {},
   "outputs": [
    {
     "name": "stdout",
     "output_type": "stream",
     "text": [
      "N =  5  accuracy:     0.9922321208464949\n",
      "N =  9  accuracy:     0.9986160853637164\n",
      "N =  13  accuracy:     0.9997470118484125\n",
      "N =  18  accuracy:     0.9999255932443097\n",
      "N =  22  accuracy:     0.9999255932443097\n",
      "N =  27  accuracy:     1.0\n",
      "N =  31  accuracy:     1.0\n",
      "N =  36  accuracy:     1.0\n",
      "N =  40  accuracy:     1.0\n",
      "N =  45  accuracy:     0.9999851170543673\n"
     ]
    }
   ],
   "source": [
    "# Do some inspections...\n",
    "\n",
    "# View cross training scores\n",
    "i=0\n",
    "for n in N_values:\n",
    "    print(\"N = \", n, \" accuracy:     \", end = '')\n",
    "    print(np.mean(train_scores_val[i]))\n",
    "    i+=1\n",
    "    "
   ]
  },
  {
   "cell_type": "code",
   "execution_count": 39,
   "metadata": {},
   "outputs": [
    {
     "name": "stdout",
     "output_type": "stream",
     "text": [
      "N =  5  accuracy:     0.8974105579609661\n",
      "N =  9  accuracy:     0.9261906081495611\n",
      "N =  13  accuracy:     0.940089338628745\n",
      "N =  18  accuracy:     0.9471724889726166\n",
      "N =  22  accuracy:     0.949077394449159\n",
      "N =  27  accuracy:     0.952291967289923\n",
      "N =  31  accuracy:     0.9540178868055893\n",
      "N =  36  accuracy:     0.9562798554754001\n",
      "N =  40  accuracy:     0.9549704033215107\n",
      "N =  45  accuracy:     0.9558930064807699\n"
     ]
    }
   ],
   "source": [
    "# Do some inspections...\n",
    "\n",
    "# View cross validation scores\n",
    "i=0\n",
    "for n in N_values:\n",
    "    print(\"N = \", n, \" accuracy:     \", end = '')\n",
    "    print(np.mean(cv_scores_val[i]))\n",
    "    i+=1"
   ]
  },
  {
   "cell_type": "markdown",
   "metadata": {},
   "source": [
    "**Answer**: _____\n",
    "\n",
    "The training set accuracy indicates that the random forest is extremly sensitive so what we observe is severe overfitting. The validation set accuracy is thus affected by the overfitting but increasing the number of estimators acts like regularization and induces more generalization in the validation set. ____"
   ]
  },
  {
   "cell_type": "markdown",
   "metadata": {},
   "source": [
    "**PROBLEM**: What is the accuracy of the Random Forest Model on the test set at the best value of N Estimators?"
   ]
  },
  {
   "cell_type": "code",
   "execution_count": 42,
   "metadata": {},
   "outputs": [
    {
     "data": {
      "text/plain": [
       "0.9561904761904761"
      ]
     },
     "execution_count": 42,
     "metadata": {},
     "output_type": "execute_result"
    }
   ],
   "source": [
    "# Obtain the best value of the hyper parameter\n",
    "i=0\n",
    "Best_accu=0\n",
    "Best_n=0\n",
    "for n in N_values:\n",
    "    accu = np.mean(cv_scores_val[i])\n",
    "    if accu > Best_accu:\n",
    "        Best_n = n\n",
    "        Best_accu = accu\n",
    "    \n",
    "    i+=1\n",
    "\n",
    "model_forest_best = RandomForestClassifier(n_jobs = -1, n_estimators = Best_n) \n",
    "model_forest_best = model_forest_best.fit(X_train, y_train)\n",
    "y_hat = model_forest_best.predict(X_test)\n",
    "accuracy_score(y_test, y_hat)"
   ]
  },
  {
   "cell_type": "markdown",
   "metadata": {},
   "source": [
    "The accuracy on the test set with the Random Forest Model is 0.956."
   ]
  },
  {
   "cell_type": "markdown",
   "metadata": {},
   "source": [
    "# PART 3: Convolutional Neural Networks (CNN) "
   ]
  },
  {
   "cell_type": "markdown",
   "metadata": {},
   "source": [
    "**PROBLEM**: Prepare data for a CNN. "
   ]
  },
  {
   "cell_type": "code",
   "execution_count": 201,
   "metadata": {},
   "outputs": [],
   "source": [
    "# Reshape image into 3 dimensions where third dimension is only 1 deep (so: height = 28px, width = 28px , canal = 1)\n",
    "X_train_reshaped = X_train.values.reshape(X_train.shape[0], 28, 28, 1)\n",
    "X_test_reshaped  = X_test.values.reshape(X_test.shape[0], 28, 28, 1)\n"
   ]
  },
  {
   "cell_type": "code",
   "execution_count": 202,
   "metadata": {},
   "outputs": [],
   "source": [
    "# Encode target labels to one hot vectors\n",
    "y_train_ohe = tf.keras.utils.to_categorical(y_train, 10)\n",
    "y_test_ohe = tf.keras.utils.to_categorical(y_test, 10)"
   ]
  },
  {
   "cell_type": "markdown",
   "metadata": {},
   "source": [
    "**PROBLEM**: Print the value of some pixels from the new, reshaped array to show you can access the data. "
   ]
  },
  {
   "cell_type": "code",
   "execution_count": 203,
   "metadata": {},
   "outputs": [
    {
     "name": "stdout",
     "output_type": "stream",
     "text": [
      "[0.]\n"
     ]
    }
   ],
   "source": [
    "# Print first pixel in first observation\n",
    "print(X_train_reshaped[0][0][0])"
   ]
  },
  {
   "cell_type": "code",
   "execution_count": 204,
   "metadata": {},
   "outputs": [
    {
     "name": "stdout",
     "output_type": "stream",
     "text": [
      "[0.]\n"
     ]
    }
   ],
   "source": [
    "# Print last pixel in last observation\n",
    "print(X_train_reshaped[-1][-1][0])"
   ]
  },
  {
   "cell_type": "code",
   "execution_count": 205,
   "metadata": {},
   "outputs": [
    {
     "name": "stdout",
     "output_type": "stream",
     "text": [
      "[0.]\n"
     ]
    }
   ],
   "source": [
    "# Print pixel from Observation 1234, horizontal offset 23, vertical offset 12\n",
    "print(X_train_reshaped[23][12][0])"
   ]
  },
  {
   "cell_type": "markdown",
   "metadata": {},
   "source": [
    "**PROBLEM**: Make a custom function to build and return a CNN object from TensorFlow.Keras (version 2). "
   ]
  },
  {
   "cell_type": "code",
   "execution_count": 216,
   "metadata": {},
   "outputs": [],
   "source": [
    "# Custom function to build and return a cnn model from TensorFlow.Keras (version 2)\n",
    "def cnn_model():\n",
    "    model = tf.keras.Sequential()\n",
    "    # Must define the input shape in the first layer of the neural network\n",
    "    model.add(tf.keras.layers.Conv2D(filters=32, kernel_size=(5, 5), padding='same', activation='relu', input_shape=(28,28,1)))\n",
    "    model.add(tf.keras.layers.MaxPooling2D(pool_size=(2, 2)))\n",
    "    model.add(tf.keras.layers.Dropout(0.2))\n",
    "    model.add(tf.keras.layers.Conv2D(filters=64, kernel_size=(3, 3), padding='same', activation='relu'))\n",
    "    model.add(tf.keras.layers.MaxPooling2D(pool_size=(2, 2)))\n",
    "    model.add(tf.keras.layers.Dropout(0.2))\n",
    "    model.add(tf.keras.layers.Flatten())\n",
    "    model.add(tf.keras.layers.Dense(256, activation='relu'))\n",
    "    model.add(tf.keras.layers.Dropout(0.5))\n",
    "    model.add(tf.keras.layers.Dense(10, activation='softmax'))\n",
    "    return model\n"
   ]
  },
  {
   "cell_type": "markdown",
   "metadata": {},
   "source": [
    "**PROBLEM**: Instantiate a model from your function above and print a diagram for it. "
   ]
  },
  {
   "cell_type": "code",
   "execution_count": 208,
   "metadata": {},
   "outputs": [],
   "source": [
    "# Instantiate a model from your function above and print a diagram for it.\n",
    "cnn_model  = cnn_model()\n",
    "\n"
   ]
  },
  {
   "cell_type": "markdown",
   "metadata": {},
   "source": [
    "**PROBLEM**: Fit the model for 10 epochs and a batch size of 200, and then print a summary. _Tip:_ Be sure to use the reshaped training data."
   ]
  },
  {
   "cell_type": "code",
   "execution_count": 209,
   "metadata": {},
   "outputs": [
    {
     "name": "stdout",
     "output_type": "stream",
     "text": [
      "Train on 33600 samples\n",
      "Epoch 1/10\n",
      "33600/33600 [==============================] - 19s 558us/sample - loss: 0.4069 - accuracy: 0.8725\n",
      "Epoch 2/10\n",
      "33600/33600 [==============================] - 17s 495us/sample - loss: 0.1132 - accuracy: 0.9654\n",
      "Epoch 3/10\n",
      "33600/33600 [==============================] - 17s 502us/sample - loss: 0.0830 - accuracy: 0.9751\n",
      "Epoch 4/10\n",
      "33600/33600 [==============================] - 18s 525us/sample - loss: 0.0671 - accuracy: 0.9795\n",
      "Epoch 5/10\n",
      "33600/33600 [==============================] - 18s 542us/sample - loss: 0.0569 - accuracy: 0.9816\n",
      "Epoch 6/10\n",
      "33600/33600 [==============================] - 17s 517us/sample - loss: 0.0475 - accuracy: 0.9851\n",
      "Epoch 7/10\n",
      "33600/33600 [==============================] - 17s 518us/sample - loss: 0.0446 - accuracy: 0.9858\n",
      "Epoch 8/10\n",
      "33600/33600 [==============================] - 18s 530us/sample - loss: 0.0424 - accuracy: 0.9862\n",
      "Epoch 9/10\n",
      "33600/33600 [==============================] - 17s 514us/sample - loss: 0.0373 - accuracy: 0.9881\n",
      "Epoch 10/10\n",
      "33600/33600 [==============================] - 18s 531us/sample - loss: 0.0328 - accuracy: 0.9898\n",
      "Model: \"sequential_20\"\n",
      "_________________________________________________________________\n",
      "Layer (type)                 Output Shape              Param #   \n",
      "=================================================================\n",
      "conv2d_42 (Conv2D)           (None, 28, 28, 32)        832       \n",
      "_________________________________________________________________\n",
      "max_pooling2d_41 (MaxPooling (None, 14, 14, 32)        0         \n",
      "_________________________________________________________________\n",
      "dropout_51 (Dropout)         (None, 14, 14, 32)        0         \n",
      "_________________________________________________________________\n",
      "conv2d_43 (Conv2D)           (None, 14, 14, 64)        18496     \n",
      "_________________________________________________________________\n",
      "max_pooling2d_42 (MaxPooling (None, 7, 7, 64)          0         \n",
      "_________________________________________________________________\n",
      "dropout_52 (Dropout)         (None, 7, 7, 64)          0         \n",
      "_________________________________________________________________\n",
      "flatten_19 (Flatten)         (None, 3136)              0         \n",
      "_________________________________________________________________\n",
      "dense_38 (Dense)             (None, 256)               803072    \n",
      "_________________________________________________________________\n",
      "dropout_53 (Dropout)         (None, 256)               0         \n",
      "_________________________________________________________________\n",
      "dense_39 (Dense)             (None, 10)                2570      \n",
      "=================================================================\n",
      "Total params: 824,970\n",
      "Trainable params: 824,970\n",
      "Non-trainable params: 0\n",
      "_________________________________________________________________\n"
     ]
    }
   ],
   "source": [
    "# Fit the model and print a summary \n",
    "cnn_model.compile(loss='categorical_crossentropy',\n",
    "             optimizer='adam',\n",
    "             metrics=['accuracy'])\n",
    "history = cnn_model.fit(X_train_reshaped, y_train_ohe, epochs=10, batch_size=200)\n",
    "cnn_model.summary()"
   ]
  },
  {
   "cell_type": "markdown",
   "metadata": {},
   "source": [
    "**PROBLEM**: Evaluate the trained CNN model on the test set and print the loss score and accuracy score. "
   ]
  },
  {
   "cell_type": "code",
   "execution_count": 210,
   "metadata": {},
   "outputs": [],
   "source": [
    "# Evaluate trained model on test set\n",
    "test_score = cnn_model.evaluate(X_test_reshaped, y_test_ohe, verbose=0)\n"
   ]
  },
  {
   "cell_type": "code",
   "execution_count": 211,
   "metadata": {},
   "outputs": [
    {
     "name": "stdout",
     "output_type": "stream",
     "text": [
      "\n",
      " Test loss: 0.03999618888796595\n",
      "\n",
      " Test accuracy: 0.9886905\n"
     ]
    }
   ],
   "source": [
    "# Print the loss and accuracy scores\n",
    "print('\\n', 'Test loss:', test_score[0])\n",
    "print('\\n', 'Test accuracy:', test_score[1])\n"
   ]
  },
  {
   "cell_type": "markdown",
   "metadata": {},
   "source": [
    "**PROBLEM**: Get the predicted values and identify the correct cases/incorrect cases. "
   ]
  },
  {
   "cell_type": "code",
   "execution_count": 212,
   "metadata": {},
   "outputs": [],
   "source": [
    "# Get predicted values\n",
    "y_pred = cnn_model.predict_classes(X_test_reshaped)\n",
    "\n",
    "correct=0\n",
    "index_wrong_class = []\n",
    "index_correct_class = []\n",
    "for i in range(len(X_test_reshaped)):\n",
    "    if y_pred[i] == y_test[i]:\n",
    "        correct+=1\n",
    "        index_correct_class.append(i)\n",
    "    else:\n",
    "        index_wrong_class.append(i)"
   ]
  },
  {
   "cell_type": "markdown",
   "metadata": {},
   "source": [
    "**PROBLEM**: Print number of correctly and incorrectly clasified observations. "
   ]
  },
  {
   "cell_type": "code",
   "execution_count": 213,
   "metadata": {},
   "outputs": [
    {
     "name": "stdout",
     "output_type": "stream",
     "text": [
      "\n",
      " correctly classified: 8305\n",
      "\n",
      " Incorrectly classified: 95\n"
     ]
    }
   ],
   "source": [
    "# Print number of correctly and incorrectly clasified observations    \n",
    "print('\\n', 'correctly classified:', correct)\n",
    "print('\\n', 'Incorrectly classified:', len(X_test)-correct)"
   ]
  },
  {
   "cell_type": "markdown",
   "metadata": {},
   "source": [
    "**PROBLEM**: Display 5 examples of incorrectly classified images. "
   ]
  },
  {
   "cell_type": "code",
   "execution_count": 214,
   "metadata": {},
   "outputs": [
    {
     "data": {
      "image/png": "[encoded data removed]",
      "text/plain": [
       "<Figure size 432x288 with 1 Axes>"
      ]
     },
     "metadata": {
      "needs_background": "light"
     },
     "output_type": "display_data"
    },
    {
     "data": {
      "image/png": "[encoded data removed]",
      "text/plain": [
       "<Figure size 432x288 with 1 Axes>"
      ]
     },
     "metadata": {
      "needs_background": "light"
     },
     "output_type": "display_data"
    },
    {
     "data": {
      "image/png": "[encoded data removed]",
      "text/plain": [
       "<Figure size 432x288 with 1 Axes>"
      ]
     },
     "metadata": {
      "needs_background": "light"
     },
     "output_type": "display_data"
    },
    {
     "data": {
      "image/png": "[encoded data removed]",
      "text/plain": [
       "<Figure size 432x288 with 1 Axes>"
      ]
     },
     "metadata": {
      "needs_background": "light"
     },
     "output_type": "display_data"
    },
    {
     "data": {
      "image/png": "[encoded data removed]",
      "text/plain": [
       "<Figure size 432x288 with 1 Axes>"
      ]
     },
     "metadata": {
      "needs_background": "light"
     },
     "output_type": "display_data"
    }
   ],
   "source": [
    "# Display the first 5 examples of incorrectly classified images\n",
    "def transform_2D(vector):\n",
    "    Matrix = [[0 for x in range(28)] for y in range(28)] \n",
    "    for i in range(28):\n",
    "        for j in range(28):\n",
    "            Matrix[i][j] = vector[28*i + j] \n",
    "    return Matrix\n",
    "\n",
    "first_indexes = index_wrong_class[0:5]\n",
    "\n",
    "for index in first_indexes:\n",
    "    image = transform_2D(X_test.iloc[index])\n",
    "    plt.subplot(3, 1, 1)\n",
    "    plt.imshow(image)\n",
    "    plt.show()\n",
    "\n",
    "\n"
   ]
  },
  {
   "cell_type": "markdown",
   "metadata": {},
   "source": [
    "**QUESTION**: Explain why you think the CNN made an error on those observations. "
   ]
  },
  {
   "cell_type": "markdown",
   "metadata": {},
   "source": [
    "**Answer**: \n",
    "\n",
    "All these images are extremly confusing: the traces are either too large or too narrow. The second example here is \n",
    "very confusing because the zero has a sharp edge on top and this one could potentialy event trick a human. \n",
    "CNNs are very sensitive to edges so if a zero has one, the odds that is will be wrongly classified are big.\n"
   ]
  },
  {
   "cell_type": "markdown",
   "metadata": {},
   "source": [
    "**PROBLEM**: Predict and then use the plot the custom `plot_confusion_matrix()` function to plot the confustion matrix for all ten digits. "
   ]
  },
  {
   "cell_type": "code",
   "execution_count": 215,
   "metadata": {},
   "outputs": [
    {
     "data": {
      "image/png": "[encoded data removed]",
      "text/plain": [
       "<Figure size 432x288 with 2 Axes>"
      ]
     },
     "metadata": {
      "needs_background": "light"
     },
     "output_type": "display_data"
    }
   ],
   "source": [
    "# Print the confustion matrix for all ten digits\n",
    "cm = confusion_matrix(y_test, y_pred)  \n",
    "plot_confusion_matrix(cm, classes=[0,1], normalize=False, title='Confusion Matrix', cmap=plt.cm.Reds)\n",
    "\n"
   ]
  },
  {
   "cell_type": "markdown",
   "metadata": {},
   "source": [
    "# PART 4: Stress Your Data and Re-Run Models and Tests"
   ]
  },
  {
   "cell_type": "markdown",
   "metadata": {},
   "source": [
    "This final part of this assignment is open-ended... Think of ways to distort, manipulate, and stress your training data. Take those steps and then re-run a Logit Model and a CNN model. Compare how the two models perform (relatively) given the stressed training data. Comment on what you find. This is worth 25% of the assignment, so be creative and thorough."
   ]
  },
  {
   "cell_type": "code",
   "execution_count": 217,
   "metadata": {},
   "outputs": [],
   "source": [
    "from keras.preprocessing.image import ImageDataGenerator \n",
    "\n",
    "# Save dataset sizes\n",
    "train_size = X_train_reshaped.shape[0]\n",
    "test_size = X_test_reshaped.shape[0]\n",
    "      \n",
    "augment_size=30000\n",
    "\n",
    "image_generator = ImageDataGenerator(\n",
    "    rotation_range=10,\n",
    "    zoom_range = 0.05, \n",
    "    width_shift_range=0.05,\n",
    "    height_shift_range=0.05,\n",
    "    horizontal_flip=False,\n",
    "    vertical_flip=False, \n",
    "    data_format=\"channels_last\",\n",
    "    zca_whitening=True)\n",
    "\n",
    "\n",
    "image_generator.fit(X_train_reshaped, augment=True)\n",
    "# get transformed images\n",
    "randidx = np.random.randint(train_size, size=augment_size)\n",
    "x_augmented = X_train_reshaped[randidx].copy()\n",
    "y_augmented = y_train_ohe[randidx].copy()\n",
    "x_augmented = image_generator.flow(x_augmented, np.zeros(augment_size),\n",
    "                            batch_size=augment_size, shuffle=False).next()[0]\n",
    "        \n",
    "# append augmented data to trainset\n",
    "X_train_reshaped = np.concatenate((X_train_reshaped, x_augmented))\n",
    "y_train_ohe = np.concatenate((y_train_ohe, y_augmented))\n",
    "train_size = X_train_reshaped.shape[0]\n",
    "test_size = X_test_reshaped.shape[0]\n",
    "\n",
    "def next_train_batch(batch_size):\n",
    "    randidx = np.random.randint(self.train_size, size=batch_size)\n",
    "    epoch_x = self.x_train[randidx]\n",
    "    epoch_y = self.y_train[randidx]\n",
    "    return epoch_x, epoch_y\n",
    "\n",
    "def next_test_batch(batch_size):\n",
    "    randidx = np.random.randint(self.test_size, size=batch_size)\n",
    "    epoch_x = self.x_test[randidx]\n",
    "    epoch_y = self.y_test[randidx]\n",
    "    return epoch_x, epoch_y\n",
    "\n",
    "def shuffle_train():\n",
    "    indices = np.random.permutation(self.train_size)\n",
    "    self.x_train = self.x_train[indices]\n",
    "    self.y_train = self.y_train[indices]"
   ]
  },
  {
   "cell_type": "code",
   "execution_count": 218,
   "metadata": {},
   "outputs": [
    {
     "name": "stdout",
     "output_type": "stream",
     "text": [
      "63600\n",
      "8400\n"
     ]
    }
   ],
   "source": [
    "#Verify that 10000 new images have been appended\n",
    "print(len(X_train_reshaped))\n",
    "print(len(X_test_reshaped))"
   ]
  },
  {
   "cell_type": "code",
   "execution_count": 219,
   "metadata": {},
   "outputs": [
    {
     "name": "stdout",
     "output_type": "stream",
     "text": [
      "Train on 63600 samples\n",
      "Epoch 1/10\n",
      "63600/63600 [==============================] - 32s 507us/sample - loss: 0.4389 - accuracy: 0.8650\n",
      "Epoch 2/10\n",
      "63600/63600 [==============================] - 33s 523us/sample - loss: 0.1335 - accuracy: 0.9605\n",
      "Epoch 3/10\n",
      "63600/63600 [==============================] - 32s 505us/sample - loss: 0.0967 - accuracy: 0.9720\n",
      "Epoch 4/10\n",
      "63600/63600 [==============================] - 34s 540us/sample - loss: 0.0782 - accuracy: 0.9765\n",
      "Epoch 5/10\n",
      "63600/63600 [==============================] - 34s 535us/sample - loss: 0.0655 - accuracy: 0.9794\n",
      "Epoch 6/10\n",
      "63600/63600 [==============================] - 32s 496us/sample - loss: 0.0544 - accuracy: 0.9829\n",
      "Epoch 7/10\n",
      "63600/63600 [==============================] - 32s 496us/sample - loss: 0.0514 - accuracy: 0.9842\n",
      "Epoch 8/10\n",
      "63600/63600 [==============================] - 32s 505us/sample - loss: 0.0449 - accuracy: 0.9853\n",
      "Epoch 9/10\n",
      "63600/63600 [==============================] - 33s 514us/sample - loss: 0.0441 - accuracy: 0.9866\n",
      "Epoch 10/10\n",
      "63600/63600 [==============================] - 34s 530us/sample - loss: 0.0388 - accuracy: 0.9872\n",
      "Model: \"sequential_21\"\n",
      "_________________________________________________________________\n",
      "Layer (type)                 Output Shape              Param #   \n",
      "=================================================================\n",
      "conv2d_44 (Conv2D)           (None, 28, 28, 32)        832       \n",
      "_________________________________________________________________\n",
      "max_pooling2d_43 (MaxPooling (None, 14, 14, 32)        0         \n",
      "_________________________________________________________________\n",
      "dropout_54 (Dropout)         (None, 14, 14, 32)        0         \n",
      "_________________________________________________________________\n",
      "conv2d_45 (Conv2D)           (None, 14, 14, 64)        18496     \n",
      "_________________________________________________________________\n",
      "max_pooling2d_44 (MaxPooling (None, 7, 7, 64)          0         \n",
      "_________________________________________________________________\n",
      "dropout_55 (Dropout)         (None, 7, 7, 64)          0         \n",
      "_________________________________________________________________\n",
      "flatten_20 (Flatten)         (None, 3136)              0         \n",
      "_________________________________________________________________\n",
      "dense_40 (Dense)             (None, 256)               803072    \n",
      "_________________________________________________________________\n",
      "dropout_56 (Dropout)         (None, 256)               0         \n",
      "_________________________________________________________________\n",
      "dense_41 (Dense)             (None, 10)                2570      \n",
      "=================================================================\n",
      "Total params: 824,970\n",
      "Trainable params: 824,970\n",
      "Non-trainable params: 0\n",
      "_________________________________________________________________\n"
     ]
    }
   ],
   "source": [
    "cnn_model_aug  = cnn_model()\n",
    "cnn_model_aug.compile(loss='categorical_crossentropy',\n",
    "             optimizer='adam',\n",
    "             metrics=['accuracy'])\n",
    "history = cnn_model_aug.fit(X_train_reshaped, y_train_ohe, epochs=10, batch_size=200)\n",
    "cnn_model_aug.summary()"
   ]
  },
  {
   "cell_type": "code",
   "execution_count": 220,
   "metadata": {},
   "outputs": [
    {
     "name": "stdout",
     "output_type": "stream",
     "text": [
      "\n",
      " Test loss: 0.03611885030587603\n",
      "\n",
      " Test accuracy: 0.9892857\n"
     ]
    }
   ],
   "source": [
    "#Evaluation of the test score\n",
    "test_score = cnn_model_aug.evaluate(X_test_reshaped, y_test_ohe, verbose=0)\n",
    "# Print the loss and accuracy scores\n",
    "print('\\n', 'Test loss:', test_score[0])\n",
    "print('\\n', 'Test accuracy:', test_score[1])\n"
   ]
  },
  {
   "cell_type": "markdown",
   "metadata": {},
   "source": [
    "Comment: \n",
    "\n",
    "By distorting and stressing the data, we can artificialy add new images (30000) to the dataset and thus increase the prediction of the CNN.\n",
    "\n",
    "For this part, the library keras was used to get the function ImageDataGenerator() which was used to\n",
    "create new \"stressed\" images similar to some images of the training set but with some random rotation, zoom, width shift and height shift.\n",
    "\n",
    "As a result, for the same amount of epochs, the accuracy with the augmented data is 0.9892 > 0.9886.\n",
    "The augmentation allowed to improve the model to be able to predict correctly a couple more images on the test set."
   ]
  },
  {
   "cell_type": "code",
   "execution_count": null,
   "metadata": {},
   "outputs": [],
   "source": []
  }
 ],
 "metadata": {
  "kernelspec": {
   "display_name": "Python 3",
   "language": "python",
   "name": "python3"
  },
  "language_info": {
   "codemirror_mode": {
    "name": "ipython",
    "version": 3
   },
   "file_extension": ".py",
   "mimetype": "text/x-python",
   "name": "python",
   "nbconvert_exporter": "python",
   "pygments_lexer": "ipython3",
   "version": "3.6.8"
  }
 },
 "nbformat": 4,
 "nbformat_minor": 2
}
