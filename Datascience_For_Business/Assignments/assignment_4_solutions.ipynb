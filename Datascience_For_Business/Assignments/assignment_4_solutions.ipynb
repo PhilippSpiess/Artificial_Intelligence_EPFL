{
  "cells": [
    {
      "cell_type": "markdown",
      "source": [
        "# DSFB Assignment 4"
      ],
      "metadata": {}
    },
    {
      "cell_type": "markdown",
      "source": [
        "In this assignment, you will begin to work with text data and natural language processing. You will analyze aspects of th DonorsChoose.org program. Aspects of this project were first posed as a Kaggle challenge and the data comes from [Kaggle DonorsChoose.org Application Screening challenge](https://www.kaggle.com/c/donorschoose-application-screening/data). We have changed the nature of what you need to do in this assignment (so it does not track what was done in the Kaggle Challenge), but nevertheless using or referring to the Kaggle Challenge repository is not allowed for the assignment.\n",
        "\n",
        "###  DonorsChoose.org  \n",
        "  \n",
        "Founded in 2000 by a high school teacher in the Bronx, DonorsChoose.org empowers public school teachers from across the country to request much-needed materials and experiences for their students. At any given time, there are thousands of classroom requests that can be brought to life with a gift of any amount. DonorsChoose.org receives hundreds of thousands of project proposals each year for classroom projects in need of funding. Right now, a large number of volunteers is needed to manually screen each submission before it's approved to be posted on the DonorsChoose.org website. In this assignment, you will analyze the text of the essays and requirements from each proposal."
      ],
      "metadata": {}
    },
    {
      "cell_type": "markdown",
      "source": [
        "<img src=\"https://cached.imagescaler.hbpl.co.uk/resize/scaleWidth/580/cached.offlinehbpl.hbpl.co.uk/news/NST/C8B9CC1D-03B0-9B80-4CFE78B5B539240F.jpg\" width=\"500\" height=\"500\" align=\"center\"/>\n",
        "\n",
        "Image source: https://cached.imagescaler.hbpl.co.uk/resize/scaleWidth/580/cached.offlinehbpl.hbpl.co.uk/news/NST/C8B9CC1D-03B0-9B80-4CFE78B5B539240F.jpg"
      ],
      "metadata": {}
    },
    {
      "cell_type": "markdown",
      "source": [
        "### Data"
      ],
      "metadata": {}
    },
    {
      "cell_type": "markdown",
      "source": [
        "As you will see, this dataset includes many different kinds of features with structured and unstructured data. The dataset consists of application materials (see *application_data.csv*) and resources requested (see *resource_data.csv*). The application materials (see *application_data.csv*) contain the following features.\n",
        "\n",
        "| Feature name  | Description  |\n",
        "|----------------|--------------|\n",
        "| id  | Unique id of the project application    |\n",
        "| teacher_id    | id of the teacher submitting the application  |\n",
        "| teacher_prefix    | title of the teacher's name (Ms., Mr., etc.)    |\n",
        "| school_state    | US state of the teacher's school    |\n",
        "| project_submitted_datetime    | application submission timestamp    |\n",
        "| project_grade_category    | school grade levels (PreK-2, 3-5, 6-8, and 9-12)   |\n",
        "| project_subject_categories   | category of the project (e.g., \"Music & The Arts\")    |\n",
        "| project_subject_subcategories    | sub-category of the project (e.g., \"Visual Arts\")    |\n",
        "| project_title    | title of the project    |\n",
        "| project_essay_1    | first essay*   |\n",
        "| project_essay_2    | second essay*    |\n",
        "| project_essay_3    | third essay*   |\n",
        "| project_essay_4    | fourth essay*  |\n",
        "| project_resource_summary    | summary of the resources needed for the project    |\n",
        "| teacher_number_of_previously_posted_projects   | number of previously posted applications by the submitting teacher    |\n",
        "| project_is_approved    | whether DonorsChoose proposal was accepted (0=\"rejected\", 1=\"accepted\"); train.csv only    |\n",
        "\n",
        "\n",
        "\\*Note: Prior to May 17, 2016, the prompts for the essays were as follows:\n",
        "\n",
        "  * project_essay_1: \"Introduce us to your classroom\"  \n",
        "\n",
        "  * project_essay_2: \"Tell us more about your students\"  \n",
        "\n",
        "  * project_essay_3: \"Describe how your students will use the materials you're requesting\"  \n",
        "\n",
        "  * project_essay_4: \"Close by sharing why your project will make a difference\"  \n",
        "\n",
        "Starting on May 17, 2016, the number of essays was reduced from 4 to 2, and the prompts for the first 2 essays were changed to the following:\n",
        "\n",
        "  * project_essay_1: \"Describe your students: What makes your students special? Specific details about their background, your neighborhood, and your school are all helpful.\"  \n",
        "\n",
        "  * project_essay_2: \"About your project: How will these materials make a difference in your students' learning and improve their school lives?\"  \n",
        "\n",
        "For all projects with project_submitted_datetime of 2016-05-17 and later, the values of project_essay_3 and project_essay_4 will be missing (i.e. NaN).\n"
      ],
      "metadata": {}
    },
    {
      "cell_type": "markdown",
      "source": [
        "### Special NLP Libraries"
      ],
      "metadata": {}
    },
    {
      "cell_type": "markdown",
      "source": [
        "We will use several new libraries for this assignment - so be sure to first install those on your machine by with `pip` in a terminal:\n",
        "\n",
        "    pip install --user -U nltk\n",
        "    pip install -U gensim\n",
        "    pip install -U spacy\n",
        "    pip install -U pyldavis"
      ],
      "metadata": {}
    },
    {
      "cell_type": "markdown",
      "source": [
        "## IMPORTS"
      ],
      "metadata": {}
    },
    {
      "cell_type": "code",
      "source": [
        "# Standard imports\n",
        "import numpy  as np\n",
        "import pandas as pd\n",
        "\n",
        "import itertools\n",
        "import random\n",
        "import math  \n",
        "import copy\n",
        "\n",
        "from pprint import pprint  # nicer printing\n",
        "\n",
        "# Gensim\n",
        "import gensim\n",
        "import gensim.corpora as corpora\n",
        "from gensim.utils import simple_preprocess\n",
        "from gensim.models import CoherenceModel\n",
        "\n",
        "# Other NLP\n",
        "import re\n",
        "import spacy\n",
        "import nltk\n",
        "from nltk.corpus import stopwords\n",
        "\n",
        "# General Plotting\n",
        "import matplotlib.pyplot as plt\n",
        "from matplotlib.colors import ListedColormap\n",
        "import matplotlib.patches as patches\n",
        "%matplotlib inline  \n",
        "import seaborn as sns\n",
        "sns.set(style=\"white\")\n",
        "\n",
        "# Special Plotting\n",
        "import pyLDAvis\n",
        "import pyLDAvis.gensim  # don't skip this\n",
        "\n",
        "# ignore some warnings \n",
        "import warnings\n",
        "warnings.filterwarnings('ignore')\n",
        "\n",
        "# Set the maximum number of rows displayed by pandas\n",
        "pd.options.display.max_rows = 1000\n",
        "\n",
        "# Set some CONSTANTS that will be used later\n",
        "SEED    = 41  # base to generate a random number\n",
        "SCORE   = 'roc_auc'\n",
        "FIGSIZE = (16, 10)"
      ],
      "outputs": [],
      "execution_count": 1,
      "metadata": {}
    },
    {
      "cell_type": "markdown",
      "source": [
        "# PART 1: Prep"
      ],
      "metadata": {}
    },
    {
      "cell_type": "markdown",
      "source": [
        "**PROBLEM**: To use a particular model in the `spacy` package, you need to manually download and install that particular model. You will need to run the following code from a terminal: `python -m spacy download en_core_web_sm`. Rather than doing that manually from bash in a separate terminal program, do it inline below using a \"magic\" command in jupyter. HINT: Use *!* followed by a bash command in a cell to run a bash command."
      ],
      "metadata": {}
    },
    {
      "cell_type": "code",
      "source": [
        "!python -m spacy download en_core_web_sm"
      ],
      "outputs": [
        {
          "output_type": "stream",
          "name": "stdout",
          "text": [
            "Requirement already satisfied: en_core_web_sm==2.2.0 from https://github.com/explosion/spacy-models/releases/download/en_core_web_sm-2.2.0/en_core_web_sm-2.2.0.tar.gz#egg=en_core_web_sm==2.2.0 in /anaconda3/lib/python3.7/site-packages (2.2.0)\n",
            "Requirement already satisfied: spacy>=2.2.0 in /anaconda3/lib/python3.7/site-packages (from en_core_web_sm==2.2.0) (2.2.2)\n",
            "Requirement already satisfied: setuptools in /anaconda3/lib/python3.7/site-packages (from spacy>=2.2.0->en_core_web_sm==2.2.0) (41.4.0)\n",
            "Requirement already satisfied: cymem<2.1.0,>=2.0.2 in /anaconda3/lib/python3.7/site-packages (from spacy>=2.2.0->en_core_web_sm==2.2.0) (2.0.3)\n",
            "Requirement already satisfied: numpy>=1.15.0 in /anaconda3/lib/python3.7/site-packages (from spacy>=2.2.0->en_core_web_sm==2.2.0) (1.17.2)\n",
            "Requirement already satisfied: preshed<3.1.0,>=3.0.2 in /anaconda3/lib/python3.7/site-packages (from spacy>=2.2.0->en_core_web_sm==2.2.0) (3.0.2)\n",
            "Requirement already satisfied: importlib-metadata>=0.20; python_version < \"3.8\" in /anaconda3/lib/python3.7/site-packages (from spacy>=2.2.0->en_core_web_sm==2.2.0) (0.23)\n",
            "Requirement already satisfied: thinc<7.4.0,>=7.3.0 in /anaconda3/lib/python3.7/site-packages (from spacy>=2.2.0->en_core_web_sm==2.2.0) (7.3.1)\n",
            "Requirement already satisfied: srsly<1.1.0,>=0.1.0 in /anaconda3/lib/python3.7/site-packages (from spacy>=2.2.0->en_core_web_sm==2.2.0) (0.2.0)\n",
            "Requirement already satisfied: requests<3.0.0,>=2.13.0 in /anaconda3/lib/python3.7/site-packages (from spacy>=2.2.0->en_core_web_sm==2.2.0) (2.19.1)\n",
            "Requirement already satisfied: plac<1.2.0,>=0.9.6 in /anaconda3/lib/python3.7/site-packages (from spacy>=2.2.0->en_core_web_sm==2.2.0) (1.1.3)\n",
            "Requirement already satisfied: wasabi<1.1.0,>=0.3.0 in /anaconda3/lib/python3.7/site-packages (from spacy>=2.2.0->en_core_web_sm==2.2.0) (0.4.0)\n",
            "Requirement already satisfied: murmurhash<1.1.0,>=0.28.0 in /anaconda3/lib/python3.7/site-packages (from spacy>=2.2.0->en_core_web_sm==2.2.0) (1.0.2)\n",
            "Requirement already satisfied: blis<0.5.0,>=0.4.0 in /anaconda3/lib/python3.7/site-packages (from spacy>=2.2.0->en_core_web_sm==2.2.0) (0.4.1)\n",
            "Requirement already satisfied: zipp>=0.5 in /anaconda3/lib/python3.7/site-packages (from importlib-metadata>=0.20; python_version < \"3.8\"->spacy>=2.2.0->en_core_web_sm==2.2.0) (0.6.0)\n",
            "Requirement already satisfied: tqdm<5.0.0,>=4.10.0 in /anaconda3/lib/python3.7/site-packages (from thinc<7.4.0,>=7.3.0->spacy>=2.2.0->en_core_web_sm==2.2.0) (4.26.0)\n",
            "Requirement already satisfied: urllib3<1.24,>=1.21.1 in /anaconda3/lib/python3.7/site-packages (from requests<3.0.0,>=2.13.0->spacy>=2.2.0->en_core_web_sm==2.2.0) (1.23)\n",
            "Requirement already satisfied: certifi>=2017.4.17 in /anaconda3/lib/python3.7/site-packages (from requests<3.0.0,>=2.13.0->spacy>=2.2.0->en_core_web_sm==2.2.0) (2018.11.29)\n",
            "Requirement already satisfied: chardet<3.1.0,>=3.0.2 in /anaconda3/lib/python3.7/site-packages (from requests<3.0.0,>=2.13.0->spacy>=2.2.0->en_core_web_sm==2.2.0) (3.0.4)\n",
            "Requirement already satisfied: idna<2.8,>=2.5 in /anaconda3/lib/python3.7/site-packages (from requests<3.0.0,>=2.13.0->spacy>=2.2.0->en_core_web_sm==2.2.0) (2.7)\n",
            "Requirement already satisfied: more-itertools in /anaconda3/lib/python3.7/site-packages (from zipp>=0.5->importlib-metadata>=0.20; python_version < \"3.8\"->spacy>=2.2.0->en_core_web_sm==2.2.0) (4.3.0)\n",
            "Requirement already satisfied: six<2.0.0,>=1.0.0 in /anaconda3/lib/python3.7/site-packages (from more-itertools->zipp>=0.5->importlib-metadata>=0.20; python_version < \"3.8\"->spacy>=2.2.0->en_core_web_sm==2.2.0) (1.12.0)\n",
            "\u001b[38;5;2m✔ Download and installation successful\u001b[0m\n",
            "You can now load the model via spacy.load('en_core_web_sm')\n"
          ]
        }
      ],
      "execution_count": 2,
      "metadata": {}
    },
    {
      "cell_type": "markdown",
      "source": [
        "**PROBLEM**: To confirm that `spacy` is working (and `en_core_web_sm` is installed on your computer), you should be able to use `spacy.load()` to build a `Language` object to perform some basic nlp. Do that below:"
      ],
      "metadata": {}
    },
    {
      "cell_type": "code",
      "source": [
        "# Test use of spacy by using the spacy.load() function\n",
        "text = \"I love Data Science!\"\n",
        "nlp = spacy.load(\"en_core_web_sm\")\n",
        "doc = nlp(text)\n",
        "for token in doc:\n",
        "    print(token.text, token.pos_, token.dep_)"
      ],
      "outputs": [
        {
          "output_type": "stream",
          "name": "stdout",
          "text": [
            "I PRON nsubj\n",
            "love VERB ROOT\n",
            "Data NOUN compound\n",
            "Science PROPN dobj\n",
            "! PUNCT punct\n"
          ]
        }
      ],
      "execution_count": 3,
      "metadata": {}
    },
    {
      "cell_type": "markdown",
      "source": [
        "**PROBLEM**: Use nltk.download() to download a list of raw stopwords. (see NLTK documentation)"
      ],
      "metadata": {}
    },
    {
      "cell_type": "code",
      "source": [
        "# Download NLTK stopwords\n",
        "nltk.download('stopwords')"
      ],
      "outputs": [
        {
          "output_type": "stream",
          "name": "stdout",
          "text": [
            "[nltk_data] Downloading package stopwords to\n",
            "[nltk_data]     /Users/younge/nltk_data...\n",
            "[nltk_data]   Package stopwords is already up-to-date!\n"
          ]
        },
        {
          "output_type": "execute_result",
          "execution_count": 4,
          "data": {
            "text/plain": [
              "True"
            ]
          },
          "metadata": {}
        }
      ],
      "execution_count": 4,
      "metadata": {}
    },
    {
      "cell_type": "markdown",
      "source": [
        "**PROBLEM**: Use the `stopwords` object from `nltk` to build a list of English stopwords. "
      ],
      "metadata": {}
    },
    {
      "cell_type": "code",
      "source": [
        "# Get English Stopwords from NLTK\n",
        "stop_words = stopwords.words('english')"
      ],
      "outputs": [],
      "execution_count": 5,
      "metadata": {}
    },
    {
      "cell_type": "markdown",
      "source": [
        "**PROBLEM**: Extend your `stop_words` list with some additional stopwords that you believe should be ignored in this particular context."
      ],
      "metadata": {}
    },
    {
      "cell_type": "code",
      "source": [
        "# Extend the stop word list  \n",
        "stop_words.extend(['project', 'teacher', 'subject', 'school', 'application'])"
      ],
      "outputs": [],
      "execution_count": 6,
      "metadata": {}
    },
    {
      "cell_type": "markdown",
      "source": [
        "### Download the Data"
      ],
      "metadata": {}
    },
    {
      "cell_type": "markdown",
      "source": [
        "Unlike other projects, this project includes a training set too big for GitHub. Through the terminal lab of Jupyter lab, download the data using the *wget* command, unzip it using the *zip* command and check that it's in the root directory of the project. \n",
        "\n",
        "Locations : \n",
        "\n",
        "    Applications dataset: https://storage.googleapis.com/dsfm/application/application_data.csv.zip\n",
        "    Resources dataset: https://storage.googleapis.com/dsfm/application/resource_data.csv.zip\n",
        "    \n",
        "Hint: Use *wget* and *unzip* commands. Use *!* followed by a bash command in a cell to run a bash command."
      ],
      "metadata": {}
    },
    {
      "cell_type": "markdown",
      "source": [
        "**PROBLEM**: wget the data"
      ],
      "metadata": {}
    },
    {
      "cell_type": "code",
      "source": [
        "# wget the data\n",
        "!wget -N 'https://storage.googleapis.com/dsfm/application/application_data.csv.zip'\n",
        "!wget -N 'https://storage.googleapis.com/dsfm/application/resource_data.csv.zip'"
      ],
      "outputs": [],
      "execution_count": null,
      "metadata": {}
    },
    {
      "cell_type": "markdown",
      "source": [
        "**PROBLEM**: unzip the data"
      ],
      "metadata": {}
    },
    {
      "cell_type": "code",
      "source": [
        "# unzip the data\n",
        "!unzip -o application_data.csv.zip\n",
        "!unzip -o resource_data.csv.zip"
      ],
      "outputs": [],
      "execution_count": null,
      "metadata": {}
    },
    {
      "cell_type": "markdown",
      "source": [
        "# PART 2: Load Data"
      ],
      "metadata": {}
    },
    {
      "cell_type": "markdown",
      "source": [
        "**PROBLEM**: Load `application_data.csv` and investigate it a bit."
      ],
      "metadata": {}
    },
    {
      "cell_type": "code",
      "source": [
        "# Load applications\n",
        "applications = pd.read_csv('application_data.csv')\n",
        "print('Application dataset')\n",
        "print(applications.shape)\n",
        "applications.head()"
      ],
      "outputs": [
        {
          "output_type": "stream",
          "name": "stdout",
          "text": [
            "Application dataset\n",
            "(182080, 16)\n"
          ]
        },
        {
          "output_type": "execute_result",
          "execution_count": 7,
          "data": {
            "text/html": [
              "<div>\n",
              "<style scoped>\n",
              "    .dataframe tbody tr th:only-of-type {\n",
              "        vertical-align: middle;\n",
              "    }\n",
              "\n",
              "    .dataframe tbody tr th {\n",
              "        vertical-align: top;\n",
              "    }\n",
              "\n",
              "    .dataframe thead th {\n",
              "        text-align: right;\n",
              "    }\n",
              "</style>\n",
              "<table border=\"1\" class=\"dataframe\">\n",
              "  <thead>\n",
              "    <tr style=\"text-align: right;\">\n",
              "      <th></th>\n",
              "      <th>id</th>\n",
              "      <th>teacher_id</th>\n",
              "      <th>teacher_prefix</th>\n",
              "      <th>school_state</th>\n",
              "      <th>project_submitted_datetime</th>\n",
              "      <th>project_grade_category</th>\n",
              "      <th>project_subject_categories</th>\n",
              "      <th>project_subject_subcategories</th>\n",
              "      <th>project_title</th>\n",
              "      <th>project_essay_1</th>\n",
              "      <th>project_essay_2</th>\n",
              "      <th>project_essay_3</th>\n",
              "      <th>project_essay_4</th>\n",
              "      <th>project_resource_summary</th>\n",
              "      <th>teacher_number_of_previously_posted_projects</th>\n",
              "      <th>project_is_approved</th>\n",
              "    </tr>\n",
              "  </thead>\n",
              "  <tbody>\n",
              "    <tr>\n",
              "      <th>0</th>\n",
              "      <td>p036502</td>\n",
              "      <td>484aaf11257089a66cfedc9461c6bd0a</td>\n",
              "      <td>Ms.</td>\n",
              "      <td>NV</td>\n",
              "      <td>2016-11-18 14:45:59</td>\n",
              "      <td>Grades PreK-2</td>\n",
              "      <td>Literacy &amp; Language</td>\n",
              "      <td>Literacy</td>\n",
              "      <td>Super Sight Word Centers</td>\n",
              "      <td>Most of my kindergarten students come from low...</td>\n",
              "      <td>I currently have a differentiated sight word c...</td>\n",
              "      <td>NaN</td>\n",
              "      <td>NaN</td>\n",
              "      <td>My students need 6 Ipod Nano's to create and d...</td>\n",
              "      <td>26</td>\n",
              "      <td>1</td>\n",
              "    </tr>\n",
              "    <tr>\n",
              "      <th>1</th>\n",
              "      <td>p039565</td>\n",
              "      <td>df72a3ba8089423fa8a94be88060f6ed</td>\n",
              "      <td>Mrs.</td>\n",
              "      <td>GA</td>\n",
              "      <td>2017-04-26 15:57:28</td>\n",
              "      <td>Grades 3-5</td>\n",
              "      <td>Music &amp; The Arts, Health &amp; Sports</td>\n",
              "      <td>Performing Arts, Team Sports</td>\n",
              "      <td>Keep Calm and Dance On</td>\n",
              "      <td>Our elementary school is a culturally rich sch...</td>\n",
              "      <td>We strive to provide our diverse population of...</td>\n",
              "      <td>NaN</td>\n",
              "      <td>NaN</td>\n",
              "      <td>My students need matching shirts to wear for d...</td>\n",
              "      <td>1</td>\n",
              "      <td>0</td>\n",
              "    </tr>\n",
              "    <tr>\n",
              "      <th>2</th>\n",
              "      <td>p233823</td>\n",
              "      <td>a9b876a9252e08a55e3d894150f75ba3</td>\n",
              "      <td>Ms.</td>\n",
              "      <td>UT</td>\n",
              "      <td>2017-01-01 22:57:44</td>\n",
              "      <td>Grades 3-5</td>\n",
              "      <td>Math &amp; Science, Literacy &amp; Language</td>\n",
              "      <td>Applied Sciences, Literature &amp; Writing</td>\n",
              "      <td>Lets 3Doodle to Learn</td>\n",
              "      <td>Hello;\\r\\nMy name is Mrs. Brotherton. I teach ...</td>\n",
              "      <td>We are looking to add some 3Doodler to our cla...</td>\n",
              "      <td>NaN</td>\n",
              "      <td>NaN</td>\n",
              "      <td>My students need the 3doodler. We are an SEM s...</td>\n",
              "      <td>5</td>\n",
              "      <td>1</td>\n",
              "    </tr>\n",
              "    <tr>\n",
              "      <th>3</th>\n",
              "      <td>p185307</td>\n",
              "      <td>525fdbb6ec7f538a48beebaa0a51b24f</td>\n",
              "      <td>Mr.</td>\n",
              "      <td>NC</td>\n",
              "      <td>2016-08-12 15:42:11</td>\n",
              "      <td>Grades 3-5</td>\n",
              "      <td>Health &amp; Sports</td>\n",
              "      <td>Health &amp; Wellness</td>\n",
              "      <td>\\\"Kid Inspired\\\" Equipment to Increase Activit...</td>\n",
              "      <td>My students are the greatest students but are ...</td>\n",
              "      <td>The student's project which is totally \\\"kid-i...</td>\n",
              "      <td>NaN</td>\n",
              "      <td>NaN</td>\n",
              "      <td>My students need balls and other activity equi...</td>\n",
              "      <td>16</td>\n",
              "      <td>0</td>\n",
              "    </tr>\n",
              "    <tr>\n",
              "      <th>4</th>\n",
              "      <td>p013780</td>\n",
              "      <td>a63b5547a7239eae4c1872670848e61a</td>\n",
              "      <td>Mr.</td>\n",
              "      <td>CA</td>\n",
              "      <td>2016-08-06 09:09:11</td>\n",
              "      <td>Grades 6-8</td>\n",
              "      <td>Health &amp; Sports</td>\n",
              "      <td>Health &amp; Wellness</td>\n",
              "      <td>We need clean water for our culinary arts class!</td>\n",
              "      <td>My students are athletes and students who are ...</td>\n",
              "      <td>For some reason in our kitchen the water comes...</td>\n",
              "      <td>NaN</td>\n",
              "      <td>NaN</td>\n",
              "      <td>My students need a water filtration system for...</td>\n",
              "      <td>42</td>\n",
              "      <td>1</td>\n",
              "    </tr>\n",
              "  </tbody>\n",
              "</table>\n",
              "</div>"
            ],
            "text/plain": [
              "        id                        teacher_id teacher_prefix school_state  \\\n",
              "0  p036502  484aaf11257089a66cfedc9461c6bd0a            Ms.           NV   \n",
              "1  p039565  df72a3ba8089423fa8a94be88060f6ed           Mrs.           GA   \n",
              "2  p233823  a9b876a9252e08a55e3d894150f75ba3            Ms.           UT   \n",
              "3  p185307  525fdbb6ec7f538a48beebaa0a51b24f            Mr.           NC   \n",
              "4  p013780  a63b5547a7239eae4c1872670848e61a            Mr.           CA   \n",
              "\n",
              "  project_submitted_datetime project_grade_category  \\\n",
              "0        2016-11-18 14:45:59          Grades PreK-2   \n",
              "1        2017-04-26 15:57:28             Grades 3-5   \n",
              "2        2017-01-01 22:57:44             Grades 3-5   \n",
              "3        2016-08-12 15:42:11             Grades 3-5   \n",
              "4        2016-08-06 09:09:11             Grades 6-8   \n",
              "\n",
              "            project_subject_categories  \\\n",
              "0                  Literacy & Language   \n",
              "1    Music & The Arts, Health & Sports   \n",
              "2  Math & Science, Literacy & Language   \n",
              "3                      Health & Sports   \n",
              "4                      Health & Sports   \n",
              "\n",
              "            project_subject_subcategories  \\\n",
              "0                                Literacy   \n",
              "1            Performing Arts, Team Sports   \n",
              "2  Applied Sciences, Literature & Writing   \n",
              "3                       Health & Wellness   \n",
              "4                       Health & Wellness   \n",
              "\n",
              "                                       project_title  \\\n",
              "0                           Super Sight Word Centers   \n",
              "1                             Keep Calm and Dance On   \n",
              "2                              Lets 3Doodle to Learn   \n",
              "3  \\\"Kid Inspired\\\" Equipment to Increase Activit...   \n",
              "4   We need clean water for our culinary arts class!   \n",
              "\n",
              "                                     project_essay_1  \\\n",
              "0  Most of my kindergarten students come from low...   \n",
              "1  Our elementary school is a culturally rich sch...   \n",
              "2  Hello;\\r\\nMy name is Mrs. Brotherton. I teach ...   \n",
              "3  My students are the greatest students but are ...   \n",
              "4  My students are athletes and students who are ...   \n",
              "\n",
              "                                     project_essay_2 project_essay_3  \\\n",
              "0  I currently have a differentiated sight word c...             NaN   \n",
              "1  We strive to provide our diverse population of...             NaN   \n",
              "2  We are looking to add some 3Doodler to our cla...             NaN   \n",
              "3  The student's project which is totally \\\"kid-i...             NaN   \n",
              "4  For some reason in our kitchen the water comes...             NaN   \n",
              "\n",
              "  project_essay_4                           project_resource_summary  \\\n",
              "0             NaN  My students need 6 Ipod Nano's to create and d...   \n",
              "1             NaN  My students need matching shirts to wear for d...   \n",
              "2             NaN  My students need the 3doodler. We are an SEM s...   \n",
              "3             NaN  My students need balls and other activity equi...   \n",
              "4             NaN  My students need a water filtration system for...   \n",
              "\n",
              "   teacher_number_of_previously_posted_projects  project_is_approved  \n",
              "0                                            26                    1  \n",
              "1                                             1                    0  \n",
              "2                                             5                    1  \n",
              "3                                            16                    0  \n",
              "4                                            42                    1  "
            ]
          },
          "metadata": {}
        }
      ],
      "execution_count": 7,
      "metadata": {}
    },
    {
      "cell_type": "markdown",
      "source": [
        "**PROBLEM**: Load `resource_data.csv` and investigate it a bit."
      ],
      "metadata": {}
    },
    {
      "cell_type": "code",
      "source": [
        "# Load resources\n",
        "resources = pd.read_csv('resource_data.csv')\n",
        "print('Resources dataset')\n",
        "print(resources.shape)\n",
        "resources.head()"
      ],
      "outputs": [
        {
          "output_type": "stream",
          "name": "stdout",
          "text": [
            "Resources dataset\n",
            "(1541272, 4)\n"
          ]
        },
        {
          "output_type": "execute_result",
          "execution_count": 8,
          "data": {
            "text/html": [
              "<div>\n",
              "<style scoped>\n",
              "    .dataframe tbody tr th:only-of-type {\n",
              "        vertical-align: middle;\n",
              "    }\n",
              "\n",
              "    .dataframe tbody tr th {\n",
              "        vertical-align: top;\n",
              "    }\n",
              "\n",
              "    .dataframe thead th {\n",
              "        text-align: right;\n",
              "    }\n",
              "</style>\n",
              "<table border=\"1\" class=\"dataframe\">\n",
              "  <thead>\n",
              "    <tr style=\"text-align: right;\">\n",
              "      <th></th>\n",
              "      <th>id</th>\n",
              "      <th>description</th>\n",
              "      <th>quantity</th>\n",
              "      <th>price</th>\n",
              "    </tr>\n",
              "  </thead>\n",
              "  <tbody>\n",
              "    <tr>\n",
              "      <th>0</th>\n",
              "      <td>p233245</td>\n",
              "      <td>LC652 - Lakeshore Double-Space Mobile Drying Rack</td>\n",
              "      <td>1</td>\n",
              "      <td>149.00</td>\n",
              "    </tr>\n",
              "    <tr>\n",
              "      <th>1</th>\n",
              "      <td>p069063</td>\n",
              "      <td>Bouncy Bands for Desks (Blue support pipes)</td>\n",
              "      <td>3</td>\n",
              "      <td>14.95</td>\n",
              "    </tr>\n",
              "    <tr>\n",
              "      <th>2</th>\n",
              "      <td>p069063</td>\n",
              "      <td>Cory Stories: A Kid's Book About Living With Adhd</td>\n",
              "      <td>1</td>\n",
              "      <td>8.45</td>\n",
              "    </tr>\n",
              "    <tr>\n",
              "      <th>3</th>\n",
              "      <td>p069063</td>\n",
              "      <td>Dixon Ticonderoga Wood-Cased #2 HB Pencils, Bo...</td>\n",
              "      <td>2</td>\n",
              "      <td>13.59</td>\n",
              "    </tr>\n",
              "    <tr>\n",
              "      <th>4</th>\n",
              "      <td>p069063</td>\n",
              "      <td>EDUCATIONAL INSIGHTS FLUORESCENT LIGHT FILTERS...</td>\n",
              "      <td>3</td>\n",
              "      <td>24.95</td>\n",
              "    </tr>\n",
              "  </tbody>\n",
              "</table>\n",
              "</div>"
            ],
            "text/plain": [
              "        id                                        description  quantity  \\\n",
              "0  p233245  LC652 - Lakeshore Double-Space Mobile Drying Rack         1   \n",
              "1  p069063        Bouncy Bands for Desks (Blue support pipes)         3   \n",
              "2  p069063  Cory Stories: A Kid's Book About Living With Adhd         1   \n",
              "3  p069063  Dixon Ticonderoga Wood-Cased #2 HB Pencils, Bo...         2   \n",
              "4  p069063  EDUCATIONAL INSIGHTS FLUORESCENT LIGHT FILTERS...         3   \n",
              "\n",
              "    price  \n",
              "0  149.00  \n",
              "1   14.95  \n",
              "2    8.45  \n",
              "3   13.59  \n",
              "4   24.95  "
            ]
          },
          "metadata": {}
        }
      ],
      "execution_count": 8,
      "metadata": {}
    },
    {
      "cell_type": "markdown",
      "source": [
        "**PROBLEM**: Some of the essays are NA. Replace NAs with empty strings."
      ],
      "metadata": {}
    },
    {
      "cell_type": "code",
      "source": [
        "# Replace NA values in essay columns with ''\n",
        "for i, row in applications.iterrows():\n",
        "    if pd.isna(row[\"project_essay_1\"]): row[\"project_essay_1\"]=''\n",
        "    if pd.isna(row[\"project_essay_2\"]): row[\"project_essay_2\"]=''\n",
        "    if pd.isna(row[\"project_essay_3\"]): row[\"project_essay_3\"]=''\n",
        "    if pd.isna(row[\"project_essay_4\"]): row[\"project_essay_4\"]=''"
      ],
      "outputs": [],
      "execution_count": 9,
      "metadata": {}
    },
    {
      "cell_type": "markdown",
      "source": [
        "**PROBLEM**: To simplify matters, combine all essays into just one feature called \"essays\""
      ],
      "metadata": {}
    },
    {
      "cell_type": "code",
      "source": [
        "# Combine essays\n",
        "applications[\"essays\"] = (\n",
        "    applications[\"project_essay_1\"] + ' ' + \n",
        "    applications[\"project_essay_2\"] + ' ' +\n",
        "    applications[\"project_essay_3\"] + ' ' +\n",
        "    applications[\"project_essay_1\"] )"
      ],
      "outputs": [],
      "execution_count": 10,
      "metadata": {}
    },
    {
      "cell_type": "markdown",
      "source": [
        "**PROBLEM**: Merge the resources and application datasets on the *id* feature."
      ],
      "metadata": {}
    },
    {
      "cell_type": "code",
      "source": [
        "# Merge two datasets\n",
        "merged = pd.merge(applications, resources, how='inner', on='id')\n",
        "\n",
        "# Check the data to confirm it worked\n",
        "print('Merged shape: {}\\n'.format(merged.shape))\n",
        "merged.dtypes"
      ],
      "outputs": [
        {
          "output_type": "stream",
          "name": "stdout",
          "text": [
            "Merged shape: (1081830, 20)\n",
            "\n"
          ]
        },
        {
          "output_type": "execute_result",
          "execution_count": 11,
          "data": {
            "text/plain": [
              "id                                               object\n",
              "teacher_id                                       object\n",
              "teacher_prefix                                   object\n",
              "school_state                                     object\n",
              "project_submitted_datetime                       object\n",
              "project_grade_category                           object\n",
              "project_subject_categories                       object\n",
              "project_subject_subcategories                    object\n",
              "project_title                                    object\n",
              "project_essay_1                                  object\n",
              "project_essay_2                                  object\n",
              "project_essay_3                                  object\n",
              "project_essay_4                                  object\n",
              "project_resource_summary                         object\n",
              "teacher_number_of_previously_posted_projects      int64\n",
              "project_is_approved                               int64\n",
              "essays                                           object\n",
              "description                                      object\n",
              "quantity                                          int64\n",
              "price                                           float64\n",
              "dtype: object"
            ]
          },
          "metadata": {}
        }
      ],
      "execution_count": 11,
      "metadata": {}
    },
    {
      "cell_type": "markdown",
      "source": [
        "**PROBLEM**: Keep the following data for additional analysis (the id and the text features): `id`, `school_state`, `project_subject_categories`, `project_subject_subcategories`, `essays`, `description`"
      ],
      "metadata": {}
    },
    {
      "cell_type": "code",
      "source": [
        "FEATURE_NAMES = ['school_state', 'project_subject_categories', 'project_subject_subcategories', 'essays', 'description']"
      ],
      "outputs": [],
      "execution_count": 12,
      "metadata": {}
    },
    {
      "cell_type": "code",
      "source": [
        "# Keep the Text Features\n",
        "merged = merged[FEATURE_NAMES]\n",
        "merged.head()"
      ],
      "outputs": [
        {
          "output_type": "execute_result",
          "execution_count": 13,
          "data": {
            "text/html": [
              "<div>\n",
              "<style scoped>\n",
              "    .dataframe tbody tr th:only-of-type {\n",
              "        vertical-align: middle;\n",
              "    }\n",
              "\n",
              "    .dataframe tbody tr th {\n",
              "        vertical-align: top;\n",
              "    }\n",
              "\n",
              "    .dataframe thead th {\n",
              "        text-align: right;\n",
              "    }\n",
              "</style>\n",
              "<table border=\"1\" class=\"dataframe\">\n",
              "  <thead>\n",
              "    <tr style=\"text-align: right;\">\n",
              "      <th></th>\n",
              "      <th>school_state</th>\n",
              "      <th>project_subject_categories</th>\n",
              "      <th>project_subject_subcategories</th>\n",
              "      <th>essays</th>\n",
              "      <th>description</th>\n",
              "    </tr>\n",
              "  </thead>\n",
              "  <tbody>\n",
              "    <tr>\n",
              "      <th>0</th>\n",
              "      <td>NV</td>\n",
              "      <td>Literacy &amp; Language</td>\n",
              "      <td>Literacy</td>\n",
              "      <td>NaN</td>\n",
              "      <td>Apple - iPod nano� 16GB MP3 Player (8th Genera...</td>\n",
              "    </tr>\n",
              "    <tr>\n",
              "      <th>1</th>\n",
              "      <td>NV</td>\n",
              "      <td>Literacy &amp; Language</td>\n",
              "      <td>Literacy</td>\n",
              "      <td>NaN</td>\n",
              "      <td>Apple - iPod nano� 16GB MP3 Player (8th Genera...</td>\n",
              "    </tr>\n",
              "    <tr>\n",
              "      <th>2</th>\n",
              "      <td>GA</td>\n",
              "      <td>Music &amp; The Arts, Health &amp; Sports</td>\n",
              "      <td>Performing Arts, Team Sports</td>\n",
              "      <td>NaN</td>\n",
              "      <td>Reebok Girls' Fashion Dance Graphic T-Shirt - ...</td>\n",
              "    </tr>\n",
              "    <tr>\n",
              "      <th>3</th>\n",
              "      <td>UT</td>\n",
              "      <td>Math &amp; Science, Literacy &amp; Language</td>\n",
              "      <td>Applied Sciences, Literature &amp; Writing</td>\n",
              "      <td>NaN</td>\n",
              "      <td>3doodler Start Full Edu Bundle</td>\n",
              "    </tr>\n",
              "    <tr>\n",
              "      <th>4</th>\n",
              "      <td>NC</td>\n",
              "      <td>Health &amp; Sports</td>\n",
              "      <td>Health &amp; Wellness</td>\n",
              "      <td>NaN</td>\n",
              "      <td>BALL PG 4'' POLY SET OF 6 COLORS</td>\n",
              "    </tr>\n",
              "  </tbody>\n",
              "</table>\n",
              "</div>"
            ],
            "text/plain": [
              "  school_state           project_subject_categories  \\\n",
              "0           NV                  Literacy & Language   \n",
              "1           NV                  Literacy & Language   \n",
              "2           GA    Music & The Arts, Health & Sports   \n",
              "3           UT  Math & Science, Literacy & Language   \n",
              "4           NC                      Health & Sports   \n",
              "\n",
              "            project_subject_subcategories essays  \\\n",
              "0                                Literacy    NaN   \n",
              "1                                Literacy    NaN   \n",
              "2            Performing Arts, Team Sports    NaN   \n",
              "3  Applied Sciences, Literature & Writing    NaN   \n",
              "4                       Health & Wellness    NaN   \n",
              "\n",
              "                                         description  \n",
              "0  Apple - iPod nano� 16GB MP3 Player (8th Genera...  \n",
              "1  Apple - iPod nano� 16GB MP3 Player (8th Genera...  \n",
              "2  Reebok Girls' Fashion Dance Graphic T-Shirt - ...  \n",
              "3                     3doodler Start Full Edu Bundle  \n",
              "4                   BALL PG 4'' POLY SET OF 6 COLORS  "
            ]
          },
          "metadata": {}
        }
      ],
      "execution_count": 13,
      "metadata": {}
    },
    {
      "cell_type": "markdown",
      "source": [
        "# PART 3: Preprocess Text"
      ],
      "metadata": {}
    },
    {
      "cell_type": "markdown",
      "source": [
        "Make an independent copy of the data so we can restart here when testing..."
      ],
      "metadata": {}
    },
    {
      "cell_type": "code",
      "source": [
        "data = copy.copy(merged)"
      ],
      "outputs": [],
      "execution_count": 14,
      "metadata": {}
    },
    {
      "cell_type": "markdown",
      "source": [
        "**PROBLEM**: Define a custom function `clean_punctuation()` to remove some punctuation from your text data. You don't have to do absolutely everything one might want to do - just show that you can do it. Start with each some easy operations with `str.replace()`."
      ],
      "metadata": {}
    },
    {
      "cell_type": "code",
      "source": [
        "# Define a custom function to clean punctuation from  given text\n",
        "def clean_punctuation(txt):\n",
        "    txt = str(txt).replace('\\r',' ')\n",
        "    txt = str(txt).replace('.',' ')\n",
        "    txt = str(txt).replace(',',' ')\n",
        "    txt = str(txt).replace(';',' ')\n",
        "    txt = str(txt).replace('$',' ')\n",
        "    txt = str(txt).replace('(',' ')\n",
        "    txt = str(txt).replace(')',' ')\n",
        "    txt = str(txt).replace('?',' ')\n",
        "    txt = str(txt).replace('!',' ')\n",
        "    return txt"
      ],
      "outputs": [],
      "execution_count": 15,
      "metadata": {}
    },
    {
      "cell_type": "markdown",
      "source": [
        "**PROBLEM**: Use the `apply()` function from pandas to _apply_ that function down the `essays` column of your data."
      ],
      "metadata": {}
    },
    {
      "cell_type": "code",
      "source": [
        "# Apply your function to clean the essays column\n",
        "for feature in FEATURE_NAMES:\n",
        "    data[feature] = data[feature].apply(clean_punctuation)\n",
        "data.head()"
      ],
      "outputs": [
        {
          "output_type": "execute_result",
          "execution_count": 16,
          "data": {
            "text/html": [
              "<div>\n",
              "<style scoped>\n",
              "    .dataframe tbody tr th:only-of-type {\n",
              "        vertical-align: middle;\n",
              "    }\n",
              "\n",
              "    .dataframe tbody tr th {\n",
              "        vertical-align: top;\n",
              "    }\n",
              "\n",
              "    .dataframe thead th {\n",
              "        text-align: right;\n",
              "    }\n",
              "</style>\n",
              "<table border=\"1\" class=\"dataframe\">\n",
              "  <thead>\n",
              "    <tr style=\"text-align: right;\">\n",
              "      <th></th>\n",
              "      <th>school_state</th>\n",
              "      <th>project_subject_categories</th>\n",
              "      <th>project_subject_subcategories</th>\n",
              "      <th>essays</th>\n",
              "      <th>description</th>\n",
              "    </tr>\n",
              "  </thead>\n",
              "  <tbody>\n",
              "    <tr>\n",
              "      <th>0</th>\n",
              "      <td>NV</td>\n",
              "      <td>Literacy &amp; Language</td>\n",
              "      <td>Literacy</td>\n",
              "      <td>nan</td>\n",
              "      <td>Apple - iPod nano� 16GB MP3 Player  8th Genera...</td>\n",
              "    </tr>\n",
              "    <tr>\n",
              "      <th>1</th>\n",
              "      <td>NV</td>\n",
              "      <td>Literacy &amp; Language</td>\n",
              "      <td>Literacy</td>\n",
              "      <td>nan</td>\n",
              "      <td>Apple - iPod nano� 16GB MP3 Player  8th Genera...</td>\n",
              "    </tr>\n",
              "    <tr>\n",
              "      <th>2</th>\n",
              "      <td>GA</td>\n",
              "      <td>Music &amp; The Arts  Health &amp; Sports</td>\n",
              "      <td>Performing Arts  Team Sports</td>\n",
              "      <td>nan</td>\n",
              "      <td>Reebok Girls' Fashion Dance Graphic T-Shirt - ...</td>\n",
              "    </tr>\n",
              "    <tr>\n",
              "      <th>3</th>\n",
              "      <td>UT</td>\n",
              "      <td>Math &amp; Science  Literacy &amp; Language</td>\n",
              "      <td>Applied Sciences  Literature &amp; Writing</td>\n",
              "      <td>nan</td>\n",
              "      <td>3doodler Start Full Edu Bundle</td>\n",
              "    </tr>\n",
              "    <tr>\n",
              "      <th>4</th>\n",
              "      <td>NC</td>\n",
              "      <td>Health &amp; Sports</td>\n",
              "      <td>Health &amp; Wellness</td>\n",
              "      <td>nan</td>\n",
              "      <td>BALL PG 4'' POLY SET OF 6 COLORS</td>\n",
              "    </tr>\n",
              "  </tbody>\n",
              "</table>\n",
              "</div>"
            ],
            "text/plain": [
              "  school_state           project_subject_categories  \\\n",
              "0           NV                  Literacy & Language   \n",
              "1           NV                  Literacy & Language   \n",
              "2           GA    Music & The Arts  Health & Sports   \n",
              "3           UT  Math & Science  Literacy & Language   \n",
              "4           NC                      Health & Sports   \n",
              "\n",
              "            project_subject_subcategories essays  \\\n",
              "0                                Literacy    nan   \n",
              "1                                Literacy    nan   \n",
              "2            Performing Arts  Team Sports    nan   \n",
              "3  Applied Sciences  Literature & Writing    nan   \n",
              "4                       Health & Wellness    nan   \n",
              "\n",
              "                                         description  \n",
              "0  Apple - iPod nano� 16GB MP3 Player  8th Genera...  \n",
              "1  Apple - iPod nano� 16GB MP3 Player  8th Genera...  \n",
              "2  Reebok Girls' Fashion Dance Graphic T-Shirt - ...  \n",
              "3                     3doodler Start Full Edu Bundle  \n",
              "4                   BALL PG 4'' POLY SET OF 6 COLORS  "
            ]
          },
          "metadata": {}
        }
      ],
      "execution_count": 16,
      "metadata": {}
    },
    {
      "cell_type": "markdown",
      "source": [
        "**PROBLEM**: Define **another** custom function called `clean_re()` to clean your text data using regular expressions. Do at least two \"cleanings\" (i.e., show that you can use the `re` library)."
      ],
      "metadata": {}
    },
    {
      "cell_type": "code",
      "source": [
        "# Define a custom function to clean some given text\n",
        "def clean_re(txt):\n",
        "    txt = re.sub('[^a-zA-Z]', ' ', txt)   # Remove non-letters \n",
        "    txt = re.sub('\\s+', ' ', txt)         # Remove multiple white space   \n",
        "    return txt"
      ],
      "outputs": [],
      "execution_count": 17,
      "metadata": {}
    },
    {
      "cell_type": "code",
      "source": [
        "# Apply clean_re() to all features\n",
        "for feature in FEATURE_NAMES:\n",
        "    data[feature] = data[feature].apply(clean_re)\n",
        "data.head()"
      ],
      "outputs": [
        {
          "output_type": "execute_result",
          "execution_count": 18,
          "data": {
            "text/html": [
              "<div>\n",
              "<style scoped>\n",
              "    .dataframe tbody tr th:only-of-type {\n",
              "        vertical-align: middle;\n",
              "    }\n",
              "\n",
              "    .dataframe tbody tr th {\n",
              "        vertical-align: top;\n",
              "    }\n",
              "\n",
              "    .dataframe thead th {\n",
              "        text-align: right;\n",
              "    }\n",
              "</style>\n",
              "<table border=\"1\" class=\"dataframe\">\n",
              "  <thead>\n",
              "    <tr style=\"text-align: right;\">\n",
              "      <th></th>\n",
              "      <th>school_state</th>\n",
              "      <th>project_subject_categories</th>\n",
              "      <th>project_subject_subcategories</th>\n",
              "      <th>essays</th>\n",
              "      <th>description</th>\n",
              "    </tr>\n",
              "  </thead>\n",
              "  <tbody>\n",
              "    <tr>\n",
              "      <th>0</th>\n",
              "      <td>NV</td>\n",
              "      <td>Literacy Language</td>\n",
              "      <td>Literacy</td>\n",
              "      <td>nan</td>\n",
              "      <td>Apple iPod nano GB MP Player th Generation Lat...</td>\n",
              "    </tr>\n",
              "    <tr>\n",
              "      <th>1</th>\n",
              "      <td>NV</td>\n",
              "      <td>Literacy Language</td>\n",
              "      <td>Literacy</td>\n",
              "      <td>nan</td>\n",
              "      <td>Apple iPod nano GB MP Player th Generation Lat...</td>\n",
              "    </tr>\n",
              "    <tr>\n",
              "      <th>2</th>\n",
              "      <td>GA</td>\n",
              "      <td>Music The Arts Health Sports</td>\n",
              "      <td>Performing Arts Team Sports</td>\n",
              "      <td>nan</td>\n",
              "      <td>Reebok Girls Fashion Dance Graphic T Shirt Dd ...</td>\n",
              "    </tr>\n",
              "    <tr>\n",
              "      <th>3</th>\n",
              "      <td>UT</td>\n",
              "      <td>Math Science Literacy Language</td>\n",
              "      <td>Applied Sciences Literature Writing</td>\n",
              "      <td>nan</td>\n",
              "      <td>doodler Start Full Edu Bundle</td>\n",
              "    </tr>\n",
              "    <tr>\n",
              "      <th>4</th>\n",
              "      <td>NC</td>\n",
              "      <td>Health Sports</td>\n",
              "      <td>Health Wellness</td>\n",
              "      <td>nan</td>\n",
              "      <td>BALL PG POLY SET OF COLORS</td>\n",
              "    </tr>\n",
              "  </tbody>\n",
              "</table>\n",
              "</div>"
            ],
            "text/plain": [
              "  school_state      project_subject_categories  \\\n",
              "0           NV               Literacy Language   \n",
              "1           NV               Literacy Language   \n",
              "2           GA    Music The Arts Health Sports   \n",
              "3           UT  Math Science Literacy Language   \n",
              "4           NC                   Health Sports   \n",
              "\n",
              "         project_subject_subcategories essays  \\\n",
              "0                             Literacy    nan   \n",
              "1                             Literacy    nan   \n",
              "2          Performing Arts Team Sports    nan   \n",
              "3  Applied Sciences Literature Writing    nan   \n",
              "4                      Health Wellness    nan   \n",
              "\n",
              "                                         description  \n",
              "0  Apple iPod nano GB MP Player th Generation Lat...  \n",
              "1  Apple iPod nano GB MP Player th Generation Lat...  \n",
              "2  Reebok Girls Fashion Dance Graphic T Shirt Dd ...  \n",
              "3                      doodler Start Full Edu Bundle  \n",
              "4                         BALL PG POLY SET OF COLORS  "
            ]
          },
          "metadata": {}
        }
      ],
      "execution_count": 18,
      "metadata": {}
    },
    {
      "cell_type": "markdown",
      "source": [
        "**PROBLEM**: Remove stopwords. (Hint: use stopwords from nltk's `stopwords()` plus any additions you'd like to make. Then, again, define a custom function and then apply it to all features.)"
      ],
      "metadata": {}
    },
    {
      "cell_type": "code",
      "source": [
        "# Define custom function to remove stopwords\n",
        "def remove_stopwords(txt):\n",
        "    return ' '.join([word for word in txt.split() if word not in stop_words])"
      ],
      "outputs": [],
      "execution_count": 19,
      "metadata": {}
    },
    {
      "cell_type": "code",
      "source": [
        "# Apply function to remove stopwords  \n",
        "for feature in FEATURE_NAMES:\n",
        "    data[feature] = data[feature].apply(remove_stopwords)\n",
        "data.head()"
      ],
      "outputs": [
        {
          "output_type": "execute_result",
          "execution_count": 20,
          "data": {
            "text/html": [
              "<div>\n",
              "<style scoped>\n",
              "    .dataframe tbody tr th:only-of-type {\n",
              "        vertical-align: middle;\n",
              "    }\n",
              "\n",
              "    .dataframe tbody tr th {\n",
              "        vertical-align: top;\n",
              "    }\n",
              "\n",
              "    .dataframe thead th {\n",
              "        text-align: right;\n",
              "    }\n",
              "</style>\n",
              "<table border=\"1\" class=\"dataframe\">\n",
              "  <thead>\n",
              "    <tr style=\"text-align: right;\">\n",
              "      <th></th>\n",
              "      <th>school_state</th>\n",
              "      <th>project_subject_categories</th>\n",
              "      <th>project_subject_subcategories</th>\n",
              "      <th>essays</th>\n",
              "      <th>description</th>\n",
              "    </tr>\n",
              "  </thead>\n",
              "  <tbody>\n",
              "    <tr>\n",
              "      <th>0</th>\n",
              "      <td>NV</td>\n",
              "      <td>Literacy Language</td>\n",
              "      <td>Literacy</td>\n",
              "      <td>nan</td>\n",
              "      <td>Apple iPod nano GB MP Player th Generation Lat...</td>\n",
              "    </tr>\n",
              "    <tr>\n",
              "      <th>1</th>\n",
              "      <td>NV</td>\n",
              "      <td>Literacy Language</td>\n",
              "      <td>Literacy</td>\n",
              "      <td>nan</td>\n",
              "      <td>Apple iPod nano GB MP Player th Generation Lat...</td>\n",
              "    </tr>\n",
              "    <tr>\n",
              "      <th>2</th>\n",
              "      <td>GA</td>\n",
              "      <td>Music The Arts Health Sports</td>\n",
              "      <td>Performing Arts Team Sports</td>\n",
              "      <td>nan</td>\n",
              "      <td>Reebok Girls Fashion Dance Graphic T Shirt Dd ...</td>\n",
              "    </tr>\n",
              "    <tr>\n",
              "      <th>3</th>\n",
              "      <td>UT</td>\n",
              "      <td>Math Science Literacy Language</td>\n",
              "      <td>Applied Sciences Literature Writing</td>\n",
              "      <td>nan</td>\n",
              "      <td>doodler Start Full Edu Bundle</td>\n",
              "    </tr>\n",
              "    <tr>\n",
              "      <th>4</th>\n",
              "      <td>NC</td>\n",
              "      <td>Health Sports</td>\n",
              "      <td>Health Wellness</td>\n",
              "      <td>nan</td>\n",
              "      <td>BALL PG POLY SET OF COLORS</td>\n",
              "    </tr>\n",
              "  </tbody>\n",
              "</table>\n",
              "</div>"
            ],
            "text/plain": [
              "  school_state      project_subject_categories  \\\n",
              "0           NV               Literacy Language   \n",
              "1           NV               Literacy Language   \n",
              "2           GA    Music The Arts Health Sports   \n",
              "3           UT  Math Science Literacy Language   \n",
              "4           NC                   Health Sports   \n",
              "\n",
              "         project_subject_subcategories essays  \\\n",
              "0                             Literacy    nan   \n",
              "1                             Literacy    nan   \n",
              "2          Performing Arts Team Sports    nan   \n",
              "3  Applied Sciences Literature Writing    nan   \n",
              "4                      Health Wellness    nan   \n",
              "\n",
              "                                         description  \n",
              "0  Apple iPod nano GB MP Player th Generation Lat...  \n",
              "1  Apple iPod nano GB MP Player th Generation Lat...  \n",
              "2  Reebok Girls Fashion Dance Graphic T Shirt Dd ...  \n",
              "3                      doodler Start Full Edu Bundle  \n",
              "4                         BALL PG POLY SET OF COLORS  "
            ]
          },
          "metadata": {}
        }
      ],
      "execution_count": 20,
      "metadata": {}
    },
    {
      "cell_type": "markdown",
      "source": [
        "**PROBLEM**: Now use Gensim’s `simple_preprocess()` function to tokenize and clean up your text data. TIP: `simple_preprocess()` returns a list of words, so we want to wrap it with a function that joins the list back together into a string."
      ],
      "metadata": {}
    },
    {
      "cell_type": "code",
      "source": [
        "# Define custom function to wrap simple_preprocess() from gensim\n",
        "def preprocess(txt):\n",
        "    return ' '.join(simple_preprocess(txt))"
      ],
      "outputs": [],
      "execution_count": 21,
      "metadata": {}
    },
    {
      "cell_type": "code",
      "source": [
        "# Apply simple_preprocess() to all features\n",
        "for feature in FEATURE_NAMES:\n",
        "    data[feature] = data[feature].apply(preprocess)\n",
        "data.head()"
      ],
      "outputs": [
        {
          "output_type": "execute_result",
          "execution_count": 22,
          "data": {
            "text/html": [
              "<div>\n",
              "<style scoped>\n",
              "    .dataframe tbody tr th:only-of-type {\n",
              "        vertical-align: middle;\n",
              "    }\n",
              "\n",
              "    .dataframe tbody tr th {\n",
              "        vertical-align: top;\n",
              "    }\n",
              "\n",
              "    .dataframe thead th {\n",
              "        text-align: right;\n",
              "    }\n",
              "</style>\n",
              "<table border=\"1\" class=\"dataframe\">\n",
              "  <thead>\n",
              "    <tr style=\"text-align: right;\">\n",
              "      <th></th>\n",
              "      <th>school_state</th>\n",
              "      <th>project_subject_categories</th>\n",
              "      <th>project_subject_subcategories</th>\n",
              "      <th>essays</th>\n",
              "      <th>description</th>\n",
              "    </tr>\n",
              "  </thead>\n",
              "  <tbody>\n",
              "    <tr>\n",
              "      <th>0</th>\n",
              "      <td>nv</td>\n",
              "      <td>literacy language</td>\n",
              "      <td>literacy</td>\n",
              "      <td>nan</td>\n",
              "      <td>apple ipod nano gb mp player th generation lat...</td>\n",
              "    </tr>\n",
              "    <tr>\n",
              "      <th>1</th>\n",
              "      <td>nv</td>\n",
              "      <td>literacy language</td>\n",
              "      <td>literacy</td>\n",
              "      <td>nan</td>\n",
              "      <td>apple ipod nano gb mp player th generation lat...</td>\n",
              "    </tr>\n",
              "    <tr>\n",
              "      <th>2</th>\n",
              "      <td>ga</td>\n",
              "      <td>music the arts health sports</td>\n",
              "      <td>performing arts team sports</td>\n",
              "      <td>nan</td>\n",
              "      <td>reebok girls fashion dance graphic shirt dd da...</td>\n",
              "    </tr>\n",
              "    <tr>\n",
              "      <th>3</th>\n",
              "      <td>ut</td>\n",
              "      <td>math science literacy language</td>\n",
              "      <td>applied sciences literature writing</td>\n",
              "      <td>nan</td>\n",
              "      <td>doodler start full edu bundle</td>\n",
              "    </tr>\n",
              "    <tr>\n",
              "      <th>4</th>\n",
              "      <td>nc</td>\n",
              "      <td>health sports</td>\n",
              "      <td>health wellness</td>\n",
              "      <td>nan</td>\n",
              "      <td>ball pg poly set of colors</td>\n",
              "    </tr>\n",
              "  </tbody>\n",
              "</table>\n",
              "</div>"
            ],
            "text/plain": [
              "  school_state      project_subject_categories  \\\n",
              "0           nv               literacy language   \n",
              "1           nv               literacy language   \n",
              "2           ga    music the arts health sports   \n",
              "3           ut  math science literacy language   \n",
              "4           nc                   health sports   \n",
              "\n",
              "         project_subject_subcategories essays  \\\n",
              "0                             literacy    nan   \n",
              "1                             literacy    nan   \n",
              "2          performing arts team sports    nan   \n",
              "3  applied sciences literature writing    nan   \n",
              "4                      health wellness    nan   \n",
              "\n",
              "                                         description  \n",
              "0  apple ipod nano gb mp player th generation lat...  \n",
              "1  apple ipod nano gb mp player th generation lat...  \n",
              "2  reebok girls fashion dance graphic shirt dd da...  \n",
              "3                      doodler start full edu bundle  \n",
              "4                         ball pg poly set of colors  "
            ]
          },
          "metadata": {}
        }
      ],
      "execution_count": 22,
      "metadata": {}
    },
    {
      "cell_type": "markdown",
      "source": [
        "**PROBLEM**: Lemmatize the text. (Hint: Define a custom function and then apply it to all features.)"
      ],
      "metadata": {}
    },
    {
      "cell_type": "code",
      "source": [
        "# Write a lemmatization function based on nltk.stem.WordNetLemmatizer()\n",
        "lemmatizer = nltk.stem.WordNetLemmatizer()\n",
        "def lemmatize_text(text):\n",
        "    return [lemmatizer.lemmatize(w) for w in text.split()]"
      ],
      "outputs": [],
      "execution_count": 23,
      "metadata": {}
    },
    {
      "cell_type": "code",
      "source": [
        "# Apply lemmatize_text() to all features  \n",
        "for feature in FEATURE_NAMES:\n",
        "    data[feature] = data[feature].apply(lemmatize_text)\n",
        "data.head()"
      ],
      "outputs": [
        {
          "output_type": "execute_result",
          "execution_count": 24,
          "data": {
            "text/html": [
              "<div>\n",
              "<style scoped>\n",
              "    .dataframe tbody tr th:only-of-type {\n",
              "        vertical-align: middle;\n",
              "    }\n",
              "\n",
              "    .dataframe tbody tr th {\n",
              "        vertical-align: top;\n",
              "    }\n",
              "\n",
              "    .dataframe thead th {\n",
              "        text-align: right;\n",
              "    }\n",
              "</style>\n",
              "<table border=\"1\" class=\"dataframe\">\n",
              "  <thead>\n",
              "    <tr style=\"text-align: right;\">\n",
              "      <th></th>\n",
              "      <th>school_state</th>\n",
              "      <th>project_subject_categories</th>\n",
              "      <th>project_subject_subcategories</th>\n",
              "      <th>essays</th>\n",
              "      <th>description</th>\n",
              "    </tr>\n",
              "  </thead>\n",
              "  <tbody>\n",
              "    <tr>\n",
              "      <th>0</th>\n",
              "      <td>[nv]</td>\n",
              "      <td>[literacy, language]</td>\n",
              "      <td>[literacy]</td>\n",
              "      <td>[nan]</td>\n",
              "      <td>[apple, ipod, nano, gb, mp, player, th, genera...</td>\n",
              "    </tr>\n",
              "    <tr>\n",
              "      <th>1</th>\n",
              "      <td>[nv]</td>\n",
              "      <td>[literacy, language]</td>\n",
              "      <td>[literacy]</td>\n",
              "      <td>[nan]</td>\n",
              "      <td>[apple, ipod, nano, gb, mp, player, th, genera...</td>\n",
              "    </tr>\n",
              "    <tr>\n",
              "      <th>2</th>\n",
              "      <td>[ga]</td>\n",
              "      <td>[music, the, art, health, sport]</td>\n",
              "      <td>[performing, art, team, sport]</td>\n",
              "      <td>[nan]</td>\n",
              "      <td>[reebok, girl, fashion, dance, graphic, shirt,...</td>\n",
              "    </tr>\n",
              "    <tr>\n",
              "      <th>3</th>\n",
              "      <td>[ut]</td>\n",
              "      <td>[math, science, literacy, language]</td>\n",
              "      <td>[applied, science, literature, writing]</td>\n",
              "      <td>[nan]</td>\n",
              "      <td>[doodler, start, full, edu, bundle]</td>\n",
              "    </tr>\n",
              "    <tr>\n",
              "      <th>4</th>\n",
              "      <td>[nc]</td>\n",
              "      <td>[health, sport]</td>\n",
              "      <td>[health, wellness]</td>\n",
              "      <td>[nan]</td>\n",
              "      <td>[ball, pg, poly, set, of, color]</td>\n",
              "    </tr>\n",
              "  </tbody>\n",
              "</table>\n",
              "</div>"
            ],
            "text/plain": [
              "  school_state           project_subject_categories  \\\n",
              "0         [nv]                 [literacy, language]   \n",
              "1         [nv]                 [literacy, language]   \n",
              "2         [ga]     [music, the, art, health, sport]   \n",
              "3         [ut]  [math, science, literacy, language]   \n",
              "4         [nc]                      [health, sport]   \n",
              "\n",
              "             project_subject_subcategories essays  \\\n",
              "0                               [literacy]  [nan]   \n",
              "1                               [literacy]  [nan]   \n",
              "2           [performing, art, team, sport]  [nan]   \n",
              "3  [applied, science, literature, writing]  [nan]   \n",
              "4                       [health, wellness]  [nan]   \n",
              "\n",
              "                                         description  \n",
              "0  [apple, ipod, nano, gb, mp, player, th, genera...  \n",
              "1  [apple, ipod, nano, gb, mp, player, th, genera...  \n",
              "2  [reebok, girl, fashion, dance, graphic, shirt,...  \n",
              "3                [doodler, start, full, edu, bundle]  \n",
              "4                   [ball, pg, poly, set, of, color]  "
            ]
          },
          "metadata": {}
        }
      ],
      "execution_count": 24,
      "metadata": {}
    },
    {
      "cell_type": "markdown",
      "source": [
        "**PROBLEM**: What happened to the data in the pandas dataframe>"
      ],
      "metadata": {}
    },
    {
      "cell_type": "markdown",
      "source": [
        "ANSWER: In was converted from long text into a list of individual words."
      ],
      "metadata": {}
    },
    {
      "cell_type": "markdown",
      "source": [
        "# PART 4:  Make an LDA topic model for the ESSAYS."
      ],
      "metadata": {}
    },
    {
      "cell_type": "markdown",
      "source": [
        "Define an LDA topic model for the `essays`. Compute the \"Coherence score.\" Visually inspect the topic model by inspecting the top keywords from each model. Gensim provides functions for all of these tasks.  "
      ],
      "metadata": {}
    },
    {
      "cell_type": "code",
      "source": [
        "# \n",
        "\n",
        "\n",
        "\n"
      ],
      "outputs": [],
      "execution_count": 25,
      "metadata": {}
    },
    {
      "cell_type": "markdown",
      "source": [
        "If you use gensim and the following three variables, then you can visualize topics & keywords with the code below.\n",
        "\n",
        "    lda_model:    this is an LDA model generated by gensim.models.ldamodel.LdaModel()\n",
        "    id2word:      this is the dictionary term IDs from corpora.Dictionary()\n",
        "    corpus:       this is the collection of \"documents\"\n"
      ],
      "metadata": {}
    },
    {
      "cell_type": "code",
      "source": [
        "# Visualize topics-keywords\n",
        "pyLDAvis.enable_notebook()\n",
        "vis = pyLDAvis.gensim.prepare(lda_model, corpus, id2word)\n",
        "vis"
      ],
      "outputs": [],
      "execution_count": null,
      "metadata": {}
    },
    {
      "cell_type": "markdown",
      "source": [
        "# PART 5:  Make an LDA topic model for the DESCRIPTIONS."
      ],
      "metadata": {}
    },
    {
      "cell_type": "markdown",
      "source": [
        "Using the same K (and any other hyperparameters from Part 4), recompute a model for Descriptions. Compare the two sets of results. Do they vary? How? Why? Explain what you find. "
      ],
      "metadata": {}
    },
    {
      "cell_type": "code",
      "source": [
        "# \n",
        "\n",
        "\n",
        "\n"
      ],
      "outputs": [],
      "execution_count": null,
      "metadata": {}
    }
  ],
  "metadata": {
    "kernelspec": {
      "name": "python3",
      "language": "python",
      "display_name": "Python 3"
    },
    "language_info": {
      "name": "python",
      "version": "3.7.2",
      "mimetype": "text/x-python",
      "codemirror_mode": {
        "name": "ipython",
        "version": 3
      },
      "pygments_lexer": "ipython3",
      "nbconvert_exporter": "python",
      "file_extension": ".py"
    },
    "kernel_info": {
      "name": "python3"
    },
    "nteract": {
      "version": "0.15.0"
    }
  },
  "nbformat": 4,
  "nbformat_minor": 2
}