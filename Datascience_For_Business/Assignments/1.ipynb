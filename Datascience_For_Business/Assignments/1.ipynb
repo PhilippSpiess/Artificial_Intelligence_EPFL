{
 "cells": [
  {
   "cell_type": "markdown",
   "metadata": {},
   "source": [
    "# DSFB Assignment 1"
   ]
  },
  {
   "cell_type": "markdown",
   "metadata": {},
   "source": [
    "In this assignment, you will work with data, examine distributions of some variables, and make some simple predictions. These basic operations are important in any data science project. \n",
    "\n",
    "[Pandas](https://pandas.pydata.org/) is a Python package built for data analysis. It includes many useful functions, including one to read comma-separated (.csv) files. We will use this package as it's both easy to use and very powerful.\n",
    "\n",
    "First, we need to import Pandas. As you will be learning (or already know), popular Python packages have common abbreviates. These abbreviations are used as a short-hand for that package throughout a Python script. Some of these common abbreviations include:\n",
    "\n",
    "- `import pandas as pd`\n",
    "- `import numpy as np`\n",
    "- `import tensorflow as tf`\n",
    "- etc.\n",
    "\n",
    "Second, we can call any function in the Pandas package as `pd.someFunction`. The `pd` keyword is reserved for Pandas and must not be used by any other variable. \n",
    "\n",
    "Third, `import` statements are generally located at the top of a script, even though they might only be used at a later stage.\n",
    "\n",
    "Finally, do not hesitate to search the [Pandas documentation](https://pandas.pydata.org/pandas-docs/stable/) for help.\n"
   ]
  },
  {
   "cell_type": "code",
   "execution_count": 1,
   "metadata": {},
   "outputs": [],
   "source": [
    "import os\n",
    "\n",
    "from math import log\n",
    " \n",
    "import numpy as np    \n",
    "import pandas as pd\n",
    "\n",
    "import matplotlib.pyplot as plt\n",
    "\n",
    "from sklearn.linear_model import LinearRegression\n",
    "from sklearn.linear_model import LogisticRegression\n",
    "\n",
    "\n",
    "import matplotlib\n",
    "import matplotlib.pyplot as plt\n",
    "%matplotlib inline\n",
    "\n",
    "import seaborn as sns\n",
    "\n",
    "from scipy.stats import lognorm\n",
    "from scipy.stats import gamma\n",
    "from scipy.stats import beta\n",
    "from scipy.special import expit"
   ]
  },
  {
   "cell_type": "markdown",
   "metadata": {},
   "source": [
    "# PART 1: WORK WITH A TAB-SEPARATED TEXT FILE\n",
    "\n",
    "In this section, you will load in a plain text file where columns have been separated by a tab character. The tab character is represented in code as the: `\\t` symbol.   \n",
    "\n",
    "Tab separated data is typical for government data or legacy data coming out of old mainframe systems.  \n",
    "\n",
    "We will us data from the US Patent Office (USPTO). The file contains two columns:\n",
    "\n",
    "- id: patent sub-class id\n",
    "- title: patent sub-class title"
   ]
  },
  {
   "cell_type": "markdown",
   "metadata": {},
   "source": [
    "**PROBLEM**: Open and read in the `USPTOsubclasses.txt` file using the native Python `open()` command."
   ]
  },
  {
   "cell_type": "code",
   "execution_count": 210,
   "metadata": {},
   "outputs": [],
   "source": [
    "# open the .txt file\n",
    "file=open(\"data/USPTOsubclasses.txt\",\"r\")\n",
    "contents = file.read()\n"
   ]
  },
  {
   "cell_type": "markdown",
   "metadata": {},
   "source": [
    "**PROBLEM**: Make a list of lists. First, split the data by line, and the split it again by column. "
   ]
  },
  {
   "cell_type": "code",
   "execution_count": 211,
   "metadata": {},
   "outputs": [],
   "source": [
    "# split the raw text by the new line character \"\\n\" )\n",
    "lines = contents.split(\"\\n\")"
   ]
  },
  {
   "cell_type": "code",
   "execution_count": 212,
   "metadata": {},
   "outputs": [],
   "source": [
    "# create a \"list of lists\" \n",
    "#   each entry in the \"outer\" list is a row from the file; \n",
    "#   each row can be split into an \"inner\" list of tab-separated columns\n",
    "data = []\n",
    "for line in lines:\n",
    "    data.append(line.split(\"\\t\"))\n"
   ]
  },
  {
   "cell_type": "code",
   "execution_count": 215,
   "metadata": {},
   "outputs": [
    {
     "name": "stdout",
     "output_type": "stream",
     "text": [
      "[['id', 'title'], ['-0T/74', 'NULL'], ['01L/294.8', 'NULL'], ['01L/298.8', 'NULL'], ['01L/299.0', 'NULL'], ['1/1', 'Unclassified'], ['100/1', 'BINDING'], ['100/10', 'With precutting of binder to length'], ['100/10.*1', 'WITH ADDITIONAL TREATMENT OF MATERIAL (100/70 R)'], ['100/100', 'WITH GROUND']]\n"
     ]
    }
   ],
   "source": [
    "# what's the sub-class \"1/1\" called?  hint: look at first 10 elements of your list...\n",
    "print(data[0:10]) \n",
    "\n"
   ]
  },
  {
   "cell_type": "markdown",
   "metadata": {},
   "source": [
    "**PROBLEM**: Turn the data into a Pandas dataframe and draw a random sample of 5 rows. "
   ]
  },
  {
   "cell_type": "code",
   "execution_count": 216,
   "metadata": {},
   "outputs": [],
   "source": [
    "# Hint: remember to split the header row from the data. It will be the first element in your list of lists\n",
    "header = data[0]\n",
    "data_only= data[1:]\n",
    "\n",
    "# move data into a Pandas dataframe for easier manipulation\n",
    "df = pd.DataFrame(data_only, columns=header)\n"
   ]
  },
  {
   "cell_type": "code",
   "execution_count": 217,
   "metadata": {},
   "outputs": [
    {
     "name": "stdout",
     "output_type": "stream",
     "text": [
      "              id                                              title\n",
      "96327     405/60                       Floatable matter containment\n",
      "103864   425/166  Of intermittent delivery of fluent charges to ...\n",
      "58077    285/323                                      Wedge bushing\n",
      "120725    482/89                   From connections above and below\n",
      "104108  425/382N                                            Netting\n"
     ]
    }
   ],
   "source": [
    "# look at the dataframe\n",
    "print(df.sample(n=5, random_state=1))\n",
    "\n"
   ]
  },
  {
   "cell_type": "markdown",
   "metadata": {},
   "source": [
    "# PART 2: WORK WITH A CSV FILE IN PANDAS\n",
    "\n",
    "In this section, we load data from the `data/epfl.csv` file into a pandas dataframe.  \n",
    "\n",
    "The CSV file contains the courses offered at EPFL with the following two columns: \n",
    "\n",
    "  - course: full course name\n",
    "  - code: course code, including field of study\n"
   ]
  },
  {
   "cell_type": "markdown",
   "metadata": {},
   "source": [
    "**PROBLEM**: Load the data from `data/epfl.csv` into a Pandas dataframe."
   ]
  },
  {
   "cell_type": "code",
   "execution_count": 2,
   "metadata": {},
   "outputs": [],
   "source": [
    "# load the CSV \n",
    "EPFLcourses = pd.read_csv(\"data/epfl.csv\") \n"
   ]
  },
  {
   "cell_type": "code",
   "execution_count": 220,
   "metadata": {},
   "outputs": [
    {
     "data": {
      "text/html": [
       "<div>\n",
       "<style scoped>\n",
       "    .dataframe tbody tr th:only-of-type {\n",
       "        vertical-align: middle;\n",
       "    }\n",
       "\n",
       "    .dataframe tbody tr th {\n",
       "        vertical-align: top;\n",
       "    }\n",
       "\n",
       "    .dataframe thead th {\n",
       "        text-align: right;\n",
       "    }\n",
       "</style>\n",
       "<table border=\"1\" class=\"dataframe\">\n",
       "  <thead>\n",
       "    <tr style=\"text-align: right;\">\n",
       "      <th></th>\n",
       "      <th>course</th>\n",
       "      <th>field</th>\n",
       "    </tr>\n",
       "  </thead>\n",
       "  <tbody>\n",
       "    <tr>\n",
       "      <th>count</th>\n",
       "      <td>1677</td>\n",
       "      <td>1677</td>\n",
       "    </tr>\n",
       "    <tr>\n",
       "      <th>unique</th>\n",
       "      <td>1490</td>\n",
       "      <td>25</td>\n",
       "    </tr>\n",
       "    <tr>\n",
       "      <th>top</th>\n",
       "      <td>Physique gènèrale i</td>\n",
       "      <td>HUM</td>\n",
       "    </tr>\n",
       "    <tr>\n",
       "      <th>freq</th>\n",
       "      <td>9</td>\n",
       "      <td>178</td>\n",
       "    </tr>\n",
       "  </tbody>\n",
       "</table>\n",
       "</div>"
      ],
      "text/plain": [
       "                     course field\n",
       "count                  1677  1677\n",
       "unique                 1490    25\n",
       "top     Physique gènèrale i   HUM\n",
       "freq                      9   178"
      ]
     },
     "execution_count": 220,
     "metadata": {},
     "output_type": "execute_result"
    }
   ],
   "source": [
    "# look at the number of rows and columns (i.e., the shape)\n",
    "EPFLcourses.shape\n",
    "EPFLcourses.describe()\n"
   ]
  },
  {
   "cell_type": "markdown",
   "metadata": {},
   "source": [
    "**PROBLEM**: Look at the data."
   ]
  },
  {
   "cell_type": "code",
   "execution_count": 4,
   "metadata": {},
   "outputs": [
    {
     "name": "stdout",
     "output_type": "stream",
     "text": [
      "                                              course      code\n",
      "0                             Accounting for finance   FIN-411\n",
      "1                                Advanced algorithms    CS-450\n",
      "2  Advanced analog and rf integrated circuits des...    EE-520\n",
      "3  Advanced analog and rf integrated circuits des...    EE-521\n",
      "4                                Advanced analysis i  MATH-400\n"
     ]
    }
   ],
   "source": [
    "# look at the first 5 rows\n",
    "print(EPFLcourses.iloc[0:5])\n"
   ]
  },
  {
   "cell_type": "code",
   "execution_count": 5,
   "metadata": {},
   "outputs": [
    {
     "data": {
      "text/html": [
       "<div>\n",
       "<style scoped>\n",
       "    .dataframe tbody tr th:only-of-type {\n",
       "        vertical-align: middle;\n",
       "    }\n",
       "\n",
       "    .dataframe tbody tr th {\n",
       "        vertical-align: top;\n",
       "    }\n",
       "\n",
       "    .dataframe thead th {\n",
       "        text-align: right;\n",
       "    }\n",
       "</style>\n",
       "<table border=\"1\" class=\"dataframe\">\n",
       "  <thead>\n",
       "    <tr style=\"text-align: right;\">\n",
       "      <th></th>\n",
       "      <th>course</th>\n",
       "      <th>code</th>\n",
       "    </tr>\n",
       "  </thead>\n",
       "  <tbody>\n",
       "    <tr>\n",
       "      <th>1753</th>\n",
       "      <td>Water resources engineering</td>\n",
       "      <td>ENV-424</td>\n",
       "    </tr>\n",
       "    <tr>\n",
       "      <th>1754</th>\n",
       "      <td>Wave propagation along transmission lines</td>\n",
       "      <td>EE-575</td>\n",
       "    </tr>\n",
       "    <tr>\n",
       "      <th>1755</th>\n",
       "      <td>Wind energy</td>\n",
       "      <td>ETH-432</td>\n",
       "    </tr>\n",
       "    <tr>\n",
       "      <th>1756</th>\n",
       "      <td>Wireless receivers: algorithms and architectures</td>\n",
       "      <td>EE-442</td>\n",
       "    </tr>\n",
       "    <tr>\n",
       "      <th>1757</th>\n",
       "      <td>Wood structures, properties and uses</td>\n",
       "      <td>MSE-466</td>\n",
       "    </tr>\n",
       "  </tbody>\n",
       "</table>\n",
       "</div>"
      ],
      "text/plain": [
       "                                                course     code\n",
       "1753                       Water resources engineering  ENV-424\n",
       "1754         Wave propagation along transmission lines   EE-575\n",
       "1755                                       Wind energy  ETH-432\n",
       "1756  Wireless receivers: algorithms and architectures   EE-442\n",
       "1757              Wood structures, properties and uses  MSE-466"
      ]
     },
     "execution_count": 5,
     "metadata": {},
     "output_type": "execute_result"
    }
   ],
   "source": [
    "# look at the last 5 rows\n",
    "EPFLcourses.tail(n=5)"
   ]
  },
  {
   "cell_type": "code",
   "execution_count": 6,
   "metadata": {},
   "outputs": [
    {
     "data": {
      "text/html": [
       "<div>\n",
       "<style scoped>\n",
       "    .dataframe tbody tr th:only-of-type {\n",
       "        vertical-align: middle;\n",
       "    }\n",
       "\n",
       "    .dataframe tbody tr th {\n",
       "        vertical-align: top;\n",
       "    }\n",
       "\n",
       "    .dataframe thead th {\n",
       "        text-align: right;\n",
       "    }\n",
       "</style>\n",
       "<table border=\"1\" class=\"dataframe\">\n",
       "  <thead>\n",
       "    <tr style=\"text-align: right;\">\n",
       "      <th></th>\n",
       "      <th>course</th>\n",
       "      <th>code</th>\n",
       "    </tr>\n",
       "  </thead>\n",
       "  <tbody>\n",
       "    <tr>\n",
       "      <th>1598</th>\n",
       "      <td>Systëmes multivariables</td>\n",
       "      <td>ME-324</td>\n",
       "    </tr>\n",
       "    <tr>\n",
       "      <th>190</th>\n",
       "      <td>Biomedical optics</td>\n",
       "      <td>BIOENG-445</td>\n",
       "    </tr>\n",
       "    <tr>\n",
       "      <th>1233</th>\n",
       "      <td>Projet de master en bioingènierie et biotechno...</td>\n",
       "      <td>BIO-599</td>\n",
       "    </tr>\n",
       "    <tr>\n",
       "      <th>403</th>\n",
       "      <td>Design graphique iv</td>\n",
       "      <td>HUM-326</td>\n",
       "    </tr>\n",
       "    <tr>\n",
       "      <th>1065</th>\n",
       "      <td>Philosophie des sciences b</td>\n",
       "      <td>HUM-238</td>\n",
       "    </tr>\n",
       "  </tbody>\n",
       "</table>\n",
       "</div>"
      ],
      "text/plain": [
       "                                                 course        code\n",
       "1598                            Systëmes multivariables      ME-324\n",
       "190                                   Biomedical optics  BIOENG-445\n",
       "1233  Projet de master en bioingènierie et biotechno...     BIO-599\n",
       "403                                 Design graphique iv     HUM-326\n",
       "1065                         Philosophie des sciences b     HUM-238"
      ]
     },
     "execution_count": 6,
     "metadata": {},
     "output_type": "execute_result"
    }
   ],
   "source": [
    "# look at a random sample of 5 rows\n",
    "EPFLcourses.sample(n=5, random_state=1)\n",
    "\n"
   ]
  },
  {
   "cell_type": "markdown",
   "metadata": {},
   "source": [
    "## Create a new column: \" `field` \" \n",
    "\n",
    "The next set of problems are intended to extract the field code (e.g.: CS, EE, MATH) from the course code column and put it in a new column called `field`."
   ]
  },
  {
   "cell_type": "markdown",
   "metadata": {},
   "source": [
    "**PROBLEM**: Create a new column called `field` and fill it with zeros."
   ]
  },
  {
   "cell_type": "code",
   "execution_count": 7,
   "metadata": {},
   "outputs": [],
   "source": [
    "# create a dummy column called 'field' filled with a marker to indicate the value is currently missing\n",
    "#   hint: the numpy package defines a special value called NaN to indicate Not a Number... \n",
    "#         so set the new column to `np.nan`\n",
    "EPFLcourses[\"field\"] = np.NaN"
   ]
  },
  {
   "cell_type": "markdown",
   "metadata": {},
   "source": [
    "**PROBLEM**: Fill the new column with the field of the course. What symbol do you split on?"
   ]
  },
  {
   "cell_type": "code",
   "execution_count": 21,
   "metadata": {},
   "outputs": [],
   "source": [
    "# fill the 'field' column with the split code\n",
    "EPFLcourses[\"field\"] = EPFLcourses[\"code\"].apply(lambda row: str(row).split(\"-\"))"
   ]
  },
  {
   "cell_type": "code",
   "execution_count": 22,
   "metadata": {},
   "outputs": [],
   "source": [
    "# select the first list element (index 0) for each field entry\n",
    "EPFLcourses[\"field\"] = EPFLcourses[\"field\"].apply(lambda row: row[0])"
   ]
  },
  {
   "cell_type": "markdown",
   "metadata": {},
   "source": [
    "## Now clean the dataset, find missing fields, and remove those entries."
   ]
  },
  {
   "cell_type": "markdown",
   "metadata": {},
   "source": [
    "**PROBLEM**: Look at some examples where a value for `field` is missing. What's a course without a code/field?"
   ]
  },
  {
   "cell_type": "code",
   "execution_count": 37,
   "metadata": {},
   "outputs": [
    {
     "name": "stdout",
     "output_type": "stream",
     "text": [
      "161                   Autre contribution ‡ l'enseignement\n",
      "162                   Autre contribution ‡ l'enseignement\n",
      "244                     Chimie gènèrale avancèe (‡ choix)\n",
      "334                                            Cours ethz\n",
      "335                                            Cours ethz\n",
      "336                                          Cours ethz 1\n",
      "337                                          Cours ethz 1\n",
      "338                       Cours euler, algëbre linèaire i\n",
      "339                      Cours euler, algëbre linèaire ii\n",
      "340                          Cours euler, analyse gymnase\n",
      "341                                Cours euler, analyse i\n",
      "342                               Cours euler, analyse ii\n",
      "343                          Cours euler, chimie gènèrale\n",
      "344                             Cours euler, gèomètrie ii\n",
      "345                          Cours euler, mathèmatiques i\n",
      "346                          Cours euler, mathèmatiques i\n",
      "347                         Cours euler, mathèmatiques ii\n",
      "348                         Cours euler, mathèmatiques ii\n",
      "349                        Cours euler, mathèmatiques iii\n",
      "350                        Cours euler, mathèmatiques iii\n",
      "351                      Cours euler, physique gènèrale i\n",
      "352                     Cours euler, physique gènèrale ii\n",
      "353     Cours institut national polytechnique de grenoble\n",
      "354                           Cours politecnico di torino\n",
      "355                                    Cours uni fribourg\n",
      "356                                    Cours uni fribourg\n",
      "357                                      Cours uni genëve\n",
      "358                                      Cours uni genëve\n",
      "359     Cours unil - facultè de biologie et de mèdecin...\n",
      "360     Cours unil - facultè de biologie et de mèdecin...\n",
      "                              ...                        \n",
      "382                                   Cours uni neuch‚tel\n",
      "538                              Equivalence cycle master\n",
      "539                              Equivalence cycle master\n",
      "741              Internship project for nus in a start-up\n",
      "1166                                  Prèparation de mooc\n",
      "1167                                  Prèparation de mooc\n",
      "1315                                 Promotion des ètudes\n",
      "1316                                 Promotion des ètudes\n",
      "1449                             Shs : cycle bachelor ba3\n",
      "1450                         Shs : cycle bachelor ba3+ba4\n",
      "1451                             Shs : cycle bachelor ba4\n",
      "1452                             Shs : cycle bachelor ba5\n",
      "1453                         Shs : cycle bachelor ba5+ba6\n",
      "1454                             Shs : cycle bachelor ba6\n",
      "1455                         Shs : introduction au projet\n",
      "1456                                         Shs : projet\n",
      "1527                               Stage supplèmentaire 1\n",
      "1528                               Stage supplèmentaire 1\n",
      "1529                               Stage supplèmentaire 2\n",
      "1530                               Stage supplèmentaire 2\n",
      "1531                               Stage supplèmentaire 3\n",
      "1532                               Stage supplèmentaire 3\n",
      "1533                               Stage supplèmentaire 4\n",
      "1534                               Stage supplèmentaire 4\n",
      "1535                               Stage supplèmentaire 5\n",
      "1536                               Stage supplèmentaire 5\n",
      "1574                                Suivi de mooc externe\n",
      "1575                                Suivi de mooc externe\n",
      "1708         Travail pratique de laboratoire (30 crèdits)\n",
      "1709         Travail pratique de laboratoire (30 crèdits)\n",
      "Name: course, Length: 81, dtype: object\n"
     ]
    }
   ],
   "source": [
    "# look at the entries without a field\n",
    "print(EPFLcourses[EPFLcourses[\"code\"].isnull()==True].course)"
   ]
  },
  {
   "cell_type": "markdown",
   "metadata": {},
   "source": [
    "**PROBLEM**: How many rows are removed by dropping all rows without a value for `field`?"
   ]
  },
  {
   "cell_type": "code",
   "execution_count": 38,
   "metadata": {},
   "outputs": [
    {
     "name": "stdout",
     "output_type": "stream",
     "text": [
      "(1758, 3)\n"
     ]
    },
    {
     "data": {
      "text/plain": [
       "(81, 3)"
      ]
     },
     "execution_count": 38,
     "metadata": {},
     "output_type": "execute_result"
    }
   ],
   "source": [
    "# inspect the shape of data before removing missing values\n",
    "print(EPFLcourses.shape)\n",
    "EPFLcourses[EPFLcourses[\"code\"].isna()].shape\n"
   ]
  },
  {
   "cell_type": "code",
   "execution_count": 39,
   "metadata": {},
   "outputs": [],
   "source": [
    "# remove entries without a description\n",
    "EPFLcourses = EPFLcourses.dropna()"
   ]
  },
  {
   "cell_type": "code",
   "execution_count": 40,
   "metadata": {},
   "outputs": [
    {
     "data": {
      "text/plain": [
       "(1677, 3)"
      ]
     },
     "execution_count": 40,
     "metadata": {},
     "output_type": "execute_result"
    }
   ],
   "source": [
    "# after removing entries, inspect the shape of data again\n",
    "EPFLcourses.shape\n"
   ]
  },
  {
   "cell_type": "markdown",
   "metadata": {},
   "source": [
    "\n"
   ]
  },
  {
   "cell_type": "code",
   "execution_count": 41,
   "metadata": {},
   "outputs": [],
   "source": [
    "# make sure that entries were indeed removed\n",
    "EPFLcourses[EPFLcourses[\"code\"].isna()]\n",
    "EPFLcourses=EPFLcourses.drop(['code'], axis=1)"
   ]
  },
  {
   "cell_type": "markdown",
   "metadata": {},
   "source": [
    "## Now find out how many courses EPFL offers in each field. "
   ]
  },
  {
   "cell_type": "markdown",
   "metadata": {},
   "source": [
    "**PROBLEM**: Count the number of course entries by field  "
   ]
  },
  {
   "cell_type": "code",
   "execution_count": 42,
   "metadata": {},
   "outputs": [
    {
     "data": {
      "text/html": [
       "<div>\n",
       "<style scoped>\n",
       "    .dataframe tbody tr th:only-of-type {\n",
       "        vertical-align: middle;\n",
       "    }\n",
       "\n",
       "    .dataframe tbody tr th {\n",
       "        vertical-align: top;\n",
       "    }\n",
       "\n",
       "    .dataframe thead th {\n",
       "        text-align: right;\n",
       "    }\n",
       "</style>\n",
       "<table border=\"1\" class=\"dataframe\">\n",
       "  <thead>\n",
       "    <tr style=\"text-align: right;\">\n",
       "      <th></th>\n",
       "      <th>course</th>\n",
       "    </tr>\n",
       "    <tr>\n",
       "      <th>field</th>\n",
       "      <th></th>\n",
       "    </tr>\n",
       "  </thead>\n",
       "  <tbody>\n",
       "    <tr>\n",
       "      <th>AR</th>\n",
       "      <td>130</td>\n",
       "    </tr>\n",
       "    <tr>\n",
       "      <th>BIO</th>\n",
       "      <td>76</td>\n",
       "    </tr>\n",
       "    <tr>\n",
       "      <th>BIOENG</th>\n",
       "      <td>29</td>\n",
       "    </tr>\n",
       "    <tr>\n",
       "      <th>CH</th>\n",
       "      <td>88</td>\n",
       "    </tr>\n",
       "    <tr>\n",
       "      <th>CIVIL</th>\n",
       "      <td>85</td>\n",
       "    </tr>\n",
       "    <tr>\n",
       "      <th>COM</th>\n",
       "      <td>38</td>\n",
       "    </tr>\n",
       "    <tr>\n",
       "      <th>CS</th>\n",
       "      <td>92</td>\n",
       "    </tr>\n",
       "    <tr>\n",
       "      <th>ChE</th>\n",
       "      <td>30</td>\n",
       "    </tr>\n",
       "    <tr>\n",
       "      <th>DH</th>\n",
       "      <td>5</td>\n",
       "    </tr>\n",
       "    <tr>\n",
       "      <th>EE</th>\n",
       "      <td>139</td>\n",
       "    </tr>\n",
       "    <tr>\n",
       "      <th>ENG</th>\n",
       "      <td>25</td>\n",
       "    </tr>\n",
       "    <tr>\n",
       "      <th>ENV</th>\n",
       "      <td>76</td>\n",
       "    </tr>\n",
       "    <tr>\n",
       "      <th>EPFL</th>\n",
       "      <td>2</td>\n",
       "    </tr>\n",
       "    <tr>\n",
       "      <th>ETH</th>\n",
       "      <td>18</td>\n",
       "    </tr>\n",
       "    <tr>\n",
       "      <th>FIN</th>\n",
       "      <td>23</td>\n",
       "    </tr>\n",
       "    <tr>\n",
       "      <th>HEP</th>\n",
       "      <td>12</td>\n",
       "    </tr>\n",
       "    <tr>\n",
       "      <th>HUM</th>\n",
       "      <td>178</td>\n",
       "    </tr>\n",
       "    <tr>\n",
       "      <th>MATH</th>\n",
       "      <td>162</td>\n",
       "    </tr>\n",
       "    <tr>\n",
       "      <th>ME</th>\n",
       "      <td>86</td>\n",
       "    </tr>\n",
       "    <tr>\n",
       "      <th>MGT</th>\n",
       "      <td>44</td>\n",
       "    </tr>\n",
       "    <tr>\n",
       "      <th>MICRO</th>\n",
       "      <td>76</td>\n",
       "    </tr>\n",
       "    <tr>\n",
       "      <th>MSE</th>\n",
       "      <td>80</td>\n",
       "    </tr>\n",
       "    <tr>\n",
       "      <th>PENS</th>\n",
       "      <td>28</td>\n",
       "    </tr>\n",
       "    <tr>\n",
       "      <th>PHYS</th>\n",
       "      <td>125</td>\n",
       "    </tr>\n",
       "    <tr>\n",
       "      <th>PREPA</th>\n",
       "      <td>30</td>\n",
       "    </tr>\n",
       "  </tbody>\n",
       "</table>\n",
       "</div>"
      ],
      "text/plain": [
       "        course\n",
       "field         \n",
       "AR         130\n",
       "BIO         76\n",
       "BIOENG      29\n",
       "CH          88\n",
       "CIVIL       85\n",
       "COM         38\n",
       "CS          92\n",
       "ChE         30\n",
       "DH           5\n",
       "EE         139\n",
       "ENG         25\n",
       "ENV         76\n",
       "EPFL         2\n",
       "ETH         18\n",
       "FIN         23\n",
       "HEP         12\n",
       "HUM        178\n",
       "MATH       162\n",
       "ME          86\n",
       "MGT         44\n",
       "MICRO       76\n",
       "MSE         80\n",
       "PENS        28\n",
       "PHYS       125\n",
       "PREPA       30"
      ]
     },
     "execution_count": 42,
     "metadata": {},
     "output_type": "execute_result"
    }
   ],
   "source": [
    "# Count the number of course entries. Hint: Use Pandas `.groupby()` function to aggregate by field\n",
    "grouped_bydata = EPFLcourses.groupby('field')\n",
    "grouped_bydata.count()"
   ]
  },
  {
   "cell_type": "markdown",
   "metadata": {},
   "source": [
    "**PROBLEM**: How many Architecture (AR) courses are offered at EPFL?  "
   ]
  },
  {
   "cell_type": "code",
   "execution_count": 43,
   "metadata": {},
   "outputs": [
    {
     "data": {
      "text/plain": [
       "130"
      ]
     },
     "execution_count": 43,
     "metadata": {},
     "output_type": "execute_result"
    }
   ],
   "source": [
    "# You could just manually look at the results from above, or....\n",
    "#   hint: the .loc['AR'] access method of a dataframe will find all results for 'AR' (of which there is one )\n",
    "#         or the .at['AR','course'] access method will find the result for 'AR' for the aggregated value in 'course'\n",
    "EPFLcourses.loc[EPFLcourses['field'] =='AR'].shape[0]\n"
   ]
  },
  {
   "cell_type": "markdown",
   "metadata": {},
   "source": [
    "**PROBLEM**: What field has the most courses?"
   ]
  },
  {
   "cell_type": "code",
   "execution_count": 44,
   "metadata": {},
   "outputs": [
    {
     "data": {
      "text/html": [
       "<div>\n",
       "<style scoped>\n",
       "    .dataframe tbody tr th:only-of-type {\n",
       "        vertical-align: middle;\n",
       "    }\n",
       "\n",
       "    .dataframe tbody tr th {\n",
       "        vertical-align: top;\n",
       "    }\n",
       "\n",
       "    .dataframe thead th {\n",
       "        text-align: right;\n",
       "    }\n",
       "</style>\n",
       "<table border=\"1\" class=\"dataframe\">\n",
       "  <thead>\n",
       "    <tr style=\"text-align: right;\">\n",
       "      <th></th>\n",
       "      <th>course</th>\n",
       "    </tr>\n",
       "    <tr>\n",
       "      <th>field</th>\n",
       "      <th></th>\n",
       "    </tr>\n",
       "  </thead>\n",
       "  <tbody>\n",
       "    <tr>\n",
       "      <th>HUM</th>\n",
       "      <td>178</td>\n",
       "    </tr>\n",
       "  </tbody>\n",
       "</table>\n",
       "</div>"
      ],
      "text/plain": [
       "       course\n",
       "field        \n",
       "HUM       178"
      ]
     },
     "execution_count": 44,
     "metadata": {},
     "output_type": "execute_result"
    }
   ],
   "source": [
    "# Hint: sort the grouped_bydata in descending order to find out what the most common fields are\n",
    "EPFLcourses_count = EPFLcourses.groupby(['field']).count().sort_values(by='course')\n",
    "EPFLcourses_count.tail(1)"
   ]
  },
  {
   "cell_type": "markdown",
   "metadata": {},
   "source": [
    "### Finally, write the results back to disk\n",
    "\n",
    "In this part, write the number of courses per field to disk as an Excel file and as a comma separated (.csv) file."
   ]
  },
  {
   "cell_type": "code",
   "execution_count": 45,
   "metadata": {},
   "outputs": [
    {
     "data": {
      "text/html": [
       "<div>\n",
       "<style scoped>\n",
       "    .dataframe tbody tr th:only-of-type {\n",
       "        vertical-align: middle;\n",
       "    }\n",
       "\n",
       "    .dataframe tbody tr th {\n",
       "        vertical-align: top;\n",
       "    }\n",
       "\n",
       "    .dataframe thead th {\n",
       "        text-align: right;\n",
       "    }\n",
       "</style>\n",
       "<table border=\"1\" class=\"dataframe\">\n",
       "  <thead>\n",
       "    <tr style=\"text-align: right;\">\n",
       "      <th></th>\n",
       "      <th>field</th>\n",
       "      <th>course_count</th>\n",
       "    </tr>\n",
       "  </thead>\n",
       "  <tbody>\n",
       "    <tr>\n",
       "      <th>0</th>\n",
       "      <td>EPFL</td>\n",
       "      <td>2</td>\n",
       "    </tr>\n",
       "    <tr>\n",
       "      <th>1</th>\n",
       "      <td>DH</td>\n",
       "      <td>5</td>\n",
       "    </tr>\n",
       "    <tr>\n",
       "      <th>2</th>\n",
       "      <td>HEP</td>\n",
       "      <td>12</td>\n",
       "    </tr>\n",
       "    <tr>\n",
       "      <th>3</th>\n",
       "      <td>ETH</td>\n",
       "      <td>18</td>\n",
       "    </tr>\n",
       "    <tr>\n",
       "      <th>4</th>\n",
       "      <td>FIN</td>\n",
       "      <td>23</td>\n",
       "    </tr>\n",
       "  </tbody>\n",
       "</table>\n",
       "</div>"
      ],
      "text/plain": [
       "  field  course_count\n",
       "0  EPFL             2\n",
       "1    DH             5\n",
       "2   HEP            12\n",
       "3   ETH            18\n",
       "4   FIN            23"
      ]
     },
     "execution_count": 45,
     "metadata": {},
     "output_type": "execute_result"
    }
   ],
   "source": [
    "# First, we will re-organize the Pandas dataframe such that it has just two columns: field, course_count\n",
    "#   The following code calls .reset_index() to reset the indexing of the dataframe\n",
    "#   The code also redefines the names of the columns by setting .columns = ['field', 'course_count']\n",
    "\n",
    "EPFLcourses_count = EPFLcourses_count.reset_index()\n",
    "EPFLcourses_count.columns = ['field', 'course_count']\n",
    "EPFLcourses_count.head()\n",
    "\n",
    "# NOTE -- the code above is given to you because it is very tricky. \n",
    "# But adapt it based on the names you have used for your own dataframe"
   ]
  },
  {
   "cell_type": "markdown",
   "metadata": {},
   "source": [
    "**PROBLEM**: Write the data to BOTH an .xlsx and .csv file."
   ]
  },
  {
   "cell_type": "code",
   "execution_count": 52,
   "metadata": {},
   "outputs": [],
   "source": [
    "# write data to .xlsx (be sure to drop the index column)\n",
    "\n",
    "# Create a Pandas Excel writer using XlsxWriter as the engine.\n",
    "writer = pd.ExcelWriter('EPFLcourses_count.xlsx', engine='xlsxwriter')\n",
    "\n",
    "EPFLcourses_count.to_excel(writer, sheet_name='EPFLcourses_count')\n",
    "\n",
    "writer.save()\n",
    "\n"
   ]
  },
  {
   "cell_type": "code",
   "execution_count": 53,
   "metadata": {},
   "outputs": [],
   "source": [
    "# write data to .csv (be sure to drop the index column)\n",
    "EPFLcourses_count.to_csv('EPFLcourses_count.csv', index=False)\n"
   ]
  },
  {
   "cell_type": "markdown",
   "metadata": {},
   "source": [
    "# PART 3: A SIMPLE REGRESSION PROBLEM"
   ]
  },
  {
   "cell_type": "markdown",
   "metadata": {},
   "source": [
    "### First, let's define a simple DGP for this section...\n",
    "\n",
    "We will define the DGP as a simple line, of the form `y = m * x + b` with the following coefficients: `m = 2` and `b = 3``"
   ]
  },
  {
   "cell_type": "code",
   "execution_count": 55,
   "metadata": {},
   "outputs": [],
   "source": [
    "# this function implements our DGP\n",
    "\n",
    "def dgp(x):\n",
    "    return 2 * x + 3"
   ]
  },
  {
   "cell_type": "markdown",
   "metadata": {},
   "source": [
    "**PROBLEM**: Does the DGP have any variance or noise?"
   ]
  },
  {
   "cell_type": "markdown",
   "metadata": {},
   "source": [
    "\n",
    "\n"
   ]
  },
  {
   "cell_type": "markdown",
   "metadata": {},
   "source": [
    "**PROBLEM**: What are the values of `y` when `x` is equal to 1, 2, 3, 4 and 5?"
   ]
  },
  {
   "cell_type": "code",
   "execution_count": 56,
   "metadata": {},
   "outputs": [],
   "source": [
    "# toy data\n",
    "x = [1,2,3,4,5]\n",
    "y = []\n",
    "for value in x:\n",
    "    y.append(dgp(value))\n"
   ]
  },
  {
   "cell_type": "markdown",
   "metadata": {},
   "source": [
    "**PROBLEM**: Plot our data as red dots, and then _overlay_ a plot of the DGP as a black line "
   ]
  },
  {
   "cell_type": "code",
   "execution_count": 57,
   "metadata": {},
   "outputs": [
    {
     "data": {
      "image/png": "[encoded data removed]",
      "text/plain": [
       "<Figure size 432x288 with 1 Axes>"
      ]
     },
     "metadata": {
      "needs_background": "light"
     },
     "output_type": "display_data"
    }
   ],
   "source": [
    "# plot data with axis labels\n",
    "plt.scatter(x, y,  color='red')\n",
    "plt.plot(x, y, color='black', linewidth=3)\n",
    "plt.show()\n"
   ]
  },
  {
   "cell_type": "markdown",
   "metadata": {},
   "source": [
    "### Use the sample mean to make a _very_ simple prediction...\n",
    "\n",
    "The most basic \"model\" is just to predict the mean of Y. "
   ]
  },
  {
   "cell_type": "markdown",
   "metadata": {},
   "source": [
    "**PROBLEM**: Calculate and report the mean of the outcome variable `y`?"
   ]
  },
  {
   "cell_type": "code",
   "execution_count": 58,
   "metadata": {},
   "outputs": [],
   "source": [
    "# compute the mean manually\n",
    "mean_manually = sum(i for i in y)/(len(y))\n"
   ]
  },
  {
   "cell_type": "code",
   "execution_count": 59,
   "metadata": {},
   "outputs": [
    {
     "name": "stdout",
     "output_type": "stream",
     "text": [
      "9.0\n"
     ]
    }
   ],
   "source": [
    "# now use a function from the numpy package to calculate the mean\n",
    "mean = np.mean(y)\n",
    "print(mean)\n"
   ]
  },
  {
   "cell_type": "markdown",
   "metadata": {},
   "source": [
    "**PROBLEM**: Plot our data as red dots, _overlay_ a plot of the DGP as a black line, and overlay a horizontal line at the mean of Y "
   ]
  },
  {
   "cell_type": "code",
   "execution_count": 65,
   "metadata": {},
   "outputs": [
    {
     "data": {
      "image/png": "[encoded data removed]",
      "text/plain": [
       "<Figure size 432x288 with 1 Axes>"
      ]
     },
     "metadata": {
      "needs_background": "light"
     },
     "output_type": "display_data"
    }
   ],
   "source": [
    "# plot mean prediction\n",
    "plt.scatter(x, y,  color='red')\n",
    "plt.plot(x, y, color='black', linewidth=3)\n",
    "plt.hlines(mean, xmin=np.min(x), xmax=np.max(x))\n",
    "plt.legend(['DGP','dots','mean'])\n",
    "plt.show()\n"
   ]
  },
  {
   "cell_type": "markdown",
   "metadata": {},
   "source": [
    "**PROBLEM**: How well does the mean fit our DGP? It fits badly"
   ]
  },
  {
   "cell_type": "markdown",
   "metadata": {},
   "source": [
    "\n",
    "\n"
   ]
  },
  {
   "cell_type": "markdown",
   "metadata": {},
   "source": [
    "### Fit a simple linear regression\n",
    "\n",
    "You will now try to estimate the coefficients for the `m` and `b` parameters you see in the DGP.  "
   ]
  },
  {
   "cell_type": "markdown",
   "metadata": {},
   "source": [
    "**PROBLEM**: Prepare to do a linear regression to `X` and `y`.\n",
    "\n",
    "Let's convert all data into arrays (as defined by the numpy package) so that we know it is valid for numerical computation."
   ]
  },
  {
   "cell_type": "code",
   "execution_count": 23,
   "metadata": {},
   "outputs": [
    {
     "name": "stdout",
     "output_type": "stream",
     "text": [
      "[[1]\n",
      " [2]\n",
      " [3]\n",
      " [4]\n",
      " [5]]\n"
     ]
    }
   ],
   "source": [
    "# First, you need to reshape the X data into a \"Design Matrix\" (a two-dimensional shape)\n",
    "#  use the reshape() method of the array class of the numpy package\n",
    "#  your desing matrix with have multiple rows of observations, \n",
    "#     but only 1 column as there is one predictor\n",
    "X = np.reshape(x, (len(x),-1)) \n",
    "print(X)\n"
   ]
  },
  {
   "cell_type": "code",
   "execution_count": 25,
   "metadata": {},
   "outputs": [
    {
     "name": "stdout",
     "output_type": "stream",
     "text": [
      "[ 5  7  9 11 13]\n"
     ]
    }
   ],
   "source": [
    "# Second, also covert your y data into a numpy array \n",
    "#   hint: no need to change the shape - a simple 1-dimensional array (the default) is fine\n",
    "y = np.array(y)\n",
    "print(y)\n"
   ]
  },
  {
   "cell_type": "markdown",
   "metadata": {},
   "source": [
    "**PROBLEM**: Fit a linear regression for `y` and `X`"
   ]
  },
  {
   "cell_type": "code",
   "execution_count": 26,
   "metadata": {},
   "outputs": [],
   "source": [
    "# fit a linear regression using the LinearRegression() model from sklearn\n",
    "reg = LinearRegression().fit(X, y)\n"
   ]
  },
  {
   "cell_type": "markdown",
   "metadata": {},
   "source": [
    "**PROBLEM**: Find and report the r-squared, coefficient m, and intercept for the model."
   ]
  },
  {
   "cell_type": "code",
   "execution_count": 27,
   "metadata": {},
   "outputs": [
    {
     "data": {
      "text/plain": [
       "1.0"
      ]
     },
     "execution_count": 27,
     "metadata": {},
     "output_type": "execute_result"
    }
   ],
   "source": [
    "# evaluate the fit in terms of R^2 (i.e. variance explained)\n",
    "reg.score(X, y)\n",
    "\n"
   ]
  },
  {
   "cell_type": "code",
   "execution_count": 36,
   "metadata": {},
   "outputs": [
    {
     "name": "stdout",
     "output_type": "stream",
     "text": [
      "2.00000\n"
     ]
    }
   ],
   "source": [
    "# estimate coefficient m\n",
    "m = reg.coef_[0]\n",
    "print(\"%.5f\" % m)\n"
   ]
  },
  {
   "cell_type": "code",
   "execution_count": 37,
   "metadata": {},
   "outputs": [
    {
     "name": "stdout",
     "output_type": "stream",
     "text": [
      "3.00000\n"
     ]
    }
   ],
   "source": [
    "# estimate intercept b\n",
    "b = reg.intercept_\n",
    "print(\"%.5f\" % b)\n",
    "\n"
   ]
  },
  {
   "cell_type": "markdown",
   "metadata": {},
   "source": [
    "**PROBLEM**: Use the fitted regression model to calculate the predicted value of `y` at `x = 6`."
   ]
  },
  {
   "cell_type": "code",
   "execution_count": 44,
   "metadata": {},
   "outputs": [
    {
     "data": {
      "text/plain": [
       "array([15.])"
      ]
     },
     "execution_count": 44,
     "metadata": {},
     "output_type": "execute_result"
    }
   ],
   "source": [
    "# use fitted model to predict y at x = 6\n",
    "x = 6\n",
    "X = np.reshape(x, (1,-1)) \n",
    "reg.predict(X)\n"
   ]
  },
  {
   "cell_type": "markdown",
   "metadata": {},
   "source": [
    "**PROBLEM**: Show (by manual calculation) that the predicted value above matches the true DGP."
   ]
  },
  {
   "cell_type": "markdown",
   "metadata": {},
   "source": [
    "\n",
    "\n",
    "\n",
    "\n",
    "\n",
    "\n",
    "        "
   ]
  },
  {
   "cell_type": "markdown",
   "metadata": {},
   "source": [
    "# PART 4: A SIMPLE CLASSIFICATION PROBLEM\n",
    "\n",
    "We will now consider some data that will be generated by a *nonlinear* and *noisy* DGP. We want to predict two classes, where `y` equals `1` or `0`, that depend only on the value of `x`. \n",
    "\n",
    "Think back to the Credit Default demo. In this example, `y` stands for defaulting and `x` might stand for your amount of debt. For this simple scenario, the more debt you have, the more likely you are to default. We would like predictions to lie in the continuous inerval `[0,1]`."
   ]
  },
  {
   "cell_type": "code",
   "execution_count": 120,
   "metadata": {},
   "outputs": [
    {
     "data": {
      "text/plain": [
       "array([ 1.76405235,  0.40015721,  0.97873798,  2.2408932 ,  1.86755799,\n",
       "       -0.97727788,  0.95008842, -0.15135721, -0.10321885,  0.4105985 ])"
      ]
     },
     "execution_count": 120,
     "metadata": {},
     "output_type": "execute_result"
    }
   ],
   "source": [
    "# generate random samples with seed = 0 and look at the first 10 values of X\n",
    "\n",
    "np.random.seed(0)\n",
    "n_samples = 100\n",
    "\n",
    "X = np.random.normal(size = n_samples)\n",
    "X[:10]  # inspect the first 10 observations"
   ]
  },
  {
   "cell_type": "markdown",
   "metadata": {},
   "source": [
    "For all values `X > 0`, we will set `y` equal to `1` and `0` otherwise. Add some random noise to `X`. "
   ]
  },
  {
   "cell_type": "code",
   "execution_count": 121,
   "metadata": {},
   "outputs": [
    {
     "data": {
      "text/plain": [
       "array([1., 1., 1., 1., 1., 0., 1., 0., 0., 1.])"
      ]
     },
     "execution_count": 121,
     "metadata": {},
     "output_type": "execute_result"
    }
   ],
   "source": [
    "# set y to 1 if X > 0\n",
    "\n",
    "y = X > 0               # Hint: this creates a y array of True and False\n",
    "y = y.astype(np.float)  # Hint: this converts booleans to 1.0 if try, and 0.0 if False\n",
    "y[:10]                  # look at the first 10 entries of y"
   ]
  },
  {
   "cell_type": "code",
   "execution_count": 122,
   "metadata": {},
   "outputs": [
    {
     "data": {
      "text/plain": [
       "array([ 2.14068249,  0.1306054 ,  0.72464098,  2.43477254,  1.63293331,\n",
       "       -0.58855364,  0.86736462, -0.30084817,  0.28136955,  0.70670146])"
      ]
     },
     "execution_count": 122,
     "metadata": {},
     "output_type": "execute_result"
    }
   ],
   "source": [
    "# add some Gaussian noise around the transition point of x = 0 \n",
    "X = X + 0.2 * np.random.normal(size = n_samples)\n",
    "X[:10]   # inspect first 10 entries of X"
   ]
  },
  {
   "cell_type": "markdown",
   "metadata": {},
   "source": [
    "### Plot the data\n",
    "\n",
    "Simply plot the data - plotting the data is key before fitting any statistical model. "
   ]
  },
  {
   "cell_type": "markdown",
   "metadata": {},
   "source": [
    "**PROBLEM**: Plot `X` and `y` on a scatterplot. Will a linear classifier fit these data well? \n",
    "\n",
    "The data distribution is discontinous so a linear model will not fit well."
   ]
  },
  {
   "cell_type": "code",
   "execution_count": 123,
   "metadata": {},
   "outputs": [
    {
     "data": {
      "text/plain": [
       "<function matplotlib.pyplot.show(*args, **kw)>"
      ]
     },
     "execution_count": 123,
     "metadata": {},
     "output_type": "execute_result"
    },
    {
     "data": {
      "image/png": "[encoded data removed]",
      "text/plain": [
       "<Figure size 432x288 with 1 Axes>"
      ]
     },
     "metadata": {
      "needs_background": "light"
     },
     "output_type": "display_data"
    }
   ],
   "source": [
    "# scatterplot with axis labels\n",
    "plt.scatter(X, y)\n",
    "plt.xlabel('X')\n",
    "plt.ylabel('y')\n",
    "plt.show"
   ]
  },
  {
   "cell_type": "markdown",
   "metadata": {},
   "source": [
    "### Fit a linear probability model\n",
    "\n",
    "In this part, we simply plot the data. Plotting the data is key before fitting any statistical model. "
   ]
  },
  {
   "cell_type": "markdown",
   "metadata": {},
   "source": [
    "**PROBLEM**: Fit a linear regression and look at the intercept. Does the intercept have a reasonable values? Why not?\n",
    "\n",
    "It should be closer to 0.5 but the numple of samples is small so it is normal to observe a small deviation of the intercept"
   ]
  },
  {
   "cell_type": "code",
   "execution_count": 124,
   "metadata": {},
   "outputs": [
    {
     "data": {
      "text/plain": [
       "0.5216114089967183"
      ]
     },
     "execution_count": 124,
     "metadata": {},
     "output_type": "execute_result"
    }
   ],
   "source": [
    "# fit the linear regression (hint: call .reshape(-1, 1) on X to tell NumPy that there's only one predictor )\n",
    "X = X.reshape(-1, 1)\n",
    "reg = LinearRegression().fit(X, y)\n",
    "reg.intercept_\n",
    "\n"
   ]
  },
  {
   "cell_type": "markdown",
   "metadata": {},
   "source": [
    "**PROBLEM**: Plot the linear regression fit."
   ]
  },
  {
   "cell_type": "code",
   "execution_count": 125,
   "metadata": {},
   "outputs": [
    {
     "data": {
      "text/plain": [
       "[<matplotlib.lines.Line2D at 0x1a1d99f5f8>]"
      ]
     },
     "execution_count": 125,
     "metadata": {},
     "output_type": "execute_result"
    },
    {
     "data": {
      "image/png": "[encoded data removed]",
      "text/plain": [
       "<Figure size 432x288 with 1 Axes>"
      ]
     },
     "metadata": {
      "needs_background": "light"
     },
     "output_type": "display_data"
    }
   ],
   "source": [
    "# plot linear regression fit\n",
    "t = np.arange(-2, 2, 0.01).reshape(-1, 1)\n",
    "Y_pred = reg.predict(t)\n",
    "plt.scatter(X, y)\n",
    "plt.xlabel('X')\n",
    "plt.ylabel('y')\n",
    "plt.plot(t, Y_pred, color='red')\n",
    "\n",
    "\n"
   ]
  },
  {
   "cell_type": "markdown",
   "metadata": {},
   "source": [
    "**PROBLEM**: What can you say about predictions for very small/large `x`? The prediction for small or large values is really bad."
   ]
  },
  {
   "cell_type": "markdown",
   "metadata": {},
   "source": [
    "\n"
   ]
  },
  {
   "cell_type": "markdown",
   "metadata": {},
   "source": [
    "### Now fit a sigmoidal logit model, which may better fit the data.\n",
    "\n",
    "Remember that for historical reasons, this is called \"logistic regression\" -- but it is for classification, not regression."
   ]
  },
  {
   "cell_type": "markdown",
   "metadata": {},
   "source": [
    "**PROBLEM**: Fit a logit model. "
   ]
  },
  {
   "cell_type": "code",
   "execution_count": 126,
   "metadata": {},
   "outputs": [],
   "source": [
    "# fit the logistic regression\n",
    "log_reg = LogisticRegression(solver='lbfgs').fit(X, y)"
   ]
  },
  {
   "cell_type": "markdown",
   "metadata": {},
   "source": [
    "**PROBLEM**: Plot the fitted function. Hint: apply the expit() function to your prediction. This will convert the predictions to an inverse sigmoid shape. How does this model fit the data?\n",
    "\n",
    "It fits the data much better"
   ]
  },
  {
   "cell_type": "code",
   "execution_count": 127,
   "metadata": {},
   "outputs": [
    {
     "data": {
      "text/plain": [
       "[<matplotlib.lines.Line2D at 0x1a1d8dec88>]"
      ]
     },
     "execution_count": 127,
     "metadata": {},
     "output_type": "execute_result"
    },
    {
     "data": {
      "image/png": "[encoded data removed]",
      "text/plain": [
       "<Figure size 432x288 with 1 Axes>"
      ]
     },
     "metadata": {
      "needs_background": "light"
     },
     "output_type": "display_data"
    }
   ],
   "source": [
    "# plot linear regression fit\n",
    "t = np.arange(-2, 2, 0.01).reshape(-1, 1)\n",
    "Y_pred = log_reg.predict_proba(t)\n",
    "plt.scatter(X, y)\n",
    "plt.xlabel('X')\n",
    "plt.ylabel('y')\n",
    "plt.plot(t, Y_pred[:,1], color='red')\n"
   ]
  },
  {
   "cell_type": "markdown",
   "metadata": {},
   "source": [
    "# Part 5: Examine Empirical Distributions \n",
    "\n",
    "In this section we have already drawn three samples from three different distributions. These appear in the `data/` directory as the files: `data1.txt`, `data2.txt`, `data3.txt`  \n",
    "\n",
    "You do not know the true distributions from which these samples were drawn - but you can investigate them and try to guess..."
   ]
  },
  {
   "cell_type": "markdown",
   "metadata": {},
   "source": [
    "### Helper Functions"
   ]
  },
  {
   "cell_type": "markdown",
   "metadata": {},
   "source": [
    "**PROBLEM**: Define a function to load a list of numbers from a text file."
   ]
  },
  {
   "cell_type": "code",
   "execution_count": 128,
   "metadata": {},
   "outputs": [],
   "source": [
    "def load_to_list(filename):\n",
    "    number_list = []\n",
    "    file=open(\"data/\"+filename,\"r\")\n",
    "    contents = file.read()\n",
    "    numbers = contents.split(\"\\n\")\n",
    "    for number in numbers:\n",
    "        number_list.append(float(number))\n",
    "    return number_list\n",
    "\n"
   ]
  },
  {
   "cell_type": "markdown",
   "metadata": {},
   "source": [
    "**PROBLEM**: Define a function to plot a histogram for some data.  "
   ]
  },
  {
   "cell_type": "code",
   "execution_count": 129,
   "metadata": {},
   "outputs": [],
   "source": [
    "def plot_histogram(data):\n",
    "    sns.distplot(data) "
   ]
  },
  {
   "cell_type": "markdown",
   "metadata": {},
   "source": [
    "### Distribution 1"
   ]
  },
  {
   "cell_type": "markdown",
   "metadata": {},
   "source": [
    "**PROBLEM**: Using your functions above, plot a histogram of `data1.txt`"
   ]
  },
  {
   "cell_type": "code",
   "execution_count": 130,
   "metadata": {},
   "outputs": [
    {
     "data": {
      "image/png": "[encoded data removed]",
      "text/plain": [
       "<Figure size 432x288 with 1 Axes>"
      ]
     },
     "metadata": {
      "needs_background": "light"
     },
     "output_type": "display_data"
    }
   ],
   "source": [
    "data1 = load_to_list(\"data1.txt\")\n",
    "plot_histogram(data1)\n"
   ]
  },
  {
   "cell_type": "markdown",
   "metadata": {},
   "source": [
    "**PROBLEM**: Using your functions above, plot a histogram of the logged values of `data1.txt`"
   ]
  },
  {
   "cell_type": "code",
   "execution_count": 131,
   "metadata": {},
   "outputs": [
    {
     "data": {
      "image/png": "[encoded data removed]",
      "text/plain": [
       "<Figure size 432x288 with 1 Axes>"
      ]
     },
     "metadata": {
      "needs_background": "light"
     },
     "output_type": "display_data"
    }
   ],
   "source": [
    "plot_histogram(np.log(data1))\n"
   ]
  },
  {
   "cell_type": "markdown",
   "metadata": {},
   "source": [
    "### Distribution 2"
   ]
  },
  {
   "cell_type": "markdown",
   "metadata": {},
   "source": [
    "**PROBLEM**: Using your functions above, plot a histogram of `data2.txt`"
   ]
  },
  {
   "cell_type": "code",
   "execution_count": 132,
   "metadata": {},
   "outputs": [
    {
     "data": {
      "image/png": "[encoded data removed]",
      "text/plain": [
       "<Figure size 432x288 with 1 Axes>"
      ]
     },
     "metadata": {
      "needs_background": "light"
     },
     "output_type": "display_data"
    }
   ],
   "source": [
    "data2 = load_to_list(\"data2.txt\")\n",
    "plot_histogram(data2)\n"
   ]
  },
  {
   "cell_type": "markdown",
   "metadata": {},
   "source": [
    "**PROBLEM**: Using your functions above, plot a histogram of the logged values of `data2.txt`"
   ]
  },
  {
   "cell_type": "code",
   "execution_count": 133,
   "metadata": {},
   "outputs": [
    {
     "data": {
      "image/png": "[encoded data removed]",
      "text/plain": [
       "<Figure size 432x288 with 1 Axes>"
      ]
     },
     "metadata": {
      "needs_background": "light"
     },
     "output_type": "display_data"
    }
   ],
   "source": [
    "plot_histogram(np.log(data2))"
   ]
  },
  {
   "cell_type": "markdown",
   "metadata": {},
   "source": [
    "### Distribution 3"
   ]
  },
  {
   "cell_type": "markdown",
   "metadata": {},
   "source": [
    "**PROBLEM**: Using your functions above, plot a histogram of `data3.txt`"
   ]
  },
  {
   "cell_type": "code",
   "execution_count": 134,
   "metadata": {},
   "outputs": [
    {
     "data": {
      "image/png": "[encoded data removed]",
      "text/plain": [
       "<Figure size 432x288 with 1 Axes>"
      ]
     },
     "metadata": {
      "needs_background": "light"
     },
     "output_type": "display_data"
    }
   ],
   "source": [
    "data3 = load_to_list(\"data3.txt\")\n",
    "plot_histogram(data3)\n"
   ]
  },
  {
   "cell_type": "markdown",
   "metadata": {},
   "source": [
    "**PROBLEM**: Using your functions above, plot a histogram of the logged values of `data3.txt`"
   ]
  },
  {
   "cell_type": "code",
   "execution_count": 135,
   "metadata": {},
   "outputs": [
    {
     "data": {
      "image/png": "[encoded data removed]",
      "text/plain": [
       "<Figure size 432x288 with 1 Axes>"
      ]
     },
     "metadata": {
      "needs_background": "light"
     },
     "output_type": "display_data"
    }
   ],
   "source": [
    "plot_histogram(np.log(data3))"
   ]
  },
  {
   "cell_type": "markdown",
   "metadata": {},
   "source": [
    "### Make educated guesses about the distributions"
   ]
  },
  {
   "cell_type": "markdown",
   "metadata": {
    "inputHidden": false,
    "outputHidden": false
   },
   "source": [
    "Do some self-directed research to learn about different types of continuous distributions (guassian, gamma, exponential, etc.). Can you identify a distribution that you think could generated each of the three data files you observe above? If so, what kind of distributions? Explain each one for each file."
   ]
  },
  {
   "cell_type": "markdown",
   "metadata": {},
   "source": [
    "**PROBLEM**: What might be the distribution of `data1.txt`? \n",
    "\n",
    "It might be a gamma distribution. It could also be a beta distribution but the logarithm of it does not return a distribution with only negativ values. Thus we can conclude that it is in fact a gamma distribution."
   ]
  },
  {
   "cell_type": "markdown",
   "metadata": {},
   "source": [
    "\n"
   ]
  },
  {
   "cell_type": "markdown",
   "metadata": {},
   "source": [
    "**PROBLEM**: What might be the distribution of `data2.txt`?\n",
    "\n",
    "It might be a beta distribution, because applying the logarithm of it gives a distribution with only negativ values."
   ]
  },
  {
   "cell_type": "markdown",
   "metadata": {},
   "source": [
    "\n"
   ]
  },
  {
   "cell_type": "markdown",
   "metadata": {},
   "source": [
    "**PROBLEM**: What might be the distribution of `data3.txt`?\n",
    "\n",
    "It might be a Log-normal distribution, because by applying the logarithm on the data, we see a normal distrubtion."
   ]
  },
  {
   "cell_type": "markdown",
   "metadata": {},
   "source": [
    "\n"
   ]
  },
  {
   "cell_type": "markdown",
   "metadata": {},
   "source": [
    "### Estimate parameters for the distributions"
   ]
  },
  {
   "cell_type": "markdown",
   "metadata": {},
   "source": [
    "**PROBLEM**: Based on your guess as to the true distribution of the distribution for the `data1.txt` sample, estimate parameters for that distribution."
   ]
  },
  {
   "cell_type": "code",
   "execution_count": 143,
   "metadata": {},
   "outputs": [
    {
     "name": "stdout",
     "output_type": "stream",
     "text": [
      "(4.806326226036164, 0.13107019942532222, 1.0080064278223309)\n"
     ]
    }
   ],
   "source": [
    "parameters = gamma.fit(data1)\n",
    "print(parameters)"
   ]
  },
  {
   "cell_type": "markdown",
   "metadata": {},
   "source": [
    "**PROBLEM**: Based on your guess as to the true distribution of the distribution for the `data2.txt` sample, estimate parameters for that distribution."
   ]
  },
  {
   "cell_type": "code",
   "execution_count": 144,
   "metadata": {},
   "outputs": [
    {
     "name": "stdout",
     "output_type": "stream",
     "text": [
      "(2.0795534252326036, 10.770049940977472, -0.0010433382783147755, 1.0410031987598831)\n"
     ]
    }
   ],
   "source": [
    "parameters = beta.fit(data2)\n",
    "print(parameters)"
   ]
  },
  {
   "cell_type": "markdown",
   "metadata": {},
   "source": [
    "**PROBLEM**: Based on your guess as to the true distribution of the distribution for the `data3.txt` sample, estimate parameters for that distribution."
   ]
  },
  {
   "cell_type": "code",
   "execution_count": 145,
   "metadata": {},
   "outputs": [
    {
     "name": "stdout",
     "output_type": "stream",
     "text": [
      "(0.19077296304554658, -0.03900961681303078, 1.036239032984593)\n"
     ]
    }
   ],
   "source": [
    "parameters = lognorm.fit(data3)\n",
    "print(parameters)"
   ]
  },
  {
   "cell_type": "markdown",
   "metadata": {},
   "source": [
    "### Comment on your estimated parameters for the above distributions"
   ]
  },
  {
   "cell_type": "markdown",
   "metadata": {},
   "source": [
    "**PROBLEM**: Will the estimated parameters reported in Question 6 above be the **_True_** population parameters? Why or why not?"
   ]
  },
  {
   "cell_type": "markdown",
   "metadata": {},
   "source": [
    "\n",
    "\n"
   ]
  },
  {
   "cell_type": "markdown",
   "metadata": {},
   "source": [
    "# Part 6: Plot some Theoretical Distributions \n",
    "\n",
    "In the previous section, you examined empirical distributions for three files. Now you will plot the theoretical probability density function (pdf) from one particular distribution: the Beta distribution.   \n",
    "\n",
    "The Beta distribution has two parameters: $\\alpha$ and $\\beta$).\n"
   ]
  },
  {
   "cell_type": "markdown",
   "metadata": {},
   "source": [
    "**PROBLEM**: Plot the **pdf** for a beta distribution with parameters $\\alpha = 2$ and $\\beta = 5$."
   ]
  },
  {
   "cell_type": "code",
   "execution_count": 199,
   "metadata": {},
   "outputs": [
    {
     "data": {
      "text/plain": [
       "<matplotlib.axes._subplots.AxesSubplot at 0x1a1f1a1e10>"
      ]
     },
     "execution_count": 199,
     "metadata": {},
     "output_type": "execute_result"
    },
    {
     "data": {
      "image/png": "[encoded data removed]",
      "text/plain": [
       "<Figure size 432x288 with 1 Axes>"
      ]
     },
     "metadata": {
      "needs_background": "light"
     },
     "output_type": "display_data"
    }
   ],
   "source": [
    "beta_data = beta.rvs(2,5,size=100000)\n",
    "sns.distplot(beta_data) "
   ]
  },
  {
   "cell_type": "markdown",
   "metadata": {},
   "source": [
    "**PROBLEM**: Now plot the same pdf with vertical lines and labels for the lines at the mean, median, and mode of the same distribution as above."
   ]
  },
  {
   "cell_type": "code",
   "execution_count": 201,
   "metadata": {},
   "outputs": [
    {
     "data": {
      "text/plain": [
       "<matplotlib.lines.Line2D at 0x1a1d08eb70>"
      ]
     },
     "execution_count": 201,
     "metadata": {},
     "output_type": "execute_result"
    },
    {
     "data": {
      "image/png": "[encoded data removed]",
      "text/plain": [
       "<Figure size 432x288 with 1 Axes>"
      ]
     },
     "metadata": {
      "needs_background": "light"
     },
     "output_type": "display_data"
    }
   ],
   "source": [
    "from collections import Counter \n",
    "\n",
    "plot_histogram(beta_data)\n",
    "# plot mean\n",
    "mean = np.mean(beta_data)\n",
    "plt.axvline(x=mean, color='red')\n",
    "# plot median\n",
    "median = np.median(beta_data)\n",
    "plt.axvline(x=median, color='green')\n",
    "# plot mode"
   ]
  },
  {
   "cell_type": "markdown",
   "metadata": {},
   "source": [
    "**PROBLEM**: Comment on why (intuitively) the mean, median and mode are ordered as shown above. \n",
    "\n",
    "Very big values tend to pull the mean toward the right. The median seperates two equal areas under the curve so it makes sense that it is placed on the left of the mean. The mode crosses the maximum of the distribution."
   ]
  },
  {
   "cell_type": "markdown",
   "metadata": {},
   "source": [
    "\n",
    "\n"
   ]
  },
  {
   "cell_type": "markdown",
   "metadata": {},
   "source": [
    "**PROBLEM**: Comment on the nature of the probability distribution function for the outcome. What's the distribution skew and kurtosis? How can we interpret skewness? Why does skewness matter? What migh be a remedy to \"de-skew\" data?\n",
    "\n",
    "Skewness is a measure of the asymmetry of the probability distribution of a real-valued random variable about its mean. For this beta distribution, we compute a postitive skew which describe quantitatively the distance between the mean and the median.\n",
    "\n",
    "kurtosis is a measure of the \"tailedness\" of the probability distribution. We compute a negative kurtosis which indicates that the distribution has lighter tails and a flatter peak than the normal distribution.\n",
    "\n",
    "Both of these describe the shape of the probabiliy distribution. "
   ]
  },
  {
   "cell_type": "code",
   "execution_count": 209,
   "metadata": {},
   "outputs": [
    {
     "name": "stdout",
     "output_type": "stream",
     "text": [
      "0.5962847939999439 -0.12\n"
     ]
    }
   ],
   "source": [
    "# compute skewness and kurtosis to use in your answer\n",
    "mean, var, skew, kurt = beta.stats(2, 5, moments='mvsk')\n",
    "print(skew,kurt)\n"
   ]
  },
  {
   "cell_type": "markdown",
   "metadata": {},
   "source": [
    "\n",
    "\n"
   ]
  }
 ],
 "metadata": {
  "kernelspec": {
   "display_name": "Python 3",
   "language": "python",
   "name": "python3"
  },
  "language_info": {
   "codemirror_mode": {
    "name": "ipython",
    "version": 3
   },
   "file_extension": ".py",
   "mimetype": "text/x-python",
   "name": "python",
   "nbconvert_exporter": "python",
   "pygments_lexer": "ipython3",
   "version": "3.6.8"
  }
 },
 "nbformat": 4,
 "nbformat_minor": 2
}
